{
 "cells": [
  {
   "cell_type": "code",
   "execution_count": 1,
   "metadata": {},
   "outputs": [],
   "source": [
    "# Imports\n",
    "from selenium import webdriver\n",
    "from selenium.webdriver.common.keys import Keys\n",
    "from selenium.webdriver.support import expected_conditions as EC\n",
    "from selenium.webdriver.common.by import By\n",
    "from selenium.webdriver.support.wait import WebDriverWait\n",
    "import time\n",
    "import bs4\n",
    "import pandas as pd\n",
    "from itertools import repeat"
   ]
  },
  {
   "cell_type": "code",
   "execution_count": 2,
   "metadata": {},
   "outputs": [
    {
     "name": "stderr",
     "output_type": "stream",
     "text": [
      "C:\\Users\\zheny\\AppData\\Local\\Temp/ipykernel_18472/1264955643.py:2: DeprecationWarning: executable_path has been deprecated, please pass in a Service object\n",
      "  driver = webdriver.Chrome('C:/Users/zheny/Downloads/chromedriver')\n"
     ]
    }
   ],
   "source": [
    "# Path of WebDriver\n",
    "driver = webdriver.Chrome('C:/Users/zheny/Downloads/chromedriver')\n",
    "\n",
    "# Open Webpage Link\n",
    "driver.get(\"https://www.linkedin.com\")\n",
    "\n",
    "# Locate username and password searchbox\n",
    "username = WebDriverWait(driver, 10).until(EC.element_to_be_clickable((By.CSS_SELECTOR, \n",
    "                                                                       \"input[name='session_key']\")))\n",
    "\n",
    "password = WebDriverWait(driver, 10).until(EC.element_to_be_clickable((By.CSS_SELECTOR, \n",
    "                                                                       \"input[name='session_password']\")))"
   ]
  },
  {
   "cell_type": "code",
   "execution_count": 3,
   "metadata": {},
   "outputs": [],
   "source": [
    "# Enter username and passworod searchbox \n",
    "username.clear()\n",
    "username.send_keys(\"zhenyuen_168_2009@hotmail.com\") # fill in username here\n",
    "password.clear()\n",
    "password.send_keys(\"ngzhyuen5\") # fill in password here\n",
    "button = WebDriverWait(driver, 2).until(EC.element_to_be_clickable((By.CSS_SELECTOR, \"button[type='submit']\"))).click()"
   ]
  },
  {
   "cell_type": "code",
   "execution_count": 4,
   "metadata": {},
   "outputs": [],
   "source": [
    "companies = ['American Express', 'Ebay', 'Visa', 'Amazon', 'Facebook', 'Exxon Mobil', 'General Electric', 'Home Depot', 'Pepsico', 'Pfizer', 'Procter and Gamble', 'United Health Group', 'Walmart']"
   ]
  },
  {
   "cell_type": "code",
   "execution_count": 5,
   "metadata": {},
   "outputs": [],
   "source": [
    "def search_companies(x):\n",
    "    SCROLL_PAUSE_TIME = 3\n",
    "    driver.find_element(By.XPATH, \"//input[contains(@aria-label, 'Search')]\").click()\n",
    "    driver.find_element(By.CLASS_NAME, 'search-global-typeahead__input').send_keys(x, Keys.ENTER)\n",
    "    driver.implicitly_wait(10)\n",
    "    driver.find_element(By.XPATH, '//button[text()=\"Companies\"]').click()\n",
    "    result = driver.find_elements(By.XPATH, \"//li[@class = 'reusable-search__result-container ']\")\n",
    "    result[0].click()\n",
    "    time.sleep(SCROLL_PAUSE_TIME)\n",
    "    driver.find_element_by_tag_name('body').send_keys(Keys.CONTROL + Keys.HOME)\n",
    "    time.sleep(SCROLL_PAUSE_TIME)\n",
    "    driver.find_element(By.XPATH, \"//a[text() = 'Posts']\").click()\n",
    "    \n",
    "    "
   ]
  },
  {
   "cell_type": "code",
   "execution_count": 6,
   "metadata": {},
   "outputs": [],
   "source": [
    "def scrape_codes(company_name):\n",
    "    driver.implicitly_wait(5)\n",
    "    # Scroll down to bottom\n",
    "    SCROLL_PAUSE_TIME = 1.5\n",
    "\n",
    "\n",
    "    # Get scroll height\n",
    "    last_height = driver.execute_script(\"return document.body.scrollHeight\")\n",
    "\n",
    "    while True:\n",
    "        # Scroll down to bottom\n",
    "        driver.execute_script(\"window.scrollTo(0, document.body.scrollHeight);\")\n",
    "\n",
    "        # Wait to load page\n",
    "        time.sleep(SCROLL_PAUSE_TIME)\n",
    "\n",
    "        # Calculate new scroll height and compare with last scroll height\n",
    "        new_height = driver.execute_script(\"return document.body.scrollHeight\")\n",
    "        if new_height == last_height:\n",
    "            break\n",
    "        last_height = new_height\n",
    "        \n",
    "    time.sleep(SCROLL_PAUSE_TIME)    \n",
    "    driver.find_element_by_tag_name('body').send_keys(Keys.CONTROL + Keys.HOME)\n",
    "    driver.find_element_by_tag_name('body').send_keys(Keys.CONTROL + Keys.HOME)\n",
    "    \n",
    "    postsbutton = driver.find_elements_by_xpath(\"//button[contains(@aria-label, 'see more')]\")\n",
    "    for x in range(0,len(postsbutton)):\n",
    "        if postsbutton[x].is_displayed():\n",
    "            postsbutton[x].click()\n",
    "            \n",
    "    # Get the page source\n",
    "    source=driver.page_source\n",
    "    test_soup=bs4.BeautifulSoup(source)\n",
    "\n",
    "    article_list = test_soup.find_all(\"div\" , class_=\"feed-shared-update-v2\")\n",
    "    text_list=[]\n",
    "    date_list = []\n",
    "    reaction_list = []\n",
    "    comments_list = []\n",
    "    repost_list = []\n",
    "\n",
    "    for article in article_list:\n",
    "        sentenceList=[]\n",
    "        for i in (article.find_all(\"div\", class_= \"feed-shared-update-v2__description-wrapper\")):\n",
    "            sentenceList.append(i.text)\n",
    "            \n",
    "        text_list.append(\" \".join(sentenceList))\n",
    "        newTextList = [s.replace(\"\\n\", \"\") for s in text_list]\n",
    "        \n",
    "        # Get date\n",
    "        date = article.find(\"div\", class_ = \"update-components-actor__meta relative\").text\n",
    "        date_list.append(date)\n",
    "        \n",
    "        # Get reaction\n",
    "        reaction = article.find(\"span\", class_='social-details-social-counts__reactions-count').text\n",
    "        reaction_list.append(reaction)\n",
    "        \n",
    "        # Get comments\n",
    "        try:\n",
    "            comments = article.find(\"li\", class_=\"social-details-social-counts__item social-details-social-counts__comments social-details-social-counts__item--with-social-proof\").text\n",
    "            comments_list.append(comments)\n",
    "        \n",
    "        except AttributeError as e:\n",
    "            comments_list.append(0)\n",
    "        # repost = article.find(\"button\", id = \"ember8005\").text\n",
    "        # repost_list.append(repost)\n",
    "        \n",
    "    company_list=[]\n",
    "        \n",
    "    company_list.extend(repeat(company_name,len(newTextList)))\n",
    "    company_df = pd.DataFrame(list(zip(newTextList, company_list, date_list, reaction_list, comments_list)),\n",
    "                                                columns =['posts', 'company', 'date', 'reaction', 'comments'])\n",
    "    return company_df"
   ]
  },
  {
   "cell_type": "code",
   "execution_count": 7,
   "metadata": {},
   "outputs": [],
   "source": [
    "def get_parameters(x):\n",
    "    import re \n",
    "    date = re.search('(\\d+\\s\\w+\\sago)', x['date'])\n",
    "    comments = re.search('(\\d+) comments', str(x['comments']))\n",
    "    \n",
    "    if date:\n",
    "        x['revised_date'] = date[0]\n",
    "\n",
    "    else:\n",
    "        x['revised_date'] = \"\"\n",
    "        \n",
    "    if comments:\n",
    "        x['revised_comments'] = comments[0].split()[0]\n",
    "    elif x['comments']:\n",
    "        x['revised_comments'] = 0\n",
    "        \n",
    "    else:\n",
    "        x['revised_comments'] = 1\n",
    "    return x"
   ]
  },
  {
   "cell_type": "code",
   "execution_count": 8,
   "metadata": {},
   "outputs": [],
   "source": [
    "def get_days(x):\n",
    "    value = 0\n",
    "    if x == 'month' or x == 'months':\n",
    "        value = 30\n",
    "        \n",
    "    elif x == 'week' or x == 'weeks':\n",
    "        value = 7\n",
    "        \n",
    "    elif x == 'year':\n",
    "        value = 365\n",
    "        \n",
    "    else:\n",
    "        value = 1\n",
    "        \n",
    "    return value"
   ]
  },
  {
   "cell_type": "code",
   "execution_count": 9,
   "metadata": {},
   "outputs": [],
   "source": [
    "from datetime import datetime, timedelta\n",
    "def get_final_date(x):\n",
    "    np_days = x['number'] * x['multiplier']\n",
    "    date = datetime.today() - timedelta(days = np_days)\n",
    "    x['date_final'] = date\n",
    "    \n",
    "    return x"
   ]
  },
  {
   "cell_type": "code",
   "execution_count": 14,
   "metadata": {},
   "outputs": [],
   "source": [
    "count = 0\n",
    "for i in companies:\n",
    "    search_companies(i)\n",
    "    df = scrape_codes(i)\n",
    "    if count == 0:\n",
    "        full_df = df\n",
    "        \n",
    "    else:\n",
    "        full_df = pd.concat([full_df, df])\n",
    "\n",
    "    count += 1  "
   ]
  },
  {
   "cell_type": "code",
   "execution_count": 16,
   "metadata": {},
   "outputs": [
    {
     "data": {
      "text/html": [
       "<div>\n",
       "<style scoped>\n",
       "    .dataframe tbody tr th:only-of-type {\n",
       "        vertical-align: middle;\n",
       "    }\n",
       "\n",
       "    .dataframe tbody tr th {\n",
       "        vertical-align: top;\n",
       "    }\n",
       "\n",
       "    .dataframe thead th {\n",
       "        text-align: right;\n",
       "    }\n",
       "</style>\n",
       "<table border=\"1\" class=\"dataframe\">\n",
       "  <thead>\n",
       "    <tr style=\"text-align: right;\">\n",
       "      <th></th>\n",
       "      <th>posts</th>\n",
       "      <th>company</th>\n",
       "      <th>date</th>\n",
       "      <th>reaction</th>\n",
       "      <th>comments</th>\n",
       "    </tr>\n",
       "  </thead>\n",
       "  <tbody>\n",
       "    <tr>\n",
       "      <th>0</th>\n",
       "      <td>We celebrated our 2022 Customer Service Award...</td>\n",
       "      <td>American Express</td>\n",
       "      <td>\\n\\n\\nAmerican Express\\n\\n \\n\\n            1,7...</td>\n",
       "      <td>1,494</td>\n",
       "      <td>\\n\\n\\n          23 comments\\n        \\n\\n</td>\n",
       "    </tr>\n",
       "    <tr>\n",
       "      <th>1</th>\n",
       "      <td>American Express Travel has unveiled its Tren...</td>\n",
       "      <td>American Express</td>\n",
       "      <td>\\n\\n\\nAmerican Express\\n\\n \\n\\n            1,7...</td>\n",
       "      <td>514</td>\n",
       "      <td>\\n\\n\\n          4 comments\\n        \\n\\n</td>\n",
       "    </tr>\n",
       "    <tr>\n",
       "      <th>2</th>\n",
       "      <td>We flew our 2022 Customer Service Award winne...</td>\n",
       "      <td>American Express</td>\n",
       "      <td>\\n\\n\\nAmerican Express\\n\\n \\n\\n            1,7...</td>\n",
       "      <td>1,303</td>\n",
       "      <td>\\n\\n\\n          19 comments\\n        \\n\\n</td>\n",
       "    </tr>\n",
       "    <tr>\n",
       "      <th>0</th>\n",
       "      <td>Today we announced our Q3 2022 results: Reven...</td>\n",
       "      <td>Ebay</td>\n",
       "      <td>\\n\\n\\neBay\\n\\n \\n\\n            521,203 followe...</td>\n",
       "      <td>344</td>\n",
       "      <td>\\n\\n\\n          2 comments\\n        \\n\\n</td>\n",
       "    </tr>\n",
       "    <tr>\n",
       "      <th>1</th>\n",
       "      <td>Accessibility is a fundamental pillar of eBay...</td>\n",
       "      <td>Ebay</td>\n",
       "      <td>\\n\\n\\neBay\\n\\n \\n\\n            521,203 followe...</td>\n",
       "      <td>48</td>\n",
       "      <td>\\n\\n\\n          2 comments\\n        \\n\\n</td>\n",
       "    </tr>\n",
       "    <tr>\n",
       "      <th>...</th>\n",
       "      <td>...</td>\n",
       "      <td>...</td>\n",
       "      <td>...</td>\n",
       "      <td>...</td>\n",
       "      <td>...</td>\n",
       "    </tr>\n",
       "    <tr>\n",
       "      <th>401</th>\n",
       "      <td>Walmart Chile will roll out electrical vehicl...</td>\n",
       "      <td>Walmart</td>\n",
       "      <td>\\n\\n\\nWalmart\\n\\n \\n\\n            4,126,506 fo...</td>\n",
       "      <td>875</td>\n",
       "      <td>\\n\\n\\n          19 comments\\n        \\n\\n</td>\n",
       "    </tr>\n",
       "    <tr>\n",
       "      <th>402</th>\n",
       "      <td>This Veterans Day, as in all those past, we’r...</td>\n",
       "      <td>Walmart</td>\n",
       "      <td>\\n\\n\\nWalmart\\n\\n \\n\\n            4,126,506 fo...</td>\n",
       "      <td>450</td>\n",
       "      <td>\\n\\n\\n          13 comments\\n        \\n\\n</td>\n",
       "    </tr>\n",
       "    <tr>\n",
       "      <th>403</th>\n",
       "      <td>We believe we’re at our best when we promote ...</td>\n",
       "      <td>Walmart</td>\n",
       "      <td>\\n\\n\\nWalmart\\n\\n \\n\\n            4,126,506 fo...</td>\n",
       "      <td>610</td>\n",
       "      <td>\\n\\n\\n          18 comments\\n        \\n\\n</td>\n",
       "    </tr>\n",
       "    <tr>\n",
       "      <th>404</th>\n",
       "      <td>We're proud to be named a 2021 TxN 20 Honoree...</td>\n",
       "      <td>Walmart</td>\n",
       "      <td>\\n\\n\\nWalmart\\n\\n \\n\\n            4,126,506 fo...</td>\n",
       "      <td>609</td>\n",
       "      <td>\\n\\n\\n          35 comments\\n        \\n\\n</td>\n",
       "    </tr>\n",
       "    <tr>\n",
       "      <th>405</th>\n",
       "      <td>We’re revolutionizing insulin access and affo...</td>\n",
       "      <td>Walmart</td>\n",
       "      <td>\\n\\n\\nWalmart\\n\\n \\n\\n            4,126,506 fo...</td>\n",
       "      <td>461</td>\n",
       "      <td>\\n\\n\\n          12 comments\\n        \\n\\n</td>\n",
       "    </tr>\n",
       "  </tbody>\n",
       "</table>\n",
       "<p>2881 rows × 5 columns</p>\n",
       "</div>"
      ],
      "text/plain": [
       "                                                 posts           company  \\\n",
       "0     We celebrated our 2022 Customer Service Award...  American Express   \n",
       "1     American Express Travel has unveiled its Tren...  American Express   \n",
       "2     We flew our 2022 Customer Service Award winne...  American Express   \n",
       "0     Today we announced our Q3 2022 results: Reven...              Ebay   \n",
       "1     Accessibility is a fundamental pillar of eBay...              Ebay   \n",
       "..                                                 ...               ...   \n",
       "401   Walmart Chile will roll out electrical vehicl...           Walmart   \n",
       "402   This Veterans Day, as in all those past, we’r...           Walmart   \n",
       "403   We believe we’re at our best when we promote ...           Walmart   \n",
       "404   We're proud to be named a 2021 TxN 20 Honoree...           Walmart   \n",
       "405   We’re revolutionizing insulin access and affo...           Walmart   \n",
       "\n",
       "                                                  date reaction  \\\n",
       "0    \\n\\n\\nAmerican Express\\n\\n \\n\\n            1,7...    1,494   \n",
       "1    \\n\\n\\nAmerican Express\\n\\n \\n\\n            1,7...      514   \n",
       "2    \\n\\n\\nAmerican Express\\n\\n \\n\\n            1,7...    1,303   \n",
       "0    \\n\\n\\neBay\\n\\n \\n\\n            521,203 followe...      344   \n",
       "1    \\n\\n\\neBay\\n\\n \\n\\n            521,203 followe...       48   \n",
       "..                                                 ...      ...   \n",
       "401  \\n\\n\\nWalmart\\n\\n \\n\\n            4,126,506 fo...      875   \n",
       "402  \\n\\n\\nWalmart\\n\\n \\n\\n            4,126,506 fo...      450   \n",
       "403  \\n\\n\\nWalmart\\n\\n \\n\\n            4,126,506 fo...      610   \n",
       "404  \\n\\n\\nWalmart\\n\\n \\n\\n            4,126,506 fo...      609   \n",
       "405  \\n\\n\\nWalmart\\n\\n \\n\\n            4,126,506 fo...      461   \n",
       "\n",
       "                                      comments  \n",
       "0    \\n\\n\\n          23 comments\\n        \\n\\n  \n",
       "1     \\n\\n\\n          4 comments\\n        \\n\\n  \n",
       "2    \\n\\n\\n          19 comments\\n        \\n\\n  \n",
       "0     \\n\\n\\n          2 comments\\n        \\n\\n  \n",
       "1     \\n\\n\\n          2 comments\\n        \\n\\n  \n",
       "..                                         ...  \n",
       "401  \\n\\n\\n          19 comments\\n        \\n\\n  \n",
       "402  \\n\\n\\n          13 comments\\n        \\n\\n  \n",
       "403  \\n\\n\\n          18 comments\\n        \\n\\n  \n",
       "404  \\n\\n\\n          35 comments\\n        \\n\\n  \n",
       "405  \\n\\n\\n          12 comments\\n        \\n\\n  \n",
       "\n",
       "[2881 rows x 5 columns]"
      ]
     },
     "execution_count": 16,
     "metadata": {},
     "output_type": "execute_result"
    }
   ],
   "source": [
    "full_df"
   ]
  },
  {
   "cell_type": "code",
   "execution_count": 17,
   "metadata": {},
   "outputs": [],
   "source": [
    "full_df.reset_index(drop = True, inplace = True)"
   ]
  },
  {
   "cell_type": "code",
   "execution_count": 18,
   "metadata": {},
   "outputs": [],
   "source": [
    "full_df = full_df.apply(get_parameters, axis = 1)"
   ]
  },
  {
   "cell_type": "code",
   "execution_count": 19,
   "metadata": {},
   "outputs": [],
   "source": [
    "full_df['number'] = full_df['revised_date'].apply(lambda x: x.split()[0])\n",
    "full_df['type'] = full_df['revised_date'].apply(lambda x: x.split()[1])\n",
    "full_df[['revised_comments', 'number']] = full_df[['revised_comments', 'number']].astype(int)\n"
   ]
  },
  {
   "cell_type": "code",
   "execution_count": 20,
   "metadata": {},
   "outputs": [],
   "source": [
    "full_df['multiplier'] = full_df['type'].apply(get_days)\n",
    "full_df = full_df.apply(get_final_date, axis = 1)\n",
    "full_df['date_final'] = pd.to_datetime(full_df['date_final']).dt.date"
   ]
  },
  {
   "cell_type": "code",
   "execution_count": 21,
   "metadata": {},
   "outputs": [
    {
     "data": {
      "text/html": [
       "<div>\n",
       "<style scoped>\n",
       "    .dataframe tbody tr th:only-of-type {\n",
       "        vertical-align: middle;\n",
       "    }\n",
       "\n",
       "    .dataframe tbody tr th {\n",
       "        vertical-align: top;\n",
       "    }\n",
       "\n",
       "    .dataframe thead th {\n",
       "        text-align: right;\n",
       "    }\n",
       "</style>\n",
       "<table border=\"1\" class=\"dataframe\">\n",
       "  <thead>\n",
       "    <tr style=\"text-align: right;\">\n",
       "      <th></th>\n",
       "      <th>posts</th>\n",
       "      <th>company</th>\n",
       "      <th>date</th>\n",
       "      <th>comments</th>\n",
       "      <th>reaction</th>\n",
       "    </tr>\n",
       "  </thead>\n",
       "  <tbody>\n",
       "    <tr>\n",
       "      <th>0</th>\n",
       "      <td>We celebrated our 2022 Customer Service Award...</td>\n",
       "      <td>American Express</td>\n",
       "      <td>2022-10-28</td>\n",
       "      <td>23</td>\n",
       "      <td>1,494</td>\n",
       "    </tr>\n",
       "    <tr>\n",
       "      <th>1</th>\n",
       "      <td>American Express Travel has unveiled its Tren...</td>\n",
       "      <td>American Express</td>\n",
       "      <td>2022-11-03</td>\n",
       "      <td>4</td>\n",
       "      <td>514</td>\n",
       "    </tr>\n",
       "    <tr>\n",
       "      <th>2</th>\n",
       "      <td>We flew our 2022 Customer Service Award winne...</td>\n",
       "      <td>American Express</td>\n",
       "      <td>2022-10-28</td>\n",
       "      <td>19</td>\n",
       "      <td>1,303</td>\n",
       "    </tr>\n",
       "    <tr>\n",
       "      <th>3</th>\n",
       "      <td>Today we announced our Q3 2022 results: Reven...</td>\n",
       "      <td>Ebay</td>\n",
       "      <td>2022-10-15</td>\n",
       "      <td>2</td>\n",
       "      <td>344</td>\n",
       "    </tr>\n",
       "    <tr>\n",
       "      <th>4</th>\n",
       "      <td>Accessibility is a fundamental pillar of eBay...</td>\n",
       "      <td>Ebay</td>\n",
       "      <td>2022-11-03</td>\n",
       "      <td>2</td>\n",
       "      <td>48</td>\n",
       "    </tr>\n",
       "    <tr>\n",
       "      <th>...</th>\n",
       "      <td>...</td>\n",
       "      <td>...</td>\n",
       "      <td>...</td>\n",
       "      <td>...</td>\n",
       "      <td>...</td>\n",
       "    </tr>\n",
       "    <tr>\n",
       "      <th>2876</th>\n",
       "      <td>Walmart Chile will roll out electrical vehicl...</td>\n",
       "      <td>Walmart</td>\n",
       "      <td>2021-11-04</td>\n",
       "      <td>19</td>\n",
       "      <td>875</td>\n",
       "    </tr>\n",
       "    <tr>\n",
       "      <th>2877</th>\n",
       "      <td>This Veterans Day, as in all those past, we’r...</td>\n",
       "      <td>Walmart</td>\n",
       "      <td>2021-11-04</td>\n",
       "      <td>13</td>\n",
       "      <td>450</td>\n",
       "    </tr>\n",
       "    <tr>\n",
       "      <th>2878</th>\n",
       "      <td>We believe we’re at our best when we promote ...</td>\n",
       "      <td>Walmart</td>\n",
       "      <td>2021-11-04</td>\n",
       "      <td>18</td>\n",
       "      <td>610</td>\n",
       "    </tr>\n",
       "    <tr>\n",
       "      <th>2879</th>\n",
       "      <td>We're proud to be named a 2021 TxN 20 Honoree...</td>\n",
       "      <td>Walmart</td>\n",
       "      <td>2021-11-04</td>\n",
       "      <td>35</td>\n",
       "      <td>609</td>\n",
       "    </tr>\n",
       "    <tr>\n",
       "      <th>2880</th>\n",
       "      <td>We’re revolutionizing insulin access and affo...</td>\n",
       "      <td>Walmart</td>\n",
       "      <td>2021-11-04</td>\n",
       "      <td>12</td>\n",
       "      <td>461</td>\n",
       "    </tr>\n",
       "  </tbody>\n",
       "</table>\n",
       "<p>2881 rows × 5 columns</p>\n",
       "</div>"
      ],
      "text/plain": [
       "                                                  posts           company  \\\n",
       "0      We celebrated our 2022 Customer Service Award...  American Express   \n",
       "1      American Express Travel has unveiled its Tren...  American Express   \n",
       "2      We flew our 2022 Customer Service Award winne...  American Express   \n",
       "3      Today we announced our Q3 2022 results: Reven...              Ebay   \n",
       "4      Accessibility is a fundamental pillar of eBay...              Ebay   \n",
       "...                                                 ...               ...   \n",
       "2876   Walmart Chile will roll out electrical vehicl...           Walmart   \n",
       "2877   This Veterans Day, as in all those past, we’r...           Walmart   \n",
       "2878   We believe we’re at our best when we promote ...           Walmart   \n",
       "2879   We're proud to be named a 2021 TxN 20 Honoree...           Walmart   \n",
       "2880   We’re revolutionizing insulin access and affo...           Walmart   \n",
       "\n",
       "            date  comments reaction  \n",
       "0     2022-10-28        23    1,494  \n",
       "1     2022-11-03         4      514  \n",
       "2     2022-10-28        19    1,303  \n",
       "3     2022-10-15         2      344  \n",
       "4     2022-11-03         2       48  \n",
       "...          ...       ...      ...  \n",
       "2876  2021-11-04        19      875  \n",
       "2877  2021-11-04        13      450  \n",
       "2878  2021-11-04        18      610  \n",
       "2879  2021-11-04        35      609  \n",
       "2880  2021-11-04        12      461  \n",
       "\n",
       "[2881 rows x 5 columns]"
      ]
     },
     "execution_count": 21,
     "metadata": {},
     "output_type": "execute_result"
    }
   ],
   "source": [
    "full_df = full_df[['posts', 'company', 'date_final', 'revised_comments', 'reaction']]\n",
    "full_df.columns = ['posts', 'company', 'date', 'comments', 'reaction']\n",
    "full_df"
   ]
  },
  {
   "cell_type": "code",
   "execution_count": 22,
   "metadata": {},
   "outputs": [
    {
     "data": {
      "text/html": [
       "<div>\n",
       "<style scoped>\n",
       "    .dataframe tbody tr th:only-of-type {\n",
       "        vertical-align: middle;\n",
       "    }\n",
       "\n",
       "    .dataframe tbody tr th {\n",
       "        vertical-align: top;\n",
       "    }\n",
       "\n",
       "    .dataframe thead th {\n",
       "        text-align: right;\n",
       "    }\n",
       "</style>\n",
       "<table border=\"1\" class=\"dataframe\">\n",
       "  <thead>\n",
       "    <tr style=\"text-align: right;\">\n",
       "      <th></th>\n",
       "      <th>posts</th>\n",
       "      <th>company</th>\n",
       "      <th>date</th>\n",
       "      <th>comments</th>\n",
       "      <th>reaction</th>\n",
       "      <th>month_year</th>\n",
       "    </tr>\n",
       "  </thead>\n",
       "  <tbody>\n",
       "    <tr>\n",
       "      <th>2880</th>\n",
       "      <td>We’re revolutionizing insulin access and affo...</td>\n",
       "      <td>Walmart</td>\n",
       "      <td>2021-11-04</td>\n",
       "      <td>12</td>\n",
       "      <td>461</td>\n",
       "      <td>November-2021</td>\n",
       "    </tr>\n",
       "    <tr>\n",
       "      <th>306</th>\n",
       "      <td>T.R. Ramachandran, Group Country Manager for ...</td>\n",
       "      <td>Visa</td>\n",
       "      <td>2021-11-04</td>\n",
       "      <td>1</td>\n",
       "      <td>158</td>\n",
       "      <td>November-2021</td>\n",
       "    </tr>\n",
       "    <tr>\n",
       "      <th>305</th>\n",
       "      <td>Consumers are at the heart of everything Visa...</td>\n",
       "      <td>Visa</td>\n",
       "      <td>2021-11-04</td>\n",
       "      <td>3</td>\n",
       "      <td>263</td>\n",
       "      <td>November-2021</td>\n",
       "    </tr>\n",
       "    <tr>\n",
       "      <th>304</th>\n",
       "      <td>What is Visa doing in the buy now, pay later ...</td>\n",
       "      <td>Visa</td>\n",
       "      <td>2021-11-04</td>\n",
       "      <td>1</td>\n",
       "      <td>183</td>\n",
       "      <td>November-2021</td>\n",
       "    </tr>\n",
       "    <tr>\n",
       "      <th>303</th>\n",
       "      <td>Cuy Sheffield, Global head of Crypto, explain...</td>\n",
       "      <td>Visa</td>\n",
       "      <td>2021-11-04</td>\n",
       "      <td>0</td>\n",
       "      <td>213</td>\n",
       "      <td>November-2021</td>\n",
       "    </tr>\n",
       "    <tr>\n",
       "      <th>...</th>\n",
       "      <td>...</td>\n",
       "      <td>...</td>\n",
       "      <td>...</td>\n",
       "      <td>...</td>\n",
       "      <td>...</td>\n",
       "      <td>...</td>\n",
       "    </tr>\n",
       "    <tr>\n",
       "      <th>2336</th>\n",
       "      <td>While attending the #IGNITION2022 Experience,...</td>\n",
       "      <td>United Health Group</td>\n",
       "      <td>2022-11-03</td>\n",
       "      <td>2</td>\n",
       "      <td>102</td>\n",
       "      <td>November-2022</td>\n",
       "    </tr>\n",
       "    <tr>\n",
       "      <th>1838</th>\n",
       "      <td>“The river has always taken care of the peopl...</td>\n",
       "      <td>Procter and Gamble</td>\n",
       "      <td>2022-11-03</td>\n",
       "      <td>3</td>\n",
       "      <td>293</td>\n",
       "      <td>November-2022</td>\n",
       "    </tr>\n",
       "    <tr>\n",
       "      <th>1839</th>\n",
       "      <td>#DYK that Black History Month is celebrated i...</td>\n",
       "      <td>Procter and Gamble</td>\n",
       "      <td>2022-11-03</td>\n",
       "      <td>1</td>\n",
       "      <td>57</td>\n",
       "      <td>November-2022</td>\n",
       "    </tr>\n",
       "    <tr>\n",
       "      <th>1690</th>\n",
       "      <td>It takes great bravery and honor to serve in ...</td>\n",
       "      <td>Pfizer</td>\n",
       "      <td>2022-11-03</td>\n",
       "      <td>2</td>\n",
       "      <td>171</td>\n",
       "      <td>November-2022</td>\n",
       "    </tr>\n",
       "    <tr>\n",
       "      <th>1556</th>\n",
       "      <td>Hear from Ann Miller, one of the leaders of o...</td>\n",
       "      <td>Pepsico</td>\n",
       "      <td>2022-11-03</td>\n",
       "      <td>9</td>\n",
       "      <td>208</td>\n",
       "      <td>November-2022</td>\n",
       "    </tr>\n",
       "  </tbody>\n",
       "</table>\n",
       "<p>2881 rows × 6 columns</p>\n",
       "</div>"
      ],
      "text/plain": [
       "                                                  posts              company  \\\n",
       "2880   We’re revolutionizing insulin access and affo...              Walmart   \n",
       "306    T.R. Ramachandran, Group Country Manager for ...                 Visa   \n",
       "305    Consumers are at the heart of everything Visa...                 Visa   \n",
       "304    What is Visa doing in the buy now, pay later ...                 Visa   \n",
       "303    Cuy Sheffield, Global head of Crypto, explain...                 Visa   \n",
       "...                                                 ...                  ...   \n",
       "2336   While attending the #IGNITION2022 Experience,...  United Health Group   \n",
       "1838   “The river has always taken care of the peopl...   Procter and Gamble   \n",
       "1839   #DYK that Black History Month is celebrated i...   Procter and Gamble   \n",
       "1690   It takes great bravery and honor to serve in ...               Pfizer   \n",
       "1556   Hear from Ann Miller, one of the leaders of o...              Pepsico   \n",
       "\n",
       "            date  comments reaction     month_year  \n",
       "2880  2021-11-04        12      461  November-2021  \n",
       "306   2021-11-04         1      158  November-2021  \n",
       "305   2021-11-04         3      263  November-2021  \n",
       "304   2021-11-04         1      183  November-2021  \n",
       "303   2021-11-04         0      213  November-2021  \n",
       "...          ...       ...      ...            ...  \n",
       "2336  2022-11-03         2      102  November-2022  \n",
       "1838  2022-11-03         3      293  November-2022  \n",
       "1839  2022-11-03         1       57  November-2022  \n",
       "1690  2022-11-03         2      171  November-2022  \n",
       "1556  2022-11-03         9      208  November-2022  \n",
       "\n",
       "[2881 rows x 6 columns]"
      ]
     },
     "execution_count": 22,
     "metadata": {},
     "output_type": "execute_result"
    }
   ],
   "source": [
    "full_df['month_year'] = full_df['date'].apply(lambda x: x.strftime('%B-%Y')) \n",
    "full_df.sort_values('date', ascending = True, inplace = True)\n",
    "full_df"
   ]
  },
  {
   "cell_type": "code",
   "execution_count": 23,
   "metadata": {},
   "outputs": [],
   "source": [
    "traditional = ['Exxon Mobil', 'General Electric', 'Home Depot', 'Pepsico', 'Pfizer', 'Procter and Gamble', 'United Health Group', 'Walmart']\n",
    "innovative = ['American Express', 'Ebay', 'Visa', 'Amazon', 'Facebook']"
   ]
  },
  {
   "cell_type": "code",
   "execution_count": 24,
   "metadata": {},
   "outputs": [],
   "source": [
    "full_df.loc[full_df['company'].isin(traditional), 'type'] = 'traditional'\n",
    "full_df.loc[full_df['company'].isin(innovative), 'type'] = 'innovative'"
   ]
  },
  {
   "cell_type": "code",
   "execution_count": 25,
   "metadata": {},
   "outputs": [
    {
     "data": {
      "text/plain": [
       "array([], dtype=object)"
      ]
     },
     "execution_count": 25,
     "metadata": {},
     "output_type": "execute_result"
    }
   ],
   "source": [
    "full_df.loc[full_df['type'].isna()]['company'].unique()"
   ]
  },
  {
   "cell_type": "code",
   "execution_count": 26,
   "metadata": {},
   "outputs": [
    {
     "data": {
      "text/html": [
       "<div>\n",
       "<style scoped>\n",
       "    .dataframe tbody tr th:only-of-type {\n",
       "        vertical-align: middle;\n",
       "    }\n",
       "\n",
       "    .dataframe tbody tr th {\n",
       "        vertical-align: top;\n",
       "    }\n",
       "\n",
       "    .dataframe thead th {\n",
       "        text-align: right;\n",
       "    }\n",
       "</style>\n",
       "<table border=\"1\" class=\"dataframe\">\n",
       "  <thead>\n",
       "    <tr style=\"text-align: right;\">\n",
       "      <th></th>\n",
       "      <th>posts</th>\n",
       "      <th>company</th>\n",
       "      <th>date</th>\n",
       "      <th>comments</th>\n",
       "      <th>reaction</th>\n",
       "      <th>month_year</th>\n",
       "      <th>type</th>\n",
       "    </tr>\n",
       "  </thead>\n",
       "  <tbody>\n",
       "    <tr>\n",
       "      <th>0</th>\n",
       "      <td>We’re revolutionizing insulin access and affo...</td>\n",
       "      <td>Walmart</td>\n",
       "      <td>2021-11-04</td>\n",
       "      <td>12</td>\n",
       "      <td>461</td>\n",
       "      <td>November-2021</td>\n",
       "      <td>traditional</td>\n",
       "    </tr>\n",
       "    <tr>\n",
       "      <th>1</th>\n",
       "      <td>T.R. Ramachandran, Group Country Manager for ...</td>\n",
       "      <td>Visa</td>\n",
       "      <td>2021-11-04</td>\n",
       "      <td>1</td>\n",
       "      <td>158</td>\n",
       "      <td>November-2021</td>\n",
       "      <td>innovative</td>\n",
       "    </tr>\n",
       "    <tr>\n",
       "      <th>2</th>\n",
       "      <td>Consumers are at the heart of everything Visa...</td>\n",
       "      <td>Visa</td>\n",
       "      <td>2021-11-04</td>\n",
       "      <td>3</td>\n",
       "      <td>263</td>\n",
       "      <td>November-2021</td>\n",
       "      <td>innovative</td>\n",
       "    </tr>\n",
       "    <tr>\n",
       "      <th>3</th>\n",
       "      <td>What is Visa doing in the buy now, pay later ...</td>\n",
       "      <td>Visa</td>\n",
       "      <td>2021-11-04</td>\n",
       "      <td>1</td>\n",
       "      <td>183</td>\n",
       "      <td>November-2021</td>\n",
       "      <td>innovative</td>\n",
       "    </tr>\n",
       "    <tr>\n",
       "      <th>4</th>\n",
       "      <td>Cuy Sheffield, Global head of Crypto, explain...</td>\n",
       "      <td>Visa</td>\n",
       "      <td>2021-11-04</td>\n",
       "      <td>0</td>\n",
       "      <td>213</td>\n",
       "      <td>November-2021</td>\n",
       "      <td>innovative</td>\n",
       "    </tr>\n",
       "    <tr>\n",
       "      <th>...</th>\n",
       "      <td>...</td>\n",
       "      <td>...</td>\n",
       "      <td>...</td>\n",
       "      <td>...</td>\n",
       "      <td>...</td>\n",
       "      <td>...</td>\n",
       "      <td>...</td>\n",
       "    </tr>\n",
       "    <tr>\n",
       "      <th>2876</th>\n",
       "      <td>While attending the #IGNITION2022 Experience,...</td>\n",
       "      <td>United Health Group</td>\n",
       "      <td>2022-11-03</td>\n",
       "      <td>2</td>\n",
       "      <td>102</td>\n",
       "      <td>November-2022</td>\n",
       "      <td>traditional</td>\n",
       "    </tr>\n",
       "    <tr>\n",
       "      <th>2877</th>\n",
       "      <td>“The river has always taken care of the peopl...</td>\n",
       "      <td>Procter and Gamble</td>\n",
       "      <td>2022-11-03</td>\n",
       "      <td>3</td>\n",
       "      <td>293</td>\n",
       "      <td>November-2022</td>\n",
       "      <td>traditional</td>\n",
       "    </tr>\n",
       "    <tr>\n",
       "      <th>2878</th>\n",
       "      <td>#DYK that Black History Month is celebrated i...</td>\n",
       "      <td>Procter and Gamble</td>\n",
       "      <td>2022-11-03</td>\n",
       "      <td>1</td>\n",
       "      <td>57</td>\n",
       "      <td>November-2022</td>\n",
       "      <td>traditional</td>\n",
       "    </tr>\n",
       "    <tr>\n",
       "      <th>2879</th>\n",
       "      <td>It takes great bravery and honor to serve in ...</td>\n",
       "      <td>Pfizer</td>\n",
       "      <td>2022-11-03</td>\n",
       "      <td>2</td>\n",
       "      <td>171</td>\n",
       "      <td>November-2022</td>\n",
       "      <td>traditional</td>\n",
       "    </tr>\n",
       "    <tr>\n",
       "      <th>2880</th>\n",
       "      <td>Hear from Ann Miller, one of the leaders of o...</td>\n",
       "      <td>Pepsico</td>\n",
       "      <td>2022-11-03</td>\n",
       "      <td>9</td>\n",
       "      <td>208</td>\n",
       "      <td>November-2022</td>\n",
       "      <td>traditional</td>\n",
       "    </tr>\n",
       "  </tbody>\n",
       "</table>\n",
       "<p>2881 rows × 7 columns</p>\n",
       "</div>"
      ],
      "text/plain": [
       "                                                  posts              company  \\\n",
       "0      We’re revolutionizing insulin access and affo...              Walmart   \n",
       "1      T.R. Ramachandran, Group Country Manager for ...                 Visa   \n",
       "2      Consumers are at the heart of everything Visa...                 Visa   \n",
       "3      What is Visa doing in the buy now, pay later ...                 Visa   \n",
       "4      Cuy Sheffield, Global head of Crypto, explain...                 Visa   \n",
       "...                                                 ...                  ...   \n",
       "2876   While attending the #IGNITION2022 Experience,...  United Health Group   \n",
       "2877   “The river has always taken care of the peopl...   Procter and Gamble   \n",
       "2878   #DYK that Black History Month is celebrated i...   Procter and Gamble   \n",
       "2879   It takes great bravery and honor to serve in ...               Pfizer   \n",
       "2880   Hear from Ann Miller, one of the leaders of o...              Pepsico   \n",
       "\n",
       "            date  comments reaction     month_year         type  \n",
       "0     2021-11-04        12      461  November-2021  traditional  \n",
       "1     2021-11-04         1      158  November-2021   innovative  \n",
       "2     2021-11-04         3      263  November-2021   innovative  \n",
       "3     2021-11-04         1      183  November-2021   innovative  \n",
       "4     2021-11-04         0      213  November-2021   innovative  \n",
       "...          ...       ...      ...            ...          ...  \n",
       "2876  2022-11-03         2      102  November-2022  traditional  \n",
       "2877  2022-11-03         3      293  November-2022  traditional  \n",
       "2878  2022-11-03         1       57  November-2022  traditional  \n",
       "2879  2022-11-03         2      171  November-2022  traditional  \n",
       "2880  2022-11-03         9      208  November-2022  traditional  \n",
       "\n",
       "[2881 rows x 7 columns]"
      ]
     },
     "execution_count": 26,
     "metadata": {},
     "output_type": "execute_result"
    }
   ],
   "source": [
    "full_df.reset_index(drop = True)"
   ]
  },
  {
   "cell_type": "code",
   "execution_count": 27,
   "metadata": {},
   "outputs": [],
   "source": [
    "full_df.to_csv(r'C:\\Users\\zheny\\Downloads\\webscrape_companies.csv', index = False)"
   ]
  },
  {
   "cell_type": "markdown",
   "metadata": {},
   "source": [
    "### Visualise Data"
   ]
  },
  {
   "cell_type": "code",
   "execution_count": 14,
   "metadata": {},
   "outputs": [],
   "source": [
    "full_df['month'] = pd.to_datetime(full_df['date']).dt.month\n",
    "full_df['year'] = pd.to_datetime(full_df['date']).dt.year"
   ]
  },
  {
   "cell_type": "code",
   "execution_count": 22,
   "metadata": {},
   "outputs": [],
   "source": [
    "count_df = full_df.groupby(['month', 'year', 'type', 'month_year'])['posts'].count().reset_index(name = 'count').sort_values(['year', 'month'])\n",
    "count_df = count_df.loc[count_df['month_year'] != 'November-2022']"
   ]
  },
  {
   "cell_type": "code",
   "execution_count": 23,
   "metadata": {},
   "outputs": [
    {
     "data": {
      "application/vnd.plotly.v1+json": {
       "config": {
        "plotlyServerURL": "https://plot.ly"
       },
       "data": [
        {
         "alignmentgroup": "True",
         "hovertemplate": "type=innovative<br>month_year=%{x}<br>count=%{y}<extra></extra>",
         "legendgroup": "innovative",
         "marker": {
          "color": "#636efa",
          "pattern": {
           "shape": ""
          }
         },
         "name": "innovative",
         "offsetgroup": "innovative",
         "orientation": "v",
         "showlegend": true,
         "textposition": "auto",
         "texttemplate": "%{y}",
         "type": "bar",
         "x": [
          "November-2021",
          "December-2021",
          "January-2022",
          "February-2022",
          "March-2022",
          "April-2022",
          "May-2022",
          "June-2022",
          "July-2022",
          "August-2022",
          "September-2022",
          "October-2022"
         ],
         "xaxis": "x",
         "y": [
          84,
          66,
          57,
          107,
          65,
          72,
          64,
          78,
          82,
          76,
          71,
          175
         ],
         "yaxis": "y"
        },
        {
         "alignmentgroup": "True",
         "hovertemplate": "type=traditional<br>month_year=%{x}<br>count=%{y}<extra></extra>",
         "legendgroup": "traditional",
         "marker": {
          "color": "#EF553B",
          "pattern": {
           "shape": ""
          }
         },
         "name": "traditional",
         "offsetgroup": "traditional",
         "orientation": "v",
         "showlegend": true,
         "textposition": "auto",
         "texttemplate": "%{y}",
         "type": "bar",
         "x": [
          "November-2021",
          "December-2021",
          "January-2022",
          "February-2022",
          "March-2022",
          "April-2022",
          "May-2022",
          "June-2022",
          "July-2022",
          "August-2022",
          "September-2022",
          "October-2022"
         ],
         "xaxis": "x",
         "y": [
          111,
          127,
          115,
          145,
          124,
          107,
          113,
          139,
          142,
          154,
          130,
          269
         ],
         "yaxis": "y"
        }
       ],
       "layout": {
        "barmode": "relative",
        "height": 400,
        "legend": {
         "title": {
          "text": "type"
         },
         "tracegroupgap": 0
        },
        "margin": {
         "t": 60
        },
        "template": {
         "data": {
          "bar": [
           {
            "error_x": {
             "color": "#2a3f5f"
            },
            "error_y": {
             "color": "#2a3f5f"
            },
            "marker": {
             "line": {
              "color": "#E5ECF6",
              "width": 0.5
             },
             "pattern": {
              "fillmode": "overlay",
              "size": 10,
              "solidity": 0.2
             }
            },
            "type": "bar"
           }
          ],
          "barpolar": [
           {
            "marker": {
             "line": {
              "color": "#E5ECF6",
              "width": 0.5
             },
             "pattern": {
              "fillmode": "overlay",
              "size": 10,
              "solidity": 0.2
             }
            },
            "type": "barpolar"
           }
          ],
          "carpet": [
           {
            "aaxis": {
             "endlinecolor": "#2a3f5f",
             "gridcolor": "white",
             "linecolor": "white",
             "minorgridcolor": "white",
             "startlinecolor": "#2a3f5f"
            },
            "baxis": {
             "endlinecolor": "#2a3f5f",
             "gridcolor": "white",
             "linecolor": "white",
             "minorgridcolor": "white",
             "startlinecolor": "#2a3f5f"
            },
            "type": "carpet"
           }
          ],
          "choropleth": [
           {
            "colorbar": {
             "outlinewidth": 0,
             "ticks": ""
            },
            "type": "choropleth"
           }
          ],
          "contour": [
           {
            "colorbar": {
             "outlinewidth": 0,
             "ticks": ""
            },
            "colorscale": [
             [
              0,
              "#0d0887"
             ],
             [
              0.1111111111111111,
              "#46039f"
             ],
             [
              0.2222222222222222,
              "#7201a8"
             ],
             [
              0.3333333333333333,
              "#9c179e"
             ],
             [
              0.4444444444444444,
              "#bd3786"
             ],
             [
              0.5555555555555556,
              "#d8576b"
             ],
             [
              0.6666666666666666,
              "#ed7953"
             ],
             [
              0.7777777777777778,
              "#fb9f3a"
             ],
             [
              0.8888888888888888,
              "#fdca26"
             ],
             [
              1,
              "#f0f921"
             ]
            ],
            "type": "contour"
           }
          ],
          "contourcarpet": [
           {
            "colorbar": {
             "outlinewidth": 0,
             "ticks": ""
            },
            "type": "contourcarpet"
           }
          ],
          "heatmap": [
           {
            "colorbar": {
             "outlinewidth": 0,
             "ticks": ""
            },
            "colorscale": [
             [
              0,
              "#0d0887"
             ],
             [
              0.1111111111111111,
              "#46039f"
             ],
             [
              0.2222222222222222,
              "#7201a8"
             ],
             [
              0.3333333333333333,
              "#9c179e"
             ],
             [
              0.4444444444444444,
              "#bd3786"
             ],
             [
              0.5555555555555556,
              "#d8576b"
             ],
             [
              0.6666666666666666,
              "#ed7953"
             ],
             [
              0.7777777777777778,
              "#fb9f3a"
             ],
             [
              0.8888888888888888,
              "#fdca26"
             ],
             [
              1,
              "#f0f921"
             ]
            ],
            "type": "heatmap"
           }
          ],
          "heatmapgl": [
           {
            "colorbar": {
             "outlinewidth": 0,
             "ticks": ""
            },
            "colorscale": [
             [
              0,
              "#0d0887"
             ],
             [
              0.1111111111111111,
              "#46039f"
             ],
             [
              0.2222222222222222,
              "#7201a8"
             ],
             [
              0.3333333333333333,
              "#9c179e"
             ],
             [
              0.4444444444444444,
              "#bd3786"
             ],
             [
              0.5555555555555556,
              "#d8576b"
             ],
             [
              0.6666666666666666,
              "#ed7953"
             ],
             [
              0.7777777777777778,
              "#fb9f3a"
             ],
             [
              0.8888888888888888,
              "#fdca26"
             ],
             [
              1,
              "#f0f921"
             ]
            ],
            "type": "heatmapgl"
           }
          ],
          "histogram": [
           {
            "marker": {
             "pattern": {
              "fillmode": "overlay",
              "size": 10,
              "solidity": 0.2
             }
            },
            "type": "histogram"
           }
          ],
          "histogram2d": [
           {
            "colorbar": {
             "outlinewidth": 0,
             "ticks": ""
            },
            "colorscale": [
             [
              0,
              "#0d0887"
             ],
             [
              0.1111111111111111,
              "#46039f"
             ],
             [
              0.2222222222222222,
              "#7201a8"
             ],
             [
              0.3333333333333333,
              "#9c179e"
             ],
             [
              0.4444444444444444,
              "#bd3786"
             ],
             [
              0.5555555555555556,
              "#d8576b"
             ],
             [
              0.6666666666666666,
              "#ed7953"
             ],
             [
              0.7777777777777778,
              "#fb9f3a"
             ],
             [
              0.8888888888888888,
              "#fdca26"
             ],
             [
              1,
              "#f0f921"
             ]
            ],
            "type": "histogram2d"
           }
          ],
          "histogram2dcontour": [
           {
            "colorbar": {
             "outlinewidth": 0,
             "ticks": ""
            },
            "colorscale": [
             [
              0,
              "#0d0887"
             ],
             [
              0.1111111111111111,
              "#46039f"
             ],
             [
              0.2222222222222222,
              "#7201a8"
             ],
             [
              0.3333333333333333,
              "#9c179e"
             ],
             [
              0.4444444444444444,
              "#bd3786"
             ],
             [
              0.5555555555555556,
              "#d8576b"
             ],
             [
              0.6666666666666666,
              "#ed7953"
             ],
             [
              0.7777777777777778,
              "#fb9f3a"
             ],
             [
              0.8888888888888888,
              "#fdca26"
             ],
             [
              1,
              "#f0f921"
             ]
            ],
            "type": "histogram2dcontour"
           }
          ],
          "mesh3d": [
           {
            "colorbar": {
             "outlinewidth": 0,
             "ticks": ""
            },
            "type": "mesh3d"
           }
          ],
          "parcoords": [
           {
            "line": {
             "colorbar": {
              "outlinewidth": 0,
              "ticks": ""
             }
            },
            "type": "parcoords"
           }
          ],
          "pie": [
           {
            "automargin": true,
            "type": "pie"
           }
          ],
          "scatter": [
           {
            "fillpattern": {
             "fillmode": "overlay",
             "size": 10,
             "solidity": 0.2
            },
            "type": "scatter"
           }
          ],
          "scatter3d": [
           {
            "line": {
             "colorbar": {
              "outlinewidth": 0,
              "ticks": ""
             }
            },
            "marker": {
             "colorbar": {
              "outlinewidth": 0,
              "ticks": ""
             }
            },
            "type": "scatter3d"
           }
          ],
          "scattercarpet": [
           {
            "marker": {
             "colorbar": {
              "outlinewidth": 0,
              "ticks": ""
             }
            },
            "type": "scattercarpet"
           }
          ],
          "scattergeo": [
           {
            "marker": {
             "colorbar": {
              "outlinewidth": 0,
              "ticks": ""
             }
            },
            "type": "scattergeo"
           }
          ],
          "scattergl": [
           {
            "marker": {
             "colorbar": {
              "outlinewidth": 0,
              "ticks": ""
             }
            },
            "type": "scattergl"
           }
          ],
          "scattermapbox": [
           {
            "marker": {
             "colorbar": {
              "outlinewidth": 0,
              "ticks": ""
             }
            },
            "type": "scattermapbox"
           }
          ],
          "scatterpolar": [
           {
            "marker": {
             "colorbar": {
              "outlinewidth": 0,
              "ticks": ""
             }
            },
            "type": "scatterpolar"
           }
          ],
          "scatterpolargl": [
           {
            "marker": {
             "colorbar": {
              "outlinewidth": 0,
              "ticks": ""
             }
            },
            "type": "scatterpolargl"
           }
          ],
          "scatterternary": [
           {
            "marker": {
             "colorbar": {
              "outlinewidth": 0,
              "ticks": ""
             }
            },
            "type": "scatterternary"
           }
          ],
          "surface": [
           {
            "colorbar": {
             "outlinewidth": 0,
             "ticks": ""
            },
            "colorscale": [
             [
              0,
              "#0d0887"
             ],
             [
              0.1111111111111111,
              "#46039f"
             ],
             [
              0.2222222222222222,
              "#7201a8"
             ],
             [
              0.3333333333333333,
              "#9c179e"
             ],
             [
              0.4444444444444444,
              "#bd3786"
             ],
             [
              0.5555555555555556,
              "#d8576b"
             ],
             [
              0.6666666666666666,
              "#ed7953"
             ],
             [
              0.7777777777777778,
              "#fb9f3a"
             ],
             [
              0.8888888888888888,
              "#fdca26"
             ],
             [
              1,
              "#f0f921"
             ]
            ],
            "type": "surface"
           }
          ],
          "table": [
           {
            "cells": {
             "fill": {
              "color": "#EBF0F8"
             },
             "line": {
              "color": "white"
             }
            },
            "header": {
             "fill": {
              "color": "#C8D4E3"
             },
             "line": {
              "color": "white"
             }
            },
            "type": "table"
           }
          ]
         },
         "layout": {
          "annotationdefaults": {
           "arrowcolor": "#2a3f5f",
           "arrowhead": 0,
           "arrowwidth": 1
          },
          "autotypenumbers": "strict",
          "coloraxis": {
           "colorbar": {
            "outlinewidth": 0,
            "ticks": ""
           }
          },
          "colorscale": {
           "diverging": [
            [
             0,
             "#8e0152"
            ],
            [
             0.1,
             "#c51b7d"
            ],
            [
             0.2,
             "#de77ae"
            ],
            [
             0.3,
             "#f1b6da"
            ],
            [
             0.4,
             "#fde0ef"
            ],
            [
             0.5,
             "#f7f7f7"
            ],
            [
             0.6,
             "#e6f5d0"
            ],
            [
             0.7,
             "#b8e186"
            ],
            [
             0.8,
             "#7fbc41"
            ],
            [
             0.9,
             "#4d9221"
            ],
            [
             1,
             "#276419"
            ]
           ],
           "sequential": [
            [
             0,
             "#0d0887"
            ],
            [
             0.1111111111111111,
             "#46039f"
            ],
            [
             0.2222222222222222,
             "#7201a8"
            ],
            [
             0.3333333333333333,
             "#9c179e"
            ],
            [
             0.4444444444444444,
             "#bd3786"
            ],
            [
             0.5555555555555556,
             "#d8576b"
            ],
            [
             0.6666666666666666,
             "#ed7953"
            ],
            [
             0.7777777777777778,
             "#fb9f3a"
            ],
            [
             0.8888888888888888,
             "#fdca26"
            ],
            [
             1,
             "#f0f921"
            ]
           ],
           "sequentialminus": [
            [
             0,
             "#0d0887"
            ],
            [
             0.1111111111111111,
             "#46039f"
            ],
            [
             0.2222222222222222,
             "#7201a8"
            ],
            [
             0.3333333333333333,
             "#9c179e"
            ],
            [
             0.4444444444444444,
             "#bd3786"
            ],
            [
             0.5555555555555556,
             "#d8576b"
            ],
            [
             0.6666666666666666,
             "#ed7953"
            ],
            [
             0.7777777777777778,
             "#fb9f3a"
            ],
            [
             0.8888888888888888,
             "#fdca26"
            ],
            [
             1,
             "#f0f921"
            ]
           ]
          },
          "colorway": [
           "#636efa",
           "#EF553B",
           "#00cc96",
           "#ab63fa",
           "#FFA15A",
           "#19d3f3",
           "#FF6692",
           "#B6E880",
           "#FF97FF",
           "#FECB52"
          ],
          "font": {
           "color": "#2a3f5f"
          },
          "geo": {
           "bgcolor": "white",
           "lakecolor": "white",
           "landcolor": "#E5ECF6",
           "showlakes": true,
           "showland": true,
           "subunitcolor": "white"
          },
          "hoverlabel": {
           "align": "left"
          },
          "hovermode": "closest",
          "mapbox": {
           "style": "light"
          },
          "paper_bgcolor": "white",
          "plot_bgcolor": "#E5ECF6",
          "polar": {
           "angularaxis": {
            "gridcolor": "white",
            "linecolor": "white",
            "ticks": ""
           },
           "bgcolor": "#E5ECF6",
           "radialaxis": {
            "gridcolor": "white",
            "linecolor": "white",
            "ticks": ""
           }
          },
          "scene": {
           "xaxis": {
            "backgroundcolor": "#E5ECF6",
            "gridcolor": "white",
            "gridwidth": 2,
            "linecolor": "white",
            "showbackground": true,
            "ticks": "",
            "zerolinecolor": "white"
           },
           "yaxis": {
            "backgroundcolor": "#E5ECF6",
            "gridcolor": "white",
            "gridwidth": 2,
            "linecolor": "white",
            "showbackground": true,
            "ticks": "",
            "zerolinecolor": "white"
           },
           "zaxis": {
            "backgroundcolor": "#E5ECF6",
            "gridcolor": "white",
            "gridwidth": 2,
            "linecolor": "white",
            "showbackground": true,
            "ticks": "",
            "zerolinecolor": "white"
           }
          },
          "shapedefaults": {
           "line": {
            "color": "#2a3f5f"
           }
          },
          "ternary": {
           "aaxis": {
            "gridcolor": "white",
            "linecolor": "white",
            "ticks": ""
           },
           "baxis": {
            "gridcolor": "white",
            "linecolor": "white",
            "ticks": ""
           },
           "bgcolor": "#E5ECF6",
           "caxis": {
            "gridcolor": "white",
            "linecolor": "white",
            "ticks": ""
           }
          },
          "title": {
           "x": 0.05
          },
          "xaxis": {
           "automargin": true,
           "gridcolor": "white",
           "linecolor": "white",
           "ticks": "",
           "title": {
            "standoff": 15
           },
           "zerolinecolor": "white",
           "zerolinewidth": 2
          },
          "yaxis": {
           "automargin": true,
           "gridcolor": "white",
           "linecolor": "white",
           "ticks": "",
           "title": {
            "standoff": 15
           },
           "zerolinecolor": "white",
           "zerolinewidth": 2
          }
         }
        },
        "xaxis": {
         "anchor": "y",
         "domain": [
          0,
          1
         ],
         "title": {
          "text": "month_year"
         }
        },
        "yaxis": {
         "anchor": "x",
         "domain": [
          0,
          1
         ],
         "title": {
          "text": "count"
         }
        }
       }
      }
     },
     "metadata": {},
     "output_type": "display_data"
    }
   ],
   "source": [
    "import plotly.express as px\n",
    "fig = px.bar(count_df, x='month_year', y='count',\n",
    "             color='type', height=400, text_auto=True) \n",
    "\n",
    "fig.show()"
   ]
  },
  {
   "cell_type": "code",
   "execution_count": 34,
   "metadata": {},
   "outputs": [
    {
     "data": {
      "text/html": [
       "<div>\n",
       "<style scoped>\n",
       "    .dataframe tbody tr th:only-of-type {\n",
       "        vertical-align: middle;\n",
       "    }\n",
       "\n",
       "    .dataframe tbody tr th {\n",
       "        vertical-align: top;\n",
       "    }\n",
       "\n",
       "    .dataframe thead th {\n",
       "        text-align: right;\n",
       "    }\n",
       "</style>\n",
       "<table border=\"1\" class=\"dataframe\">\n",
       "  <thead>\n",
       "    <tr style=\"text-align: right;\">\n",
       "      <th></th>\n",
       "      <th>company</th>\n",
       "      <th>count</th>\n",
       "      <th>type</th>\n",
       "    </tr>\n",
       "  </thead>\n",
       "  <tbody>\n",
       "    <tr>\n",
       "      <th>0</th>\n",
       "      <td>Procter and Gamble</td>\n",
       "      <td>500</td>\n",
       "      <td>traditional</td>\n",
       "    </tr>\n",
       "    <tr>\n",
       "      <th>500</th>\n",
       "      <td>Amazon</td>\n",
       "      <td>474</td>\n",
       "      <td>innovative</td>\n",
       "    </tr>\n",
       "    <tr>\n",
       "      <th>974</th>\n",
       "      <td>Walmart</td>\n",
       "      <td>406</td>\n",
       "      <td>traditional</td>\n",
       "    </tr>\n",
       "    <tr>\n",
       "      <th>1380</th>\n",
       "      <td>General Electric</td>\n",
       "      <td>339</td>\n",
       "      <td>traditional</td>\n",
       "    </tr>\n",
       "    <tr>\n",
       "      <th>1719</th>\n",
       "      <td>Facebook</td>\n",
       "      <td>244</td>\n",
       "      <td>innovative</td>\n",
       "    </tr>\n",
       "    <tr>\n",
       "      <th>1963</th>\n",
       "      <td>Visa</td>\n",
       "      <td>223</td>\n",
       "      <td>innovative</td>\n",
       "    </tr>\n",
       "    <tr>\n",
       "      <th>2186</th>\n",
       "      <td>Pfizer</td>\n",
       "      <td>146</td>\n",
       "      <td>traditional</td>\n",
       "    </tr>\n",
       "    <tr>\n",
       "      <th>2332</th>\n",
       "      <td>United Health Group</td>\n",
       "      <td>139</td>\n",
       "      <td>traditional</td>\n",
       "    </tr>\n",
       "    <tr>\n",
       "      <th>2471</th>\n",
       "      <td>Pepsico</td>\n",
       "      <td>138</td>\n",
       "      <td>traditional</td>\n",
       "    </tr>\n",
       "    <tr>\n",
       "      <th>2609</th>\n",
       "      <td>Exxon Mobil</td>\n",
       "      <td>100</td>\n",
       "      <td>traditional</td>\n",
       "    </tr>\n",
       "    <tr>\n",
       "      <th>2709</th>\n",
       "      <td>Home Depot</td>\n",
       "      <td>86</td>\n",
       "      <td>traditional</td>\n",
       "    </tr>\n",
       "    <tr>\n",
       "      <th>2795</th>\n",
       "      <td>Ebay</td>\n",
       "      <td>83</td>\n",
       "      <td>innovative</td>\n",
       "    </tr>\n",
       "    <tr>\n",
       "      <th>2878</th>\n",
       "      <td>American Express</td>\n",
       "      <td>3</td>\n",
       "      <td>innovative</td>\n",
       "    </tr>\n",
       "  </tbody>\n",
       "</table>\n",
       "</div>"
      ],
      "text/plain": [
       "                  company  count         type\n",
       "0      Procter and Gamble    500  traditional\n",
       "500                Amazon    474   innovative\n",
       "974               Walmart    406  traditional\n",
       "1380     General Electric    339  traditional\n",
       "1719             Facebook    244   innovative\n",
       "1963                 Visa    223   innovative\n",
       "2186               Pfizer    146  traditional\n",
       "2332  United Health Group    139  traditional\n",
       "2471              Pepsico    138  traditional\n",
       "2609          Exxon Mobil    100  traditional\n",
       "2709           Home Depot     86  traditional\n",
       "2795                 Ebay     83   innovative\n",
       "2878     American Express      3   innovative"
      ]
     },
     "execution_count": 34,
     "metadata": {},
     "output_type": "execute_result"
    }
   ],
   "source": [
    "company_count = full_df['company'].value_counts().reset_index()\n",
    "company_count.columns = ['company', 'count']\n",
    "company_count = pd.merge(company_count, full_df[['company', 'type']], on = 'company', how = 'left').drop_duplicates()\n",
    "company_count"
   ]
  },
  {
   "cell_type": "code",
   "execution_count": 55,
   "metadata": {},
   "outputs": [
    {
     "data": {
      "application/vnd.plotly.v1+json": {
       "config": {
        "plotlyServerURL": "https://plot.ly"
       },
       "data": [
        {
         "orientation": "h",
         "text": [
          500,
          474,
          406,
          339,
          244,
          223,
          146,
          139,
          138,
          100,
          86,
          83,
          3
         ],
         "type": "bar",
         "x": [
          500,
          474,
          406,
          339,
          244,
          223,
          146,
          139,
          138,
          100,
          86,
          83,
          3
         ],
         "y": [
          "Procter and Gamble",
          "Amazon",
          "Walmart",
          "General Electric",
          "Facebook",
          "Visa",
          "Pfizer",
          "United Health Group",
          "Pepsico",
          "Exxon Mobil",
          "Home Depot",
          "Ebay",
          "American Express"
         ]
        }
       ],
       "layout": {
        "font": {
         "color": "Black",
         "size": 12
        },
        "template": {
         "data": {
          "bar": [
           {
            "error_x": {
             "color": "#2a3f5f"
            },
            "error_y": {
             "color": "#2a3f5f"
            },
            "marker": {
             "line": {
              "color": "#E5ECF6",
              "width": 0.5
             },
             "pattern": {
              "fillmode": "overlay",
              "size": 10,
              "solidity": 0.2
             }
            },
            "type": "bar"
           }
          ],
          "barpolar": [
           {
            "marker": {
             "line": {
              "color": "#E5ECF6",
              "width": 0.5
             },
             "pattern": {
              "fillmode": "overlay",
              "size": 10,
              "solidity": 0.2
             }
            },
            "type": "barpolar"
           }
          ],
          "carpet": [
           {
            "aaxis": {
             "endlinecolor": "#2a3f5f",
             "gridcolor": "white",
             "linecolor": "white",
             "minorgridcolor": "white",
             "startlinecolor": "#2a3f5f"
            },
            "baxis": {
             "endlinecolor": "#2a3f5f",
             "gridcolor": "white",
             "linecolor": "white",
             "minorgridcolor": "white",
             "startlinecolor": "#2a3f5f"
            },
            "type": "carpet"
           }
          ],
          "choropleth": [
           {
            "colorbar": {
             "outlinewidth": 0,
             "ticks": ""
            },
            "type": "choropleth"
           }
          ],
          "contour": [
           {
            "colorbar": {
             "outlinewidth": 0,
             "ticks": ""
            },
            "colorscale": [
             [
              0,
              "#0d0887"
             ],
             [
              0.1111111111111111,
              "#46039f"
             ],
             [
              0.2222222222222222,
              "#7201a8"
             ],
             [
              0.3333333333333333,
              "#9c179e"
             ],
             [
              0.4444444444444444,
              "#bd3786"
             ],
             [
              0.5555555555555556,
              "#d8576b"
             ],
             [
              0.6666666666666666,
              "#ed7953"
             ],
             [
              0.7777777777777778,
              "#fb9f3a"
             ],
             [
              0.8888888888888888,
              "#fdca26"
             ],
             [
              1,
              "#f0f921"
             ]
            ],
            "type": "contour"
           }
          ],
          "contourcarpet": [
           {
            "colorbar": {
             "outlinewidth": 0,
             "ticks": ""
            },
            "type": "contourcarpet"
           }
          ],
          "heatmap": [
           {
            "colorbar": {
             "outlinewidth": 0,
             "ticks": ""
            },
            "colorscale": [
             [
              0,
              "#0d0887"
             ],
             [
              0.1111111111111111,
              "#46039f"
             ],
             [
              0.2222222222222222,
              "#7201a8"
             ],
             [
              0.3333333333333333,
              "#9c179e"
             ],
             [
              0.4444444444444444,
              "#bd3786"
             ],
             [
              0.5555555555555556,
              "#d8576b"
             ],
             [
              0.6666666666666666,
              "#ed7953"
             ],
             [
              0.7777777777777778,
              "#fb9f3a"
             ],
             [
              0.8888888888888888,
              "#fdca26"
             ],
             [
              1,
              "#f0f921"
             ]
            ],
            "type": "heatmap"
           }
          ],
          "heatmapgl": [
           {
            "colorbar": {
             "outlinewidth": 0,
             "ticks": ""
            },
            "colorscale": [
             [
              0,
              "#0d0887"
             ],
             [
              0.1111111111111111,
              "#46039f"
             ],
             [
              0.2222222222222222,
              "#7201a8"
             ],
             [
              0.3333333333333333,
              "#9c179e"
             ],
             [
              0.4444444444444444,
              "#bd3786"
             ],
             [
              0.5555555555555556,
              "#d8576b"
             ],
             [
              0.6666666666666666,
              "#ed7953"
             ],
             [
              0.7777777777777778,
              "#fb9f3a"
             ],
             [
              0.8888888888888888,
              "#fdca26"
             ],
             [
              1,
              "#f0f921"
             ]
            ],
            "type": "heatmapgl"
           }
          ],
          "histogram": [
           {
            "marker": {
             "pattern": {
              "fillmode": "overlay",
              "size": 10,
              "solidity": 0.2
             }
            },
            "type": "histogram"
           }
          ],
          "histogram2d": [
           {
            "colorbar": {
             "outlinewidth": 0,
             "ticks": ""
            },
            "colorscale": [
             [
              0,
              "#0d0887"
             ],
             [
              0.1111111111111111,
              "#46039f"
             ],
             [
              0.2222222222222222,
              "#7201a8"
             ],
             [
              0.3333333333333333,
              "#9c179e"
             ],
             [
              0.4444444444444444,
              "#bd3786"
             ],
             [
              0.5555555555555556,
              "#d8576b"
             ],
             [
              0.6666666666666666,
              "#ed7953"
             ],
             [
              0.7777777777777778,
              "#fb9f3a"
             ],
             [
              0.8888888888888888,
              "#fdca26"
             ],
             [
              1,
              "#f0f921"
             ]
            ],
            "type": "histogram2d"
           }
          ],
          "histogram2dcontour": [
           {
            "colorbar": {
             "outlinewidth": 0,
             "ticks": ""
            },
            "colorscale": [
             [
              0,
              "#0d0887"
             ],
             [
              0.1111111111111111,
              "#46039f"
             ],
             [
              0.2222222222222222,
              "#7201a8"
             ],
             [
              0.3333333333333333,
              "#9c179e"
             ],
             [
              0.4444444444444444,
              "#bd3786"
             ],
             [
              0.5555555555555556,
              "#d8576b"
             ],
             [
              0.6666666666666666,
              "#ed7953"
             ],
             [
              0.7777777777777778,
              "#fb9f3a"
             ],
             [
              0.8888888888888888,
              "#fdca26"
             ],
             [
              1,
              "#f0f921"
             ]
            ],
            "type": "histogram2dcontour"
           }
          ],
          "mesh3d": [
           {
            "colorbar": {
             "outlinewidth": 0,
             "ticks": ""
            },
            "type": "mesh3d"
           }
          ],
          "parcoords": [
           {
            "line": {
             "colorbar": {
              "outlinewidth": 0,
              "ticks": ""
             }
            },
            "type": "parcoords"
           }
          ],
          "pie": [
           {
            "automargin": true,
            "type": "pie"
           }
          ],
          "scatter": [
           {
            "fillpattern": {
             "fillmode": "overlay",
             "size": 10,
             "solidity": 0.2
            },
            "type": "scatter"
           }
          ],
          "scatter3d": [
           {
            "line": {
             "colorbar": {
              "outlinewidth": 0,
              "ticks": ""
             }
            },
            "marker": {
             "colorbar": {
              "outlinewidth": 0,
              "ticks": ""
             }
            },
            "type": "scatter3d"
           }
          ],
          "scattercarpet": [
           {
            "marker": {
             "colorbar": {
              "outlinewidth": 0,
              "ticks": ""
             }
            },
            "type": "scattercarpet"
           }
          ],
          "scattergeo": [
           {
            "marker": {
             "colorbar": {
              "outlinewidth": 0,
              "ticks": ""
             }
            },
            "type": "scattergeo"
           }
          ],
          "scattergl": [
           {
            "marker": {
             "colorbar": {
              "outlinewidth": 0,
              "ticks": ""
             }
            },
            "type": "scattergl"
           }
          ],
          "scattermapbox": [
           {
            "marker": {
             "colorbar": {
              "outlinewidth": 0,
              "ticks": ""
             }
            },
            "type": "scattermapbox"
           }
          ],
          "scatterpolar": [
           {
            "marker": {
             "colorbar": {
              "outlinewidth": 0,
              "ticks": ""
             }
            },
            "type": "scatterpolar"
           }
          ],
          "scatterpolargl": [
           {
            "marker": {
             "colorbar": {
              "outlinewidth": 0,
              "ticks": ""
             }
            },
            "type": "scatterpolargl"
           }
          ],
          "scatterternary": [
           {
            "marker": {
             "colorbar": {
              "outlinewidth": 0,
              "ticks": ""
             }
            },
            "type": "scatterternary"
           }
          ],
          "surface": [
           {
            "colorbar": {
             "outlinewidth": 0,
             "ticks": ""
            },
            "colorscale": [
             [
              0,
              "#0d0887"
             ],
             [
              0.1111111111111111,
              "#46039f"
             ],
             [
              0.2222222222222222,
              "#7201a8"
             ],
             [
              0.3333333333333333,
              "#9c179e"
             ],
             [
              0.4444444444444444,
              "#bd3786"
             ],
             [
              0.5555555555555556,
              "#d8576b"
             ],
             [
              0.6666666666666666,
              "#ed7953"
             ],
             [
              0.7777777777777778,
              "#fb9f3a"
             ],
             [
              0.8888888888888888,
              "#fdca26"
             ],
             [
              1,
              "#f0f921"
             ]
            ],
            "type": "surface"
           }
          ],
          "table": [
           {
            "cells": {
             "fill": {
              "color": "#EBF0F8"
             },
             "line": {
              "color": "white"
             }
            },
            "header": {
             "fill": {
              "color": "#C8D4E3"
             },
             "line": {
              "color": "white"
             }
            },
            "type": "table"
           }
          ]
         },
         "layout": {
          "annotationdefaults": {
           "arrowcolor": "#2a3f5f",
           "arrowhead": 0,
           "arrowwidth": 1
          },
          "autotypenumbers": "strict",
          "coloraxis": {
           "colorbar": {
            "outlinewidth": 0,
            "ticks": ""
           }
          },
          "colorscale": {
           "diverging": [
            [
             0,
             "#8e0152"
            ],
            [
             0.1,
             "#c51b7d"
            ],
            [
             0.2,
             "#de77ae"
            ],
            [
             0.3,
             "#f1b6da"
            ],
            [
             0.4,
             "#fde0ef"
            ],
            [
             0.5,
             "#f7f7f7"
            ],
            [
             0.6,
             "#e6f5d0"
            ],
            [
             0.7,
             "#b8e186"
            ],
            [
             0.8,
             "#7fbc41"
            ],
            [
             0.9,
             "#4d9221"
            ],
            [
             1,
             "#276419"
            ]
           ],
           "sequential": [
            [
             0,
             "#0d0887"
            ],
            [
             0.1111111111111111,
             "#46039f"
            ],
            [
             0.2222222222222222,
             "#7201a8"
            ],
            [
             0.3333333333333333,
             "#9c179e"
            ],
            [
             0.4444444444444444,
             "#bd3786"
            ],
            [
             0.5555555555555556,
             "#d8576b"
            ],
            [
             0.6666666666666666,
             "#ed7953"
            ],
            [
             0.7777777777777778,
             "#fb9f3a"
            ],
            [
             0.8888888888888888,
             "#fdca26"
            ],
            [
             1,
             "#f0f921"
            ]
           ],
           "sequentialminus": [
            [
             0,
             "#0d0887"
            ],
            [
             0.1111111111111111,
             "#46039f"
            ],
            [
             0.2222222222222222,
             "#7201a8"
            ],
            [
             0.3333333333333333,
             "#9c179e"
            ],
            [
             0.4444444444444444,
             "#bd3786"
            ],
            [
             0.5555555555555556,
             "#d8576b"
            ],
            [
             0.6666666666666666,
             "#ed7953"
            ],
            [
             0.7777777777777778,
             "#fb9f3a"
            ],
            [
             0.8888888888888888,
             "#fdca26"
            ],
            [
             1,
             "#f0f921"
            ]
           ]
          },
          "colorway": [
           "#636efa",
           "#EF553B",
           "#00cc96",
           "#ab63fa",
           "#FFA15A",
           "#19d3f3",
           "#FF6692",
           "#B6E880",
           "#FF97FF",
           "#FECB52"
          ],
          "font": {
           "color": "#2a3f5f"
          },
          "geo": {
           "bgcolor": "white",
           "lakecolor": "white",
           "landcolor": "#E5ECF6",
           "showlakes": true,
           "showland": true,
           "subunitcolor": "white"
          },
          "hoverlabel": {
           "align": "left"
          },
          "hovermode": "closest",
          "mapbox": {
           "style": "light"
          },
          "paper_bgcolor": "white",
          "plot_bgcolor": "#E5ECF6",
          "polar": {
           "angularaxis": {
            "gridcolor": "white",
            "linecolor": "white",
            "ticks": ""
           },
           "bgcolor": "#E5ECF6",
           "radialaxis": {
            "gridcolor": "white",
            "linecolor": "white",
            "ticks": ""
           }
          },
          "scene": {
           "xaxis": {
            "backgroundcolor": "#E5ECF6",
            "gridcolor": "white",
            "gridwidth": 2,
            "linecolor": "white",
            "showbackground": true,
            "ticks": "",
            "zerolinecolor": "white"
           },
           "yaxis": {
            "backgroundcolor": "#E5ECF6",
            "gridcolor": "white",
            "gridwidth": 2,
            "linecolor": "white",
            "showbackground": true,
            "ticks": "",
            "zerolinecolor": "white"
           },
           "zaxis": {
            "backgroundcolor": "#E5ECF6",
            "gridcolor": "white",
            "gridwidth": 2,
            "linecolor": "white",
            "showbackground": true,
            "ticks": "",
            "zerolinecolor": "white"
           }
          },
          "shapedefaults": {
           "line": {
            "color": "#2a3f5f"
           }
          },
          "ternary": {
           "aaxis": {
            "gridcolor": "white",
            "linecolor": "white",
            "ticks": ""
           },
           "baxis": {
            "gridcolor": "white",
            "linecolor": "white",
            "ticks": ""
           },
           "bgcolor": "#E5ECF6",
           "caxis": {
            "gridcolor": "white",
            "linecolor": "white",
            "ticks": ""
           }
          },
          "title": {
           "x": 0.05
          },
          "xaxis": {
           "automargin": true,
           "gridcolor": "white",
           "linecolor": "white",
           "ticks": "",
           "title": {
            "standoff": 15
           },
           "zerolinecolor": "white",
           "zerolinewidth": 2
          },
          "yaxis": {
           "automargin": true,
           "gridcolor": "white",
           "linecolor": "white",
           "ticks": "",
           "title": {
            "standoff": 15
           },
           "zerolinecolor": "white",
           "zerolinewidth": 2
          }
         }
        },
        "title": {
         "text": "<b>Company Breakdown by post</b>"
        }
       }
      }
     },
     "metadata": {},
     "output_type": "display_data"
    }
   ],
   "source": [
    "import plotly.graph_objects as go\n",
    "\n",
    "fig = go.Figure(go.Bar(\n",
    "            x=company_count['count'],\n",
    "            y=company_count['company'],\n",
    "            text = company_count['count'],\n",
    "            orientation='h'))\n",
    "fig.update_layout(\n",
    "            title= '<b>Company Breakdown by post</b>',\n",
    "            font=dict(\n",
    "                size=12,\n",
    "                color=\"Black\"\n",
    "            )\n",
    "        )\n",
    "fig.show()"
   ]
  },
  {
   "cell_type": "markdown",
   "metadata": {},
   "source": []
  }
 ],
 "metadata": {
  "kernelspec": {
   "display_name": "Python 3.9.7 ('base')",
   "language": "python",
   "name": "python3"
  },
  "language_info": {
   "codemirror_mode": {
    "name": "ipython",
    "version": 3
   },
   "file_extension": ".py",
   "mimetype": "text/x-python",
   "name": "python",
   "nbconvert_exporter": "python",
   "pygments_lexer": "ipython3",
   "version": "3.9.7"
  },
  "toc": {
   "base_numbering": 1,
   "nav_menu": {},
   "number_sections": true,
   "sideBar": true,
   "skip_h1_title": false,
   "title_cell": "Table of Contents",
   "title_sidebar": "Contents",
   "toc_cell": false,
   "toc_position": {},
   "toc_section_display": true,
   "toc_window_display": false
  },
  "vscode": {
   "interpreter": {
    "hash": "760399d31acb1a8058deb4a63826561ea9e55f4191dfdf735b2282a92cebf211"
   }
  }
 },
 "nbformat": 4,
 "nbformat_minor": 4
}
