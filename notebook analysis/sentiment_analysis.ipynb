{
 "cells": [
  {
   "cell_type": "code",
   "execution_count": 6,
   "metadata": {},
   "outputs": [],
   "source": [
    "# NLTK\n",
    "import nltk\n",
    "from nltk import tokenize, word_tokenize\n",
    "from nltk.tokenize import sent_tokenize, word_tokenize, RegexpTokenizer\n",
    "from nltk.text import Text\n",
    "from nltk.corpus import brown, stopwords\n",
    "from nltk.stem.snowball import SnowballStemmer\n",
    "from nltk.classify import NaiveBayesClassifier\n",
    "\n",
    "# TQDM\n",
    "from tqdm import tqdm_notebook as tqdm\n",
    "from tqdm import trange\n",
    "from distutils.command.build import build\n",
    "\n",
    "# General Libraries\n",
    "import requests\n",
    "import re\n",
    "import pandas as pd\n",
    "import spacy\n",
    "import pymysql\n",
    "import string\n",
    "import numpy as np\n",
    "from sqlalchemy import create_engine\n",
    "\n",
    "# Sentiment Analyser\n",
    "from vaderSentiment.vaderSentiment import SentimentIntensityAnalyzer"
   ]
  },
  {
   "cell_type": "code",
   "execution_count": 7,
   "metadata": {},
   "outputs": [],
   "source": [
    "host='database-1.cg01lulzqvm7.ap-southeast-1.rds.amazonaws.com'\n",
    "port=int(3306)\n",
    "user='zhenyuen'\n",
    "passw = 'zhenyuen488'\n",
    "database = 'ANL488_database_2'"
   ]
  },
  {
   "cell_type": "code",
   "execution_count": 8,
   "metadata": {},
   "outputs": [],
   "source": [
    "connection = pymysql.connect(host = f'{host}',  \n",
    "                             user = f'{user}', \n",
    "                             password = f'{passw}',\n",
    "                             database = f'{database}')"
   ]
  },
  {
   "cell_type": "code",
   "execution_count": 9,
   "metadata": {},
   "outputs": [
    {
     "name": "stderr",
     "output_type": "stream",
     "text": [
      "c:\\Users\\zheny\\AppData\\Local\\Programs\\Python\\Python38\\lib\\site-packages\\pandas\\io\\sql.py:761: UserWarning: pandas only support SQLAlchemy connectable(engine/connection) ordatabase string URI or sqlite3 DBAPI2 connectionother DBAPI2 objects are not tested, please consider using SQLAlchemy\n",
      "  warnings.warn(\n"
     ]
    },
    {
     "data": {
      "text/html": [
       "<div>\n",
       "<style scoped>\n",
       "    .dataframe tbody tr th:only-of-type {\n",
       "        vertical-align: middle;\n",
       "    }\n",
       "\n",
       "    .dataframe tbody tr th {\n",
       "        vertical-align: top;\n",
       "    }\n",
       "\n",
       "    .dataframe thead th {\n",
       "        text-align: right;\n",
       "    }\n",
       "</style>\n",
       "<table border=\"1\" class=\"dataframe\">\n",
       "  <thead>\n",
       "    <tr style=\"text-align: right;\">\n",
       "      <th></th>\n",
       "      <th>date</th>\n",
       "      <th>year exp</th>\n",
       "      <th>score</th>\n",
       "      <th>pros</th>\n",
       "      <th>cons</th>\n",
       "      <th>position</th>\n",
       "    </tr>\n",
       "  </thead>\n",
       "  <tbody>\n",
       "    <tr>\n",
       "      <th>0</th>\n",
       "      <td>2022-08-20</td>\n",
       "      <td>Current Employee, less than 1 year</td>\n",
       "      <td>5.0</td>\n",
       "      <td>flexible working culture, good benefits</td>\n",
       "      <td>limited learning opportunities and unclear car...</td>\n",
       "      <td>Anonymous Employee</td>\n",
       "    </tr>\n",
       "    <tr>\n",
       "      <th>1</th>\n",
       "      <td>2022-08-17</td>\n",
       "      <td>Former Employee, less than 1 year</td>\n",
       "      <td>5.0</td>\n",
       "      <td>all people are sooo nice in our team, enjoy wo...</td>\n",
       "      <td>so many meetings in our team</td>\n",
       "      <td>Data Analyst</td>\n",
       "    </tr>\n",
       "    <tr>\n",
       "      <th>2</th>\n",
       "      <td>2022-08-10</td>\n",
       "      <td>Former Employee, more than 1 year</td>\n",
       "      <td>5.0</td>\n",
       "      <td>Good culture, great team and good benefits!</td>\n",
       "      <td>No idea when the company will IPO thus, do not...</td>\n",
       "      <td>Manager</td>\n",
       "    </tr>\n",
       "    <tr>\n",
       "      <th>3</th>\n",
       "      <td>2022-08-22</td>\n",
       "      <td>Former Employee, less than 1 year</td>\n",
       "      <td>3.0</td>\n",
       "      <td>- very fast-paced fintech company, - generous ...</td>\n",
       "      <td>- zero work-life balance, too many unnecessary...</td>\n",
       "      <td>Global SOP Enablement</td>\n",
       "    </tr>\n",
       "    <tr>\n",
       "      <th>4</th>\n",
       "      <td>2022-08-18</td>\n",
       "      <td>Current Employee, more than 1 year</td>\n",
       "      <td>4.0</td>\n",
       "      <td>Good boss, Modern tech tools, Free lunch</td>\n",
       "      <td>Irregular working hours, Excessive workload , ...</td>\n",
       "      <td>Data Engineer</td>\n",
       "    </tr>\n",
       "  </tbody>\n",
       "</table>\n",
       "</div>"
      ],
      "text/plain": [
       "         date                            year exp  score  \\\n",
       "0  2022-08-20  Current Employee, less than 1 year    5.0   \n",
       "1  2022-08-17   Former Employee, less than 1 year    5.0   \n",
       "2  2022-08-10   Former Employee, more than 1 year    5.0   \n",
       "3  2022-08-22   Former Employee, less than 1 year    3.0   \n",
       "4  2022-08-18  Current Employee, more than 1 year    4.0   \n",
       "\n",
       "                                                pros  \\\n",
       "0            flexible working culture, good benefits   \n",
       "1  all people are sooo nice in our team, enjoy wo...   \n",
       "2        Good culture, great team and good benefits!   \n",
       "3  - very fast-paced fintech company, - generous ...   \n",
       "4           Good boss, Modern tech tools, Free lunch   \n",
       "\n",
       "                                                cons               position  \n",
       "0  limited learning opportunities and unclear car...     Anonymous Employee  \n",
       "1                       so many meetings in our team           Data Analyst  \n",
       "2  No idea when the company will IPO thus, do not...                Manager  \n",
       "3  - zero work-life balance, too many unnecessary...  Global SOP Enablement  \n",
       "4  Irregular working hours, Excessive workload , ...          Data Engineer  "
      ]
     },
     "execution_count": 9,
     "metadata": {},
     "output_type": "execute_result"
    }
   ],
   "source": [
    "bytedance_glassdoor = pd.read_sql_query('''select * from Bytedance_Glassdoor_Reviews''', connection)\n",
    "bytedance_glassdoor.head()"
   ]
  },
  {
   "cell_type": "markdown",
   "metadata": {},
   "source": [
    "### Sentiment Analysis"
   ]
  },
  {
   "cell_type": "code",
   "execution_count": 10,
   "metadata": {},
   "outputs": [
    {
     "name": "stderr",
     "output_type": "stream",
     "text": [
      "C:\\Users\\zheny\\AppData\\Local\\Temp\\ipykernel_29356\\262210544.py:14: FutureWarning: The default value of regex will change from True to False in a future version.\n",
      "  bytedance_glassdoor[\"reviews\"] = bytedance_glassdoor['reviews'].str.replace('[^\\w\\s]','')\n"
     ]
    }
   ],
   "source": [
    "# =================================\n",
    "# Preprocessing\n",
    "# =================================\n",
    "bytedance_glassdoor['reviews'] = bytedance_glassdoor['pros'] + bytedance_glassdoor['cons']\n",
    "\n",
    "# Convert to lowercase\n",
    "bytedance_glassdoor['reviews'] = bytedance_glassdoor['reviews'].str.lower()\n",
    "\n",
    "# Remove Stop Words\n",
    "stop = stopwords.words('english')\n",
    "bytedance_glassdoor['reviews'] = bytedance_glassdoor['reviews'].apply(lambda x: ' '.join([word for word in x.split() if word not in (stop)]))\n",
    "\n",
    "# Remove punctuations\n",
    "bytedance_glassdoor[\"reviews\"] = bytedance_glassdoor['reviews'].str.replace('[^\\w\\s]','')"
   ]
  },
  {
   "cell_type": "code",
   "execution_count": 11,
   "metadata": {},
   "outputs": [
    {
     "data": {
      "text/html": [
       "<div>\n",
       "<style scoped>\n",
       "    .dataframe tbody tr th:only-of-type {\n",
       "        vertical-align: middle;\n",
       "    }\n",
       "\n",
       "    .dataframe tbody tr th {\n",
       "        vertical-align: top;\n",
       "    }\n",
       "\n",
       "    .dataframe thead th {\n",
       "        text-align: right;\n",
       "    }\n",
       "</style>\n",
       "<table border=\"1\" class=\"dataframe\">\n",
       "  <thead>\n",
       "    <tr style=\"text-align: right;\">\n",
       "      <th></th>\n",
       "      <th>date</th>\n",
       "      <th>year exp</th>\n",
       "      <th>score</th>\n",
       "      <th>pros</th>\n",
       "      <th>cons</th>\n",
       "      <th>position</th>\n",
       "      <th>reviews</th>\n",
       "    </tr>\n",
       "  </thead>\n",
       "  <tbody>\n",
       "    <tr>\n",
       "      <th>0</th>\n",
       "      <td>2022-08-20</td>\n",
       "      <td>Current Employee, less than 1 year</td>\n",
       "      <td>5.0</td>\n",
       "      <td>flexible working culture, good benefits</td>\n",
       "      <td>limited learning opportunities and unclear car...</td>\n",
       "      <td>Anonymous Employee</td>\n",
       "      <td>flexible, working, culture, good, benefitslimi...</td>\n",
       "    </tr>\n",
       "    <tr>\n",
       "      <th>1</th>\n",
       "      <td>2022-08-17</td>\n",
       "      <td>Former Employee, less than 1 year</td>\n",
       "      <td>5.0</td>\n",
       "      <td>all people are sooo nice in our team, enjoy wo...</td>\n",
       "      <td>so many meetings in our team</td>\n",
       "      <td>Data Analyst</td>\n",
       "      <td>people, sooo, nice, team, enjoy, working, ther...</td>\n",
       "    </tr>\n",
       "    <tr>\n",
       "      <th>2</th>\n",
       "      <td>2022-08-10</td>\n",
       "      <td>Former Employee, more than 1 year</td>\n",
       "      <td>5.0</td>\n",
       "      <td>Good culture, great team and good benefits!</td>\n",
       "      <td>No idea when the company will IPO thus, do not...</td>\n",
       "      <td>Manager</td>\n",
       "      <td>good, culture, great, team, good, benefitsno, ...</td>\n",
       "    </tr>\n",
       "    <tr>\n",
       "      <th>3</th>\n",
       "      <td>2022-08-22</td>\n",
       "      <td>Former Employee, less than 1 year</td>\n",
       "      <td>3.0</td>\n",
       "      <td>- very fast-paced fintech company, - generous ...</td>\n",
       "      <td>- zero work-life balance, too many unnecessary...</td>\n",
       "      <td>Global SOP Enablement</td>\n",
       "      <td>fastpaced, fintech, company, generous, benefit...</td>\n",
       "    </tr>\n",
       "    <tr>\n",
       "      <th>4</th>\n",
       "      <td>2022-08-18</td>\n",
       "      <td>Current Employee, more than 1 year</td>\n",
       "      <td>4.0</td>\n",
       "      <td>Good boss, Modern tech tools, Free lunch</td>\n",
       "      <td>Irregular working hours, Excessive workload , ...</td>\n",
       "      <td>Data Engineer</td>\n",
       "      <td>good, bos, modern, tech, tool, free, lunchirre...</td>\n",
       "    </tr>\n",
       "  </tbody>\n",
       "</table>\n",
       "</div>"
      ],
      "text/plain": [
       "         date                            year exp  score  \\\n",
       "0  2022-08-20  Current Employee, less than 1 year    5.0   \n",
       "1  2022-08-17   Former Employee, less than 1 year    5.0   \n",
       "2  2022-08-10   Former Employee, more than 1 year    5.0   \n",
       "3  2022-08-22   Former Employee, less than 1 year    3.0   \n",
       "4  2022-08-18  Current Employee, more than 1 year    4.0   \n",
       "\n",
       "                                                pros  \\\n",
       "0            flexible working culture, good benefits   \n",
       "1  all people are sooo nice in our team, enjoy wo...   \n",
       "2        Good culture, great team and good benefits!   \n",
       "3  - very fast-paced fintech company, - generous ...   \n",
       "4           Good boss, Modern tech tools, Free lunch   \n",
       "\n",
       "                                                cons               position  \\\n",
       "0  limited learning opportunities and unclear car...     Anonymous Employee   \n",
       "1                       so many meetings in our team           Data Analyst   \n",
       "2  No idea when the company will IPO thus, do not...                Manager   \n",
       "3  - zero work-life balance, too many unnecessary...  Global SOP Enablement   \n",
       "4  Irregular working hours, Excessive workload , ...          Data Engineer   \n",
       "\n",
       "                                             reviews  \n",
       "0  flexible, working, culture, good, benefitslimi...  \n",
       "1  people, sooo, nice, team, enjoy, working, ther...  \n",
       "2  good, culture, great, team, good, benefitsno, ...  \n",
       "3  fastpaced, fintech, company, generous, benefit...  \n",
       "4  good, bos, modern, tech, tool, free, lunchirre...  "
      ]
     },
     "execution_count": 11,
     "metadata": {},
     "output_type": "execute_result"
    }
   ],
   "source": [
    "# Lemmentisation\n",
    "w_tokenizer = nltk.tokenize.WhitespaceTokenizer()\n",
    "lemmatizer = nltk.stem.WordNetLemmatizer()\n",
    "\n",
    "def lemmatize_text(text):\n",
    "    return [lemmatizer.lemmatize(w) for w in w_tokenizer.tokenize(text)]\n",
    "\n",
    "bytedance_glassdoor['reviews'] = bytedance_glassdoor['reviews'].apply(lemmatize_text)\n",
    "bytedance_glassdoor['reviews'] = bytedance_glassdoor['reviews'].apply(', '.join)\n",
    "\n",
    "bytedance_glassdoor.head()"
   ]
  },
  {
   "cell_type": "code",
   "execution_count": 12,
   "metadata": {},
   "outputs": [],
   "source": [
    "analyzer = SentimentIntensityAnalyzer()\n",
    "\n",
    "sentiments_list = list()\n",
    "\n",
    "for review in bytedance_glassdoor['reviews'].tolist():\n",
    "    sentence_list = tokenize.sent_tokenize(review)\n",
    "    sentiments = {'compound': 0.0, 'neg': 0.0, 'neu': 0.0, 'pos': 0.0}\n",
    "        \n",
    "    for sentence in sentence_list:\n",
    "        vs = analyzer.polarity_scores(sentence)\n",
    "        sentiments['compound'] += vs['compound']\n",
    "        sentiments['neg'] += vs['neg']\n",
    "        sentiments['neu'] += vs['neu']\n",
    "        sentiments['pos'] += vs['pos']\n",
    "            \n",
    "    sentiments['compound'] = sentiments['compound'] / len(sentence_list)\n",
    "    sentiments['neg'] = sentiments['neg'] / len(sentence_list)\n",
    "    sentiments['neu'] = sentiments['neu'] / len(sentence_list)\n",
    "    sentiments['pos'] = sentiments['pos'] / len(sentence_list)\n",
    "    \n",
    "    sentiments_list.append(sentiments)  # add this line"
   ]
  },
  {
   "cell_type": "code",
   "execution_count": 13,
   "metadata": {},
   "outputs": [
    {
     "data": {
      "text/html": [
       "<div>\n",
       "<style scoped>\n",
       "    .dataframe tbody tr th:only-of-type {\n",
       "        vertical-align: middle;\n",
       "    }\n",
       "\n",
       "    .dataframe tbody tr th {\n",
       "        vertical-align: top;\n",
       "    }\n",
       "\n",
       "    .dataframe thead th {\n",
       "        text-align: right;\n",
       "    }\n",
       "</style>\n",
       "<table border=\"1\" class=\"dataframe\">\n",
       "  <thead>\n",
       "    <tr style=\"text-align: right;\">\n",
       "      <th></th>\n",
       "      <th>date</th>\n",
       "      <th>year exp</th>\n",
       "      <th>score</th>\n",
       "      <th>pros</th>\n",
       "      <th>cons</th>\n",
       "      <th>position</th>\n",
       "      <th>reviews</th>\n",
       "      <th>compound</th>\n",
       "      <th>neg</th>\n",
       "      <th>neu</th>\n",
       "      <th>pos</th>\n",
       "    </tr>\n",
       "  </thead>\n",
       "  <tbody>\n",
       "    <tr>\n",
       "      <th>0</th>\n",
       "      <td>2022-08-20</td>\n",
       "      <td>Current Employee, less than 1 year</td>\n",
       "      <td>5.0</td>\n",
       "      <td>flexible working culture, good benefits</td>\n",
       "      <td>limited learning opportunities and unclear car...</td>\n",
       "      <td>Anonymous Employee</td>\n",
       "      <td>flexible, working, culture, good, benefitslimi...</td>\n",
       "      <td>0.6808</td>\n",
       "      <td>0.128</td>\n",
       "      <td>0.385</td>\n",
       "      <td>0.487</td>\n",
       "    </tr>\n",
       "    <tr>\n",
       "      <th>1</th>\n",
       "      <td>2022-08-17</td>\n",
       "      <td>Former Employee, less than 1 year</td>\n",
       "      <td>5.0</td>\n",
       "      <td>all people are sooo nice in our team, enjoy wo...</td>\n",
       "      <td>so many meetings in our team</td>\n",
       "      <td>Data Analyst</td>\n",
       "      <td>people, sooo, nice, team, enjoy, working, ther...</td>\n",
       "      <td>0.7184</td>\n",
       "      <td>0.000</td>\n",
       "      <td>0.571</td>\n",
       "      <td>0.429</td>\n",
       "    </tr>\n",
       "    <tr>\n",
       "      <th>2</th>\n",
       "      <td>2022-08-10</td>\n",
       "      <td>Former Employee, more than 1 year</td>\n",
       "      <td>5.0</td>\n",
       "      <td>Good culture, great team and good benefits!</td>\n",
       "      <td>No idea when the company will IPO thus, do not...</td>\n",
       "      <td>Manager</td>\n",
       "      <td>good, culture, great, team, good, benefitsno, ...</td>\n",
       "      <td>0.8720</td>\n",
       "      <td>0.000</td>\n",
       "      <td>0.548</td>\n",
       "      <td>0.452</td>\n",
       "    </tr>\n",
       "    <tr>\n",
       "      <th>3</th>\n",
       "      <td>2022-08-22</td>\n",
       "      <td>Former Employee, less than 1 year</td>\n",
       "      <td>3.0</td>\n",
       "      <td>- very fast-paced fintech company, - generous ...</td>\n",
       "      <td>- zero work-life balance, too many unnecessary...</td>\n",
       "      <td>Global SOP Enablement</td>\n",
       "      <td>fastpaced, fintech, company, generous, benefit...</td>\n",
       "      <td>0.9383</td>\n",
       "      <td>0.000</td>\n",
       "      <td>0.786</td>\n",
       "      <td>0.214</td>\n",
       "    </tr>\n",
       "    <tr>\n",
       "      <th>4</th>\n",
       "      <td>2022-08-18</td>\n",
       "      <td>Current Employee, more than 1 year</td>\n",
       "      <td>4.0</td>\n",
       "      <td>Good boss, Modern tech tools, Free lunch</td>\n",
       "      <td>Irregular working hours, Excessive workload , ...</td>\n",
       "      <td>Data Engineer</td>\n",
       "      <td>good, bos, modern, tech, tool, free, lunchirre...</td>\n",
       "      <td>0.4767</td>\n",
       "      <td>0.153</td>\n",
       "      <td>0.542</td>\n",
       "      <td>0.305</td>\n",
       "    </tr>\n",
       "  </tbody>\n",
       "</table>\n",
       "</div>"
      ],
      "text/plain": [
       "         date                            year exp  score  \\\n",
       "0  2022-08-20  Current Employee, less than 1 year    5.0   \n",
       "1  2022-08-17   Former Employee, less than 1 year    5.0   \n",
       "2  2022-08-10   Former Employee, more than 1 year    5.0   \n",
       "3  2022-08-22   Former Employee, less than 1 year    3.0   \n",
       "4  2022-08-18  Current Employee, more than 1 year    4.0   \n",
       "\n",
       "                                                pros  \\\n",
       "0            flexible working culture, good benefits   \n",
       "1  all people are sooo nice in our team, enjoy wo...   \n",
       "2        Good culture, great team and good benefits!   \n",
       "3  - very fast-paced fintech company, - generous ...   \n",
       "4           Good boss, Modern tech tools, Free lunch   \n",
       "\n",
       "                                                cons               position  \\\n",
       "0  limited learning opportunities and unclear car...     Anonymous Employee   \n",
       "1                       so many meetings in our team           Data Analyst   \n",
       "2  No idea when the company will IPO thus, do not...                Manager   \n",
       "3  - zero work-life balance, too many unnecessary...  Global SOP Enablement   \n",
       "4  Irregular working hours, Excessive workload , ...          Data Engineer   \n",
       "\n",
       "                                             reviews  compound    neg    neu  \\\n",
       "0  flexible, working, culture, good, benefitslimi...    0.6808  0.128  0.385   \n",
       "1  people, sooo, nice, team, enjoy, working, ther...    0.7184  0.000  0.571   \n",
       "2  good, culture, great, team, good, benefitsno, ...    0.8720  0.000  0.548   \n",
       "3  fastpaced, fintech, company, generous, benefit...    0.9383  0.000  0.786   \n",
       "4  good, bos, modern, tech, tool, free, lunchirre...    0.4767  0.153  0.542   \n",
       "\n",
       "     pos  \n",
       "0  0.487  \n",
       "1  0.429  \n",
       "2  0.452  \n",
       "3  0.214  \n",
       "4  0.305  "
      ]
     },
     "execution_count": 13,
     "metadata": {},
     "output_type": "execute_result"
    }
   ],
   "source": [
    "bytedance_glassdoor = bytedance_glassdoor.join(pd.DataFrame(sentiments_list))\n",
    "bytedance_glassdoor.head()"
   ]
  },
  {
   "cell_type": "markdown",
   "metadata": {},
   "source": [
    "### Emotion Lexicon"
   ]
  },
  {
   "cell_type": "code",
   "execution_count": 14,
   "metadata": {},
   "outputs": [
    {
     "name": "stderr",
     "output_type": "stream",
     "text": [
      "c:\\Users\\zheny\\AppData\\Local\\Programs\\Python\\Python38\\lib\\site-packages\\pandas\\io\\sql.py:761: UserWarning: pandas only support SQLAlchemy connectable(engine/connection) ordatabase string URI or sqlite3 DBAPI2 connectionother DBAPI2 objects are not tested, please consider using SQLAlchemy\n",
      "  warnings.warn(\n"
     ]
    },
    {
     "data": {
      "text/html": [
       "<div>\n",
       "<style scoped>\n",
       "    .dataframe tbody tr th:only-of-type {\n",
       "        vertical-align: middle;\n",
       "    }\n",
       "\n",
       "    .dataframe tbody tr th {\n",
       "        vertical-align: top;\n",
       "    }\n",
       "\n",
       "    .dataframe thead th {\n",
       "        text-align: right;\n",
       "    }\n",
       "</style>\n",
       "<table border=\"1\" class=\"dataframe\">\n",
       "  <thead>\n",
       "    <tr style=\"text-align: right;\">\n",
       "      <th></th>\n",
       "      <th>Word</th>\n",
       "      <th>Positive</th>\n",
       "      <th>Negative</th>\n",
       "      <th>Anger</th>\n",
       "      <th>Anticipation</th>\n",
       "      <th>Disgust</th>\n",
       "      <th>Fear</th>\n",
       "      <th>Joy</th>\n",
       "      <th>Sadness</th>\n",
       "      <th>Surprise</th>\n",
       "      <th>Trust</th>\n",
       "    </tr>\n",
       "  </thead>\n",
       "  <tbody>\n",
       "    <tr>\n",
       "      <th>0</th>\n",
       "      <td>aback</td>\n",
       "      <td>0</td>\n",
       "      <td>0</td>\n",
       "      <td>0</td>\n",
       "      <td>0</td>\n",
       "      <td>0</td>\n",
       "      <td>0</td>\n",
       "      <td>0</td>\n",
       "      <td>0</td>\n",
       "      <td>0</td>\n",
       "      <td>0</td>\n",
       "    </tr>\n",
       "    <tr>\n",
       "      <th>1</th>\n",
       "      <td>abacus</td>\n",
       "      <td>0</td>\n",
       "      <td>0</td>\n",
       "      <td>0</td>\n",
       "      <td>0</td>\n",
       "      <td>0</td>\n",
       "      <td>0</td>\n",
       "      <td>0</td>\n",
       "      <td>0</td>\n",
       "      <td>0</td>\n",
       "      <td>1</td>\n",
       "    </tr>\n",
       "    <tr>\n",
       "      <th>2</th>\n",
       "      <td>abandon</td>\n",
       "      <td>0</td>\n",
       "      <td>1</td>\n",
       "      <td>0</td>\n",
       "      <td>0</td>\n",
       "      <td>0</td>\n",
       "      <td>1</td>\n",
       "      <td>0</td>\n",
       "      <td>1</td>\n",
       "      <td>0</td>\n",
       "      <td>0</td>\n",
       "    </tr>\n",
       "    <tr>\n",
       "      <th>3</th>\n",
       "      <td>abandoned</td>\n",
       "      <td>0</td>\n",
       "      <td>1</td>\n",
       "      <td>1</td>\n",
       "      <td>0</td>\n",
       "      <td>0</td>\n",
       "      <td>1</td>\n",
       "      <td>0</td>\n",
       "      <td>1</td>\n",
       "      <td>0</td>\n",
       "      <td>0</td>\n",
       "    </tr>\n",
       "    <tr>\n",
       "      <th>4</th>\n",
       "      <td>abandonment</td>\n",
       "      <td>0</td>\n",
       "      <td>1</td>\n",
       "      <td>1</td>\n",
       "      <td>0</td>\n",
       "      <td>0</td>\n",
       "      <td>1</td>\n",
       "      <td>0</td>\n",
       "      <td>1</td>\n",
       "      <td>1</td>\n",
       "      <td>0</td>\n",
       "    </tr>\n",
       "  </tbody>\n",
       "</table>\n",
       "</div>"
      ],
      "text/plain": [
       "          Word  Positive  Negative  Anger  Anticipation  Disgust  Fear  Joy  \\\n",
       "0        aback         0         0      0             0        0     0    0   \n",
       "1       abacus         0         0      0             0        0     0    0   \n",
       "2      abandon         0         1      0             0        0     1    0   \n",
       "3    abandoned         0         1      1             0        0     1    0   \n",
       "4  abandonment         0         1      1             0        0     1    0   \n",
       "\n",
       "   Sadness  Surprise  Trust  \n",
       "0        0         0      0  \n",
       "1        0         0      1  \n",
       "2        1         0      0  \n",
       "3        1         0      0  \n",
       "4        1         1      0  "
      ]
     },
     "execution_count": 14,
     "metadata": {},
     "output_type": "execute_result"
    }
   ],
   "source": [
    "emotion_lexicon_df = pd.read_sql_query('''select * from NRC_Emotion_Lexicon''', connection)\n",
    "emotion_lexicon_df.head()"
   ]
  },
  {
   "cell_type": "code",
   "execution_count": 15,
   "metadata": {},
   "outputs": [
    {
     "data": {
      "text/plain": [
       "Index(['Word', 'Positive', 'Negative', 'Anger', 'Anticipation', 'Disgust',\n",
       "       'Fear', 'Joy', 'Sadness', 'Surprise', 'Trust'],\n",
       "      dtype='object')"
      ]
     },
     "execution_count": 15,
     "metadata": {},
     "output_type": "execute_result"
    }
   ],
   "source": [
    "emotion_lexicon_df.columns"
   ]
  },
  {
   "cell_type": "code",
   "execution_count": 16,
   "metadata": {},
   "outputs": [
    {
     "data": {
      "text/html": [
       "<div>\n",
       "<style scoped>\n",
       "    .dataframe tbody tr th:only-of-type {\n",
       "        vertical-align: middle;\n",
       "    }\n",
       "\n",
       "    .dataframe tbody tr th {\n",
       "        vertical-align: top;\n",
       "    }\n",
       "\n",
       "    .dataframe thead th {\n",
       "        text-align: right;\n",
       "    }\n",
       "</style>\n",
       "<table border=\"1\" class=\"dataframe\">\n",
       "  <thead>\n",
       "    <tr style=\"text-align: right;\">\n",
       "      <th></th>\n",
       "      <th>Word</th>\n",
       "      <th>Positive</th>\n",
       "      <th>Negative</th>\n",
       "      <th>Anger</th>\n",
       "      <th>Anticipation</th>\n",
       "      <th>Disgust</th>\n",
       "      <th>Fear</th>\n",
       "      <th>Joy</th>\n",
       "      <th>Sadness</th>\n",
       "      <th>Surprise</th>\n",
       "      <th>Trust</th>\n",
       "    </tr>\n",
       "  </thead>\n",
       "  <tbody>\n",
       "    <tr>\n",
       "      <th>0</th>\n",
       "      <td>0</td>\n",
       "      <td>0</td>\n",
       "      <td>0</td>\n",
       "      <td>0</td>\n",
       "      <td>0</td>\n",
       "      <td>0</td>\n",
       "      <td>0</td>\n",
       "      <td>0</td>\n",
       "      <td>0</td>\n",
       "      <td>0</td>\n",
       "      <td>0</td>\n",
       "    </tr>\n",
       "    <tr>\n",
       "      <th>1</th>\n",
       "      <td>0</td>\n",
       "      <td>0</td>\n",
       "      <td>0</td>\n",
       "      <td>0</td>\n",
       "      <td>0</td>\n",
       "      <td>0</td>\n",
       "      <td>0</td>\n",
       "      <td>0</td>\n",
       "      <td>0</td>\n",
       "      <td>0</td>\n",
       "      <td>0</td>\n",
       "    </tr>\n",
       "    <tr>\n",
       "      <th>2</th>\n",
       "      <td>0</td>\n",
       "      <td>0</td>\n",
       "      <td>0</td>\n",
       "      <td>0</td>\n",
       "      <td>0</td>\n",
       "      <td>0</td>\n",
       "      <td>0</td>\n",
       "      <td>0</td>\n",
       "      <td>0</td>\n",
       "      <td>0</td>\n",
       "      <td>0</td>\n",
       "    </tr>\n",
       "    <tr>\n",
       "      <th>3</th>\n",
       "      <td>0</td>\n",
       "      <td>0</td>\n",
       "      <td>0</td>\n",
       "      <td>0</td>\n",
       "      <td>0</td>\n",
       "      <td>0</td>\n",
       "      <td>0</td>\n",
       "      <td>0</td>\n",
       "      <td>0</td>\n",
       "      <td>0</td>\n",
       "      <td>0</td>\n",
       "    </tr>\n",
       "    <tr>\n",
       "      <th>4</th>\n",
       "      <td>0</td>\n",
       "      <td>0</td>\n",
       "      <td>0</td>\n",
       "      <td>0</td>\n",
       "      <td>0</td>\n",
       "      <td>0</td>\n",
       "      <td>0</td>\n",
       "      <td>0</td>\n",
       "      <td>0</td>\n",
       "      <td>0</td>\n",
       "      <td>0</td>\n",
       "    </tr>\n",
       "    <tr>\n",
       "      <th>...</th>\n",
       "      <td>...</td>\n",
       "      <td>...</td>\n",
       "      <td>...</td>\n",
       "      <td>...</td>\n",
       "      <td>...</td>\n",
       "      <td>...</td>\n",
       "      <td>...</td>\n",
       "      <td>...</td>\n",
       "      <td>...</td>\n",
       "      <td>...</td>\n",
       "      <td>...</td>\n",
       "    </tr>\n",
       "    <tr>\n",
       "      <th>965</th>\n",
       "      <td>0</td>\n",
       "      <td>0</td>\n",
       "      <td>0</td>\n",
       "      <td>0</td>\n",
       "      <td>0</td>\n",
       "      <td>0</td>\n",
       "      <td>0</td>\n",
       "      <td>0</td>\n",
       "      <td>0</td>\n",
       "      <td>0</td>\n",
       "      <td>0</td>\n",
       "    </tr>\n",
       "    <tr>\n",
       "      <th>966</th>\n",
       "      <td>0</td>\n",
       "      <td>0</td>\n",
       "      <td>0</td>\n",
       "      <td>0</td>\n",
       "      <td>0</td>\n",
       "      <td>0</td>\n",
       "      <td>0</td>\n",
       "      <td>0</td>\n",
       "      <td>0</td>\n",
       "      <td>0</td>\n",
       "      <td>0</td>\n",
       "    </tr>\n",
       "    <tr>\n",
       "      <th>967</th>\n",
       "      <td>0</td>\n",
       "      <td>0</td>\n",
       "      <td>0</td>\n",
       "      <td>0</td>\n",
       "      <td>0</td>\n",
       "      <td>0</td>\n",
       "      <td>0</td>\n",
       "      <td>0</td>\n",
       "      <td>0</td>\n",
       "      <td>0</td>\n",
       "      <td>0</td>\n",
       "    </tr>\n",
       "    <tr>\n",
       "      <th>968</th>\n",
       "      <td>0</td>\n",
       "      <td>0</td>\n",
       "      <td>0</td>\n",
       "      <td>0</td>\n",
       "      <td>0</td>\n",
       "      <td>0</td>\n",
       "      <td>0</td>\n",
       "      <td>0</td>\n",
       "      <td>0</td>\n",
       "      <td>0</td>\n",
       "      <td>0</td>\n",
       "    </tr>\n",
       "    <tr>\n",
       "      <th>969</th>\n",
       "      <td>0</td>\n",
       "      <td>0</td>\n",
       "      <td>0</td>\n",
       "      <td>0</td>\n",
       "      <td>0</td>\n",
       "      <td>0</td>\n",
       "      <td>0</td>\n",
       "      <td>0</td>\n",
       "      <td>0</td>\n",
       "      <td>0</td>\n",
       "      <td>0</td>\n",
       "    </tr>\n",
       "  </tbody>\n",
       "</table>\n",
       "<p>970 rows × 11 columns</p>\n",
       "</div>"
      ],
      "text/plain": [
       "     Word  Positive  Negative  Anger  Anticipation  Disgust  Fear  Joy  \\\n",
       "0       0         0         0      0             0        0     0    0   \n",
       "1       0         0         0      0             0        0     0    0   \n",
       "2       0         0         0      0             0        0     0    0   \n",
       "3       0         0         0      0             0        0     0    0   \n",
       "4       0         0         0      0             0        0     0    0   \n",
       "..    ...       ...       ...    ...           ...      ...   ...  ...   \n",
       "965     0         0         0      0             0        0     0    0   \n",
       "966     0         0         0      0             0        0     0    0   \n",
       "967     0         0         0      0             0        0     0    0   \n",
       "968     0         0         0      0             0        0     0    0   \n",
       "969     0         0         0      0             0        0     0    0   \n",
       "\n",
       "     Sadness  Surprise  Trust  \n",
       "0          0         0      0  \n",
       "1          0         0      0  \n",
       "2          0         0      0  \n",
       "3          0         0      0  \n",
       "4          0         0      0  \n",
       "..       ...       ...    ...  \n",
       "965        0         0      0  \n",
       "966        0         0      0  \n",
       "967        0         0      0  \n",
       "968        0         0      0  \n",
       "969        0         0      0  \n",
       "\n",
       "[970 rows x 11 columns]"
      ]
     },
     "execution_count": 16,
     "metadata": {},
     "output_type": "execute_result"
    }
   ],
   "source": [
    "emotions_df = pd.DataFrame(0, index=bytedance_glassdoor.index, columns=emotion_lexicon_df.columns)\n",
    "emotions_df"
   ]
  },
  {
   "cell_type": "code",
   "execution_count": 17,
   "metadata": {},
   "outputs": [
    {
     "name": "stderr",
     "output_type": "stream",
     "text": [
      "C:\\Users\\zheny\\AppData\\Local\\Temp\\ipykernel_29356\\1263332096.py:4: TqdmDeprecationWarning: This function will be removed in tqdm==5.0.0\n",
      "Please use `tqdm.notebook.tqdm` instead of `tqdm.tqdm_notebook`\n",
      "  with tqdm(total=len(list(bytedance_glassdoor.iterrows()))) as pbar:\n"
     ]
    },
    {
     "data": {
      "application/vnd.jupyter.widget-view+json": {
       "model_id": "bc2e792acb414165807aa30cc7059204",
       "version_major": 2,
       "version_minor": 0
      },
      "text/plain": [
       "  0%|          | 0/970 [00:00<?, ?it/s]"
      ]
     },
     "metadata": {},
     "output_type": "display_data"
    }
   ],
   "source": [
    "stemmer = SnowballStemmer('english')\n",
    "\n",
    "# TQDM as progress bar\n",
    "with tqdm(total=len(list(bytedance_glassdoor.iterrows()))) as pbar:\n",
    "    \n",
    "    # Iterate over reviews\n",
    "    for index, row in bytedance_glassdoor.iterrows():\n",
    "        # Update progress bar\n",
    "        pbar.update(1)\n",
    "        \n",
    "        # Tokenise reviews\n",
    "        document = word_tokenize(bytedance_glassdoor.loc[index]['reviews'])\n",
    "        \n",
    "        # Iterate over words in reviews\n",
    "        for word in document:\n",
    "            \n",
    "            # Stem and convert to lower\n",
    "            word = stemmer.stem(word.lower())\n",
    "            \n",
    "            # Match emotion score with NRC emotions database\n",
    "            emo_score = emotion_lexicon_df[emotion_lexicon_df['Word'] == word]\n",
    "            if not emo_score.empty:\n",
    "                for emotion in list(emotion_lexicon_df.columns.drop(\"Word\")):\n",
    "                    \n",
    "                    # Append emotions score\n",
    "                    emotions_df.at[index, emotion] += emo_score[emotion]"
   ]
  },
  {
   "cell_type": "code",
   "execution_count": 18,
   "metadata": {},
   "outputs": [],
   "source": [
    "exclusive_list = ['Anger', 'Fear', 'Disgust']\n",
    "openness_list = ['Joy', 'Trust', 'Anticipation']\n",
    "\n",
    "emotions_df['is_exclusive'] = emotions_df[exclusive_list].sum(axis = 1)\n",
    "emotions_df['is_open'] = emotions_df[openness_list].sum(axis = 1)"
   ]
  },
  {
   "cell_type": "code",
   "execution_count": 19,
   "metadata": {},
   "outputs": [
    {
     "data": {
      "text/html": [
       "<div>\n",
       "<style scoped>\n",
       "    .dataframe tbody tr th:only-of-type {\n",
       "        vertical-align: middle;\n",
       "    }\n",
       "\n",
       "    .dataframe tbody tr th {\n",
       "        vertical-align: top;\n",
       "    }\n",
       "\n",
       "    .dataframe thead th {\n",
       "        text-align: right;\n",
       "    }\n",
       "</style>\n",
       "<table border=\"1\" class=\"dataframe\">\n",
       "  <thead>\n",
       "    <tr style=\"text-align: right;\">\n",
       "      <th></th>\n",
       "      <th>Word</th>\n",
       "      <th>Positive</th>\n",
       "      <th>Negative</th>\n",
       "      <th>Anger</th>\n",
       "      <th>Anticipation</th>\n",
       "      <th>Disgust</th>\n",
       "      <th>Fear</th>\n",
       "      <th>Joy</th>\n",
       "      <th>Sadness</th>\n",
       "      <th>Surprise</th>\n",
       "      <th>Trust</th>\n",
       "      <th>is_exclusive</th>\n",
       "      <th>is_open</th>\n",
       "      <th>exclusive_openness</th>\n",
       "    </tr>\n",
       "  </thead>\n",
       "  <tbody>\n",
       "    <tr>\n",
       "      <th>0</th>\n",
       "      <td>0</td>\n",
       "      <td>4</td>\n",
       "      <td>0</td>\n",
       "      <td>0</td>\n",
       "      <td>3</td>\n",
       "      <td>0</td>\n",
       "      <td>0</td>\n",
       "      <td>2</td>\n",
       "      <td>0</td>\n",
       "      <td>1</td>\n",
       "      <td>1</td>\n",
       "      <td>0</td>\n",
       "      <td>6</td>\n",
       "      <td>open</td>\n",
       "    </tr>\n",
       "    <tr>\n",
       "      <th>1</th>\n",
       "      <td>0</td>\n",
       "      <td>1</td>\n",
       "      <td>0</td>\n",
       "      <td>0</td>\n",
       "      <td>1</td>\n",
       "      <td>0</td>\n",
       "      <td>0</td>\n",
       "      <td>1</td>\n",
       "      <td>0</td>\n",
       "      <td>0</td>\n",
       "      <td>3</td>\n",
       "      <td>0</td>\n",
       "      <td>5</td>\n",
       "      <td>open</td>\n",
       "    </tr>\n",
       "    <tr>\n",
       "      <th>2</th>\n",
       "      <td>0</td>\n",
       "      <td>4</td>\n",
       "      <td>0</td>\n",
       "      <td>1</td>\n",
       "      <td>3</td>\n",
       "      <td>0</td>\n",
       "      <td>1</td>\n",
       "      <td>3</td>\n",
       "      <td>0</td>\n",
       "      <td>2</td>\n",
       "      <td>4</td>\n",
       "      <td>2</td>\n",
       "      <td>10</td>\n",
       "      <td>open</td>\n",
       "    </tr>\n",
       "    <tr>\n",
       "      <th>3</th>\n",
       "      <td>0</td>\n",
       "      <td>7</td>\n",
       "      <td>0</td>\n",
       "      <td>0</td>\n",
       "      <td>5</td>\n",
       "      <td>0</td>\n",
       "      <td>0</td>\n",
       "      <td>3</td>\n",
       "      <td>1</td>\n",
       "      <td>0</td>\n",
       "      <td>3</td>\n",
       "      <td>0</td>\n",
       "      <td>11</td>\n",
       "      <td>open</td>\n",
       "    </tr>\n",
       "    <tr>\n",
       "      <th>4</th>\n",
       "      <td>0</td>\n",
       "      <td>1</td>\n",
       "      <td>1</td>\n",
       "      <td>0</td>\n",
       "      <td>1</td>\n",
       "      <td>0</td>\n",
       "      <td>0</td>\n",
       "      <td>1</td>\n",
       "      <td>0</td>\n",
       "      <td>1</td>\n",
       "      <td>1</td>\n",
       "      <td>0</td>\n",
       "      <td>3</td>\n",
       "      <td>open</td>\n",
       "    </tr>\n",
       "    <tr>\n",
       "      <th>...</th>\n",
       "      <td>...</td>\n",
       "      <td>...</td>\n",
       "      <td>...</td>\n",
       "      <td>...</td>\n",
       "      <td>...</td>\n",
       "      <td>...</td>\n",
       "      <td>...</td>\n",
       "      <td>...</td>\n",
       "      <td>...</td>\n",
       "      <td>...</td>\n",
       "      <td>...</td>\n",
       "      <td>...</td>\n",
       "      <td>...</td>\n",
       "      <td>...</td>\n",
       "    </tr>\n",
       "    <tr>\n",
       "      <th>965</th>\n",
       "      <td>0</td>\n",
       "      <td>0</td>\n",
       "      <td>0</td>\n",
       "      <td>0</td>\n",
       "      <td>0</td>\n",
       "      <td>0</td>\n",
       "      <td>0</td>\n",
       "      <td>0</td>\n",
       "      <td>0</td>\n",
       "      <td>0</td>\n",
       "      <td>0</td>\n",
       "      <td>0</td>\n",
       "      <td>0</td>\n",
       "      <td>open</td>\n",
       "    </tr>\n",
       "    <tr>\n",
       "      <th>966</th>\n",
       "      <td>0</td>\n",
       "      <td>1</td>\n",
       "      <td>0</td>\n",
       "      <td>0</td>\n",
       "      <td>0</td>\n",
       "      <td>0</td>\n",
       "      <td>0</td>\n",
       "      <td>0</td>\n",
       "      <td>0</td>\n",
       "      <td>0</td>\n",
       "      <td>0</td>\n",
       "      <td>0</td>\n",
       "      <td>0</td>\n",
       "      <td>open</td>\n",
       "    </tr>\n",
       "    <tr>\n",
       "      <th>967</th>\n",
       "      <td>0</td>\n",
       "      <td>2</td>\n",
       "      <td>0</td>\n",
       "      <td>0</td>\n",
       "      <td>1</td>\n",
       "      <td>0</td>\n",
       "      <td>0</td>\n",
       "      <td>2</td>\n",
       "      <td>0</td>\n",
       "      <td>0</td>\n",
       "      <td>2</td>\n",
       "      <td>0</td>\n",
       "      <td>5</td>\n",
       "      <td>open</td>\n",
       "    </tr>\n",
       "    <tr>\n",
       "      <th>968</th>\n",
       "      <td>0</td>\n",
       "      <td>5</td>\n",
       "      <td>0</td>\n",
       "      <td>0</td>\n",
       "      <td>2</td>\n",
       "      <td>0</td>\n",
       "      <td>0</td>\n",
       "      <td>2</td>\n",
       "      <td>0</td>\n",
       "      <td>1</td>\n",
       "      <td>2</td>\n",
       "      <td>0</td>\n",
       "      <td>6</td>\n",
       "      <td>open</td>\n",
       "    </tr>\n",
       "    <tr>\n",
       "      <th>969</th>\n",
       "      <td>0</td>\n",
       "      <td>0</td>\n",
       "      <td>0</td>\n",
       "      <td>0</td>\n",
       "      <td>0</td>\n",
       "      <td>0</td>\n",
       "      <td>0</td>\n",
       "      <td>0</td>\n",
       "      <td>0</td>\n",
       "      <td>0</td>\n",
       "      <td>0</td>\n",
       "      <td>0</td>\n",
       "      <td>0</td>\n",
       "      <td>open</td>\n",
       "    </tr>\n",
       "  </tbody>\n",
       "</table>\n",
       "<p>970 rows × 14 columns</p>\n",
       "</div>"
      ],
      "text/plain": [
       "     Word  Positive  Negative  Anger  Anticipation  Disgust  Fear  Joy  \\\n",
       "0       0         4         0      0             3        0     0    2   \n",
       "1       0         1         0      0             1        0     0    1   \n",
       "2       0         4         0      1             3        0     1    3   \n",
       "3       0         7         0      0             5        0     0    3   \n",
       "4       0         1         1      0             1        0     0    1   \n",
       "..    ...       ...       ...    ...           ...      ...   ...  ...   \n",
       "965     0         0         0      0             0        0     0    0   \n",
       "966     0         1         0      0             0        0     0    0   \n",
       "967     0         2         0      0             1        0     0    2   \n",
       "968     0         5         0      0             2        0     0    2   \n",
       "969     0         0         0      0             0        0     0    0   \n",
       "\n",
       "     Sadness  Surprise  Trust  is_exclusive  is_open exclusive_openness  \n",
       "0          0         1      1             0        6               open  \n",
       "1          0         0      3             0        5               open  \n",
       "2          0         2      4             2       10               open  \n",
       "3          1         0      3             0       11               open  \n",
       "4          0         1      1             0        3               open  \n",
       "..       ...       ...    ...           ...      ...                ...  \n",
       "965        0         0      0             0        0               open  \n",
       "966        0         0      0             0        0               open  \n",
       "967        0         0      2             0        5               open  \n",
       "968        0         1      2             0        6               open  \n",
       "969        0         0      0             0        0               open  \n",
       "\n",
       "[970 rows x 14 columns]"
      ]
     },
     "execution_count": 19,
     "metadata": {},
     "output_type": "execute_result"
    }
   ],
   "source": [
    "emotions_df['exclusive_openness'] = emotions_df.apply(lambda x: 'exclusive' if (x['is_exclusive'] > x['is_open']) else 'open', axis = 1)\n",
    "emotions_df"
   ]
  },
  {
   "cell_type": "code",
   "execution_count": 20,
   "metadata": {},
   "outputs": [],
   "source": [
    "bytedance_glassdoor = pd.concat([bytedance_glassdoor, emotions_df], axis = 1)"
   ]
  },
  {
   "cell_type": "code",
   "execution_count": 21,
   "metadata": {},
   "outputs": [
    {
     "data": {
      "text/html": [
       "<div>\n",
       "<style scoped>\n",
       "    .dataframe tbody tr th:only-of-type {\n",
       "        vertical-align: middle;\n",
       "    }\n",
       "\n",
       "    .dataframe tbody tr th {\n",
       "        vertical-align: top;\n",
       "    }\n",
       "\n",
       "    .dataframe thead th {\n",
       "        text-align: right;\n",
       "    }\n",
       "</style>\n",
       "<table border=\"1\" class=\"dataframe\">\n",
       "  <thead>\n",
       "    <tr style=\"text-align: right;\">\n",
       "      <th></th>\n",
       "      <th>date</th>\n",
       "      <th>year exp</th>\n",
       "      <th>score</th>\n",
       "      <th>pros</th>\n",
       "      <th>cons</th>\n",
       "      <th>position</th>\n",
       "      <th>reviews</th>\n",
       "      <th>compound</th>\n",
       "      <th>neg</th>\n",
       "      <th>neu</th>\n",
       "      <th>...</th>\n",
       "      <th>Anticipation</th>\n",
       "      <th>Disgust</th>\n",
       "      <th>Fear</th>\n",
       "      <th>Joy</th>\n",
       "      <th>Sadness</th>\n",
       "      <th>Surprise</th>\n",
       "      <th>Trust</th>\n",
       "      <th>is_exclusive</th>\n",
       "      <th>is_open</th>\n",
       "      <th>exclusive_openness</th>\n",
       "    </tr>\n",
       "  </thead>\n",
       "  <tbody>\n",
       "    <tr>\n",
       "      <th>0</th>\n",
       "      <td>2022-08-20</td>\n",
       "      <td>Current Employee, less than 1 year</td>\n",
       "      <td>5.0</td>\n",
       "      <td>flexible working culture, good benefits</td>\n",
       "      <td>limited learning opportunities and unclear car...</td>\n",
       "      <td>Anonymous Employee</td>\n",
       "      <td>flexible, working, culture, good, benefitslimi...</td>\n",
       "      <td>0.6808</td>\n",
       "      <td>0.128</td>\n",
       "      <td>0.385</td>\n",
       "      <td>...</td>\n",
       "      <td>3</td>\n",
       "      <td>0</td>\n",
       "      <td>0</td>\n",
       "      <td>2</td>\n",
       "      <td>0</td>\n",
       "      <td>1</td>\n",
       "      <td>1</td>\n",
       "      <td>0</td>\n",
       "      <td>6</td>\n",
       "      <td>open</td>\n",
       "    </tr>\n",
       "    <tr>\n",
       "      <th>1</th>\n",
       "      <td>2022-08-17</td>\n",
       "      <td>Former Employee, less than 1 year</td>\n",
       "      <td>5.0</td>\n",
       "      <td>all people are sooo nice in our team, enjoy wo...</td>\n",
       "      <td>so many meetings in our team</td>\n",
       "      <td>Data Analyst</td>\n",
       "      <td>people, sooo, nice, team, enjoy, working, ther...</td>\n",
       "      <td>0.7184</td>\n",
       "      <td>0.000</td>\n",
       "      <td>0.571</td>\n",
       "      <td>...</td>\n",
       "      <td>1</td>\n",
       "      <td>0</td>\n",
       "      <td>0</td>\n",
       "      <td>1</td>\n",
       "      <td>0</td>\n",
       "      <td>0</td>\n",
       "      <td>3</td>\n",
       "      <td>0</td>\n",
       "      <td>5</td>\n",
       "      <td>open</td>\n",
       "    </tr>\n",
       "    <tr>\n",
       "      <th>2</th>\n",
       "      <td>2022-08-10</td>\n",
       "      <td>Former Employee, more than 1 year</td>\n",
       "      <td>5.0</td>\n",
       "      <td>Good culture, great team and good benefits!</td>\n",
       "      <td>No idea when the company will IPO thus, do not...</td>\n",
       "      <td>Manager</td>\n",
       "      <td>good, culture, great, team, good, benefitsno, ...</td>\n",
       "      <td>0.8720</td>\n",
       "      <td>0.000</td>\n",
       "      <td>0.548</td>\n",
       "      <td>...</td>\n",
       "      <td>3</td>\n",
       "      <td>0</td>\n",
       "      <td>1</td>\n",
       "      <td>3</td>\n",
       "      <td>0</td>\n",
       "      <td>2</td>\n",
       "      <td>4</td>\n",
       "      <td>2</td>\n",
       "      <td>10</td>\n",
       "      <td>open</td>\n",
       "    </tr>\n",
       "    <tr>\n",
       "      <th>3</th>\n",
       "      <td>2022-08-22</td>\n",
       "      <td>Former Employee, less than 1 year</td>\n",
       "      <td>3.0</td>\n",
       "      <td>- very fast-paced fintech company, - generous ...</td>\n",
       "      <td>- zero work-life balance, too many unnecessary...</td>\n",
       "      <td>Global SOP Enablement</td>\n",
       "      <td>fastpaced, fintech, company, generous, benefit...</td>\n",
       "      <td>0.9383</td>\n",
       "      <td>0.000</td>\n",
       "      <td>0.786</td>\n",
       "      <td>...</td>\n",
       "      <td>5</td>\n",
       "      <td>0</td>\n",
       "      <td>0</td>\n",
       "      <td>3</td>\n",
       "      <td>1</td>\n",
       "      <td>0</td>\n",
       "      <td>3</td>\n",
       "      <td>0</td>\n",
       "      <td>11</td>\n",
       "      <td>open</td>\n",
       "    </tr>\n",
       "    <tr>\n",
       "      <th>4</th>\n",
       "      <td>2022-08-18</td>\n",
       "      <td>Current Employee, more than 1 year</td>\n",
       "      <td>4.0</td>\n",
       "      <td>Good boss, Modern tech tools, Free lunch</td>\n",
       "      <td>Irregular working hours, Excessive workload , ...</td>\n",
       "      <td>Data Engineer</td>\n",
       "      <td>good, bos, modern, tech, tool, free, lunchirre...</td>\n",
       "      <td>0.4767</td>\n",
       "      <td>0.153</td>\n",
       "      <td>0.542</td>\n",
       "      <td>...</td>\n",
       "      <td>1</td>\n",
       "      <td>0</td>\n",
       "      <td>0</td>\n",
       "      <td>1</td>\n",
       "      <td>0</td>\n",
       "      <td>1</td>\n",
       "      <td>1</td>\n",
       "      <td>0</td>\n",
       "      <td>3</td>\n",
       "      <td>open</td>\n",
       "    </tr>\n",
       "  </tbody>\n",
       "</table>\n",
       "<p>5 rows × 25 columns</p>\n",
       "</div>"
      ],
      "text/plain": [
       "         date                            year exp  score  \\\n",
       "0  2022-08-20  Current Employee, less than 1 year    5.0   \n",
       "1  2022-08-17   Former Employee, less than 1 year    5.0   \n",
       "2  2022-08-10   Former Employee, more than 1 year    5.0   \n",
       "3  2022-08-22   Former Employee, less than 1 year    3.0   \n",
       "4  2022-08-18  Current Employee, more than 1 year    4.0   \n",
       "\n",
       "                                                pros  \\\n",
       "0            flexible working culture, good benefits   \n",
       "1  all people are sooo nice in our team, enjoy wo...   \n",
       "2        Good culture, great team and good benefits!   \n",
       "3  - very fast-paced fintech company, - generous ...   \n",
       "4           Good boss, Modern tech tools, Free lunch   \n",
       "\n",
       "                                                cons               position  \\\n",
       "0  limited learning opportunities and unclear car...     Anonymous Employee   \n",
       "1                       so many meetings in our team           Data Analyst   \n",
       "2  No idea when the company will IPO thus, do not...                Manager   \n",
       "3  - zero work-life balance, too many unnecessary...  Global SOP Enablement   \n",
       "4  Irregular working hours, Excessive workload , ...          Data Engineer   \n",
       "\n",
       "                                             reviews  compound    neg    neu  \\\n",
       "0  flexible, working, culture, good, benefitslimi...    0.6808  0.128  0.385   \n",
       "1  people, sooo, nice, team, enjoy, working, ther...    0.7184  0.000  0.571   \n",
       "2  good, culture, great, team, good, benefitsno, ...    0.8720  0.000  0.548   \n",
       "3  fastpaced, fintech, company, generous, benefit...    0.9383  0.000  0.786   \n",
       "4  good, bos, modern, tech, tool, free, lunchirre...    0.4767  0.153  0.542   \n",
       "\n",
       "   ...  Anticipation  Disgust  Fear  Joy  Sadness  Surprise  Trust  \\\n",
       "0  ...             3        0     0    2        0         1      1   \n",
       "1  ...             1        0     0    1        0         0      3   \n",
       "2  ...             3        0     1    3        0         2      4   \n",
       "3  ...             5        0     0    3        1         0      3   \n",
       "4  ...             1        0     0    1        0         1      1   \n",
       "\n",
       "   is_exclusive  is_open  exclusive_openness  \n",
       "0             0        6                open  \n",
       "1             0        5                open  \n",
       "2             2       10                open  \n",
       "3             0       11                open  \n",
       "4             0        3                open  \n",
       "\n",
       "[5 rows x 25 columns]"
      ]
     },
     "execution_count": 21,
     "metadata": {},
     "output_type": "execute_result"
    }
   ],
   "source": [
    "bytedance_glassdoor.head()"
   ]
  },
  {
   "cell_type": "markdown",
   "metadata": {},
   "source": [
    "### Personalities"
   ]
  },
  {
   "cell_type": "code",
   "execution_count": 22,
   "metadata": {},
   "outputs": [],
   "source": [
    "from personality_evaluation import *"
   ]
  },
  {
   "cell_type": "code",
   "execution_count": 23,
   "metadata": {},
   "outputs": [
    {
     "name": "stderr",
     "output_type": "stream",
     "text": [
      "c:\\Users\\zheny\\AppData\\Local\\Programs\\Python\\Python38\\lib\\site-packages\\pandas\\io\\sql.py:761: UserWarning: pandas only support SQLAlchemy connectable(engine/connection) ordatabase string URI or sqlite3 DBAPI2 connectionother DBAPI2 objects are not tested, please consider using SQLAlchemy\n",
      "  warnings.warn(\n"
     ]
    },
    {
     "data": {
      "text/html": [
       "<div>\n",
       "<style scoped>\n",
       "    .dataframe tbody tr th:only-of-type {\n",
       "        vertical-align: middle;\n",
       "    }\n",
       "\n",
       "    .dataframe tbody tr th {\n",
       "        vertical-align: top;\n",
       "    }\n",
       "\n",
       "    .dataframe thead th {\n",
       "        text-align: right;\n",
       "    }\n",
       "</style>\n",
       "<table border=\"1\" class=\"dataframe\">\n",
       "  <thead>\n",
       "    <tr style=\"text-align: right;\">\n",
       "      <th></th>\n",
       "      <th>type</th>\n",
       "      <th>posts</th>\n",
       "    </tr>\n",
       "  </thead>\n",
       "  <tbody>\n",
       "    <tr>\n",
       "      <th>0</th>\n",
       "      <td>INFJ</td>\n",
       "      <td>'http://www.youtube.com/watch?v=qsXHcwe3krw|||...</td>\n",
       "    </tr>\n",
       "    <tr>\n",
       "      <th>1</th>\n",
       "      <td>ENTP</td>\n",
       "      <td>'I'm finding the lack of me in these posts ver...</td>\n",
       "    </tr>\n",
       "    <tr>\n",
       "      <th>2</th>\n",
       "      <td>INTP</td>\n",
       "      <td>'Good one  _____   https://www.youtube.com/wat...</td>\n",
       "    </tr>\n",
       "    <tr>\n",
       "      <th>3</th>\n",
       "      <td>INTJ</td>\n",
       "      <td>'Dear INTP,   I enjoyed our conversation the o...</td>\n",
       "    </tr>\n",
       "    <tr>\n",
       "      <th>4</th>\n",
       "      <td>ENTJ</td>\n",
       "      <td>'You're fired.|||That's another silly misconce...</td>\n",
       "    </tr>\n",
       "  </tbody>\n",
       "</table>\n",
       "</div>"
      ],
      "text/plain": [
       "   type                                              posts\n",
       "0  INFJ  'http://www.youtube.com/watch?v=qsXHcwe3krw|||...\n",
       "1  ENTP  'I'm finding the lack of me in these posts ver...\n",
       "2  INTP  'Good one  _____   https://www.youtube.com/wat...\n",
       "3  INTJ  'Dear INTP,   I enjoyed our conversation the o...\n",
       "4  ENTJ  'You're fired.|||That's another silly misconce..."
      ]
     },
     "execution_count": 23,
     "metadata": {},
     "output_type": "execute_result"
    }
   ],
   "source": [
    "MBTI_personalities = pd.read_sql_query('''select * from Myers_Briggs_Type_Indicator''', connection)\n",
    "MBTI_personalities.head()"
   ]
  },
  {
   "cell_type": "code",
   "execution_count": 24,
   "metadata": {},
   "outputs": [],
   "source": [
    "MBTI_personalities['Introvert_Extrovert'] = MBTI_personalities['type'].apply(lambda x: 'Introvert' if \"I\" in x else \"Extrovert\")\n",
    "MBTI_personalities['Intuition_Sensing'] = MBTI_personalities['type'].apply(lambda x: 'Intuition' if \"N\" in x else \"Sensing\")\n",
    "MBTI_personalities['Thinking_Feeling'] = MBTI_personalities['type'].apply(lambda x: 'Thinking' if \"T\" in x else \"Feeling\")\n",
    "MBTI_personalities['Judging_Perceiving'] = MBTI_personalities['type'].apply(lambda x: 'Judging' if \"J\" in x else \"Perceiving\")"
   ]
  },
  {
   "cell_type": "code",
   "execution_count": 25,
   "metadata": {},
   "outputs": [
    {
     "name": "stderr",
     "output_type": "stream",
     "text": [
      "C:\\Users\\zheny\\AppData\\Local\\Temp\\ipykernel_29356\\906938670.py:13: FutureWarning: The default value of regex will change from True to False in a future version.\n",
      "  MBTI_personalities[\"posts\"] = MBTI_personalities['posts'].str.replace('[^\\w\\s]',' ')\n"
     ]
    }
   ],
   "source": [
    "# Convert to lowercase\n",
    "\n",
    "MBTI_personalities['posts'] = MBTI_personalities['posts'].apply(lambda x: re.split('https:\\/\\/.*', str(x))[0])\n",
    "MBTI_personalities['posts'] = MBTI_personalities['posts'].apply(lambda x: re.split('http:\\/\\/.*', str(x))[0])\n",
    "\n",
    "MBTI_personalities['posts'] = MBTI_personalities['posts'].str.lower()\n",
    "\n",
    "# Remove Stop Words\n",
    "stop = stopwords.words('english')\n",
    "MBTI_personalities['posts'] = MBTI_personalities['posts'].apply(lambda x: ' '.join([word for word in x.split() if word not in (stop)]))\n",
    "\n",
    "# Remove punctuations\n",
    "MBTI_personalities[\"posts\"] = MBTI_personalities['posts'].str.replace('[^\\w\\s]',' ')"
   ]
  },
  {
   "cell_type": "markdown",
   "metadata": {},
   "source": [
    "### Introvert-Extrovert"
   ]
  },
  {
   "cell_type": "code",
   "execution_count": 26,
   "metadata": {},
   "outputs": [],
   "source": [
    "intro_extro_df = balance_dataset(MBTI_personalities, 'Introvert_Extrovert')\n",
    "bag_of_words_features = build_bag_of_words_features_filtered\n",
    "\n",
    "features = feature_creation(intro_extro_df, bag_of_words_features, 'Introvert_Extrovert')\n",
    "train, test = train_test(features)"
   ]
  },
  {
   "cell_type": "code",
   "execution_count": 27,
   "metadata": {},
   "outputs": [
    {
     "name": "stdout",
     "output_type": "stream",
     "text": [
      "Training accuracy is: 82.39524702939337\n"
     ]
    }
   ],
   "source": [
    "IntroExtroClassifier = NaiveBayesClassifier.train(train)\n",
    "\n",
    "training_accuracy = nltk.classify.util.accuracy(IntroExtroClassifier, train)*100\n",
    "testing_accuracy = nltk.classify.util.accuracy(IntroExtroClassifier, test)*100\n",
    "print(f\"Training accuracy is: {training_accuracy}\")"
   ]
  },
  {
   "cell_type": "code",
   "execution_count": 28,
   "metadata": {},
   "outputs": [
    {
     "name": "stdout",
     "output_type": "stream",
     "text": [
      "Most Informative Features\n",
      "               competing = 1              Extrov : Introv =      9.7 : 1.0\n",
      "            msbossypants = 1              Extrov : Introv =      9.7 : 1.0\n",
      "                    viva = 1              Extrov : Introv =      9.0 : 1.0\n",
      "                  cancel = 1              Introv : Extrov =      8.3 : 1.0\n",
      "                  edward = 1              Introv : Extrov =      8.3 : 1.0\n",
      "                     2w3 = 1              Extrov : Introv =      8.1 : 1.0\n",
      "                     7w6 = 1              Extrov : Introv =      8.1 : 1.0\n",
      "                     7w8 = 1              Extrov : Introv =      8.1 : 1.0\n",
      "               adulthood = 1              Introv : Extrov =      7.7 : 1.0\n",
      "                 flighty = 1              Extrov : Introv =      7.7 : 1.0\n"
     ]
    }
   ],
   "source": [
    "IntroExtroClassifier.show_most_informative_features()"
   ]
  },
  {
   "cell_type": "markdown",
   "metadata": {},
   "source": [
    "### Intuition-Sensing"
   ]
  },
  {
   "cell_type": "code",
   "execution_count": 29,
   "metadata": {},
   "outputs": [],
   "source": [
    "intuition_sensing_df = balance_dataset(MBTI_personalities, 'Intuition_Sensing')\n",
    "bag_of_words_features = build_bag_of_words_features_filtered\n",
    "\n",
    "features = feature_creation(intuition_sensing_df, bag_of_words_features, 'Intuition_Sensing')\n",
    "train, test = train_test(features)"
   ]
  },
  {
   "cell_type": "code",
   "execution_count": 30,
   "metadata": {},
   "outputs": [
    {
     "name": "stdout",
     "output_type": "stream",
     "text": [
      "Training accuracy is: 94.30512016718914\n"
     ]
    }
   ],
   "source": [
    "IntuitionSensingClassifier = NaiveBayesClassifier.train(train)\n",
    "\n",
    "training_accuracy = nltk.classify.util.accuracy(IntuitionSensingClassifier, train)*100\n",
    "testing_accuracy = nltk.classify.util.accuracy(IntuitionSensingClassifier, test)*100\n",
    "print(f\"Training accuracy is: {training_accuracy}\")"
   ]
  },
  {
   "cell_type": "code",
   "execution_count": 31,
   "metadata": {},
   "outputs": [
    {
     "name": "stdout",
     "output_type": "stream",
     "text": [
      "Most Informative Features\n",
      "                    niss = 1              Sensin : Intuit =     13.0 : 1.0\n",
      "                    rave = 1              Sensin : Intuit =     13.0 : 1.0\n",
      "              phlegmatic = 1              Sensin : Intuit =      9.7 : 1.0\n",
      "              domination = 1              Intuit : Sensin =      9.0 : 1.0\n",
      "                      47 = 1              Sensin : Intuit =      8.3 : 1.0\n",
      "                 crystal = 1              Intuit : Sensin =      7.7 : 1.0\n",
      "                  heroes = 1              Intuit : Sensin =      7.7 : 1.0\n",
      "                shocking = 1              Intuit : Sensin =      7.7 : 1.0\n",
      "                   teams = 1              Sensin : Intuit =      7.7 : 1.0\n",
      "               wandering = 1              Intuit : Sensin =      7.7 : 1.0\n"
     ]
    }
   ],
   "source": [
    "IntuitionSensingClassifier.show_most_informative_features()"
   ]
  },
  {
   "cell_type": "markdown",
   "metadata": {},
   "source": [
    "### Thinking-Feeling"
   ]
  },
  {
   "cell_type": "code",
   "execution_count": 32,
   "metadata": {},
   "outputs": [],
   "source": [
    "thinking_feeling_df = balance_dataset(MBTI_personalities, 'Thinking_Feeling')\n",
    "bag_of_words_features = build_bag_of_words_features_filtered\n",
    "\n",
    "features = feature_creation(thinking_feeling_df, bag_of_words_features, 'Thinking_Feeling')\n",
    "train, test = train_test(features)"
   ]
  },
  {
   "cell_type": "code",
   "execution_count": 33,
   "metadata": {},
   "outputs": [
    {
     "name": "stdout",
     "output_type": "stream",
     "text": [
      "Training accuracy is: 92.38379396984925\n"
     ]
    }
   ],
   "source": [
    "ThinkingFeelingClassifier = NaiveBayesClassifier.train(train)\n",
    "\n",
    "training_accuracy = nltk.classify.util.accuracy(ThinkingFeelingClassifier, train)*100\n",
    "testing_accuracy = nltk.classify.util.accuracy(ThinkingFeelingClassifier, test)*100\n",
    "print(f\"Training accuracy is: {training_accuracy}\")"
   ]
  },
  {
   "cell_type": "code",
   "execution_count": 34,
   "metadata": {},
   "outputs": [
    {
     "name": "stdout",
     "output_type": "stream",
     "text": [
      "Most Informative Features\n",
      "             inefficient = 1              Thinki : Feelin =     20.3 : 1.0\n",
      "                  adored = 1              Feelin : Thinki =     11.7 : 1.0\n",
      "                    rand = 1              Thinki : Feelin =     11.7 : 1.0\n",
      "                    viva = 1              Feelin : Thinki =     11.7 : 1.0\n",
      "                    cozy = 1              Feelin : Thinki =     11.0 : 1.0\n",
      "                 reports = 1              Thinki : Feelin =     11.0 : 1.0\n",
      "                  empath = 1              Feelin : Thinki =     10.3 : 1.0\n",
      "                 vividly = 1              Feelin : Thinki =      9.7 : 1.0\n",
      "                  gandhi = 1              Feelin : Thinki =      9.0 : 1.0\n",
      "                   pixie = 1              Feelin : Thinki =      9.0 : 1.0\n"
     ]
    }
   ],
   "source": [
    "ThinkingFeelingClassifier.show_most_informative_features()"
   ]
  },
  {
   "cell_type": "markdown",
   "metadata": {},
   "source": [
    "### Judging-Perceiving"
   ]
  },
  {
   "cell_type": "code",
   "execution_count": 35,
   "metadata": {},
   "outputs": [],
   "source": [
    "judging_perceiving_df = balance_dataset(MBTI_personalities, 'Judging_Perceiving')\n",
    "bag_of_words_features = build_bag_of_words_features_filtered\n",
    "\n",
    "features = feature_creation(judging_perceiving_df, bag_of_words_features, 'Judging_Perceiving')\n",
    "train, test = train_test(features)"
   ]
  },
  {
   "cell_type": "code",
   "execution_count": 36,
   "metadata": {},
   "outputs": [
    {
     "name": "stdout",
     "output_type": "stream",
     "text": [
      "Training accuracy is: 82.6538041499818\n"
     ]
    }
   ],
   "source": [
    "JudgingPerceivingClassifier = NaiveBayesClassifier.train(train)\n",
    "\n",
    "training_accuracy = nltk.classify.util.accuracy(JudgingPerceivingClassifier, train)*100\n",
    "testing_accuracy = nltk.classify.util.accuracy(JudgingPerceivingClassifier, test)*100\n",
    "print(f\"Training accuracy is: {training_accuracy}\")"
   ]
  },
  {
   "cell_type": "code",
   "execution_count": 37,
   "metadata": {},
   "outputs": [
    {
     "name": "stdout",
     "output_type": "stream",
     "text": [
      "Most Informative Features\n",
      "                bethdeth = 1              Judgin : Percei =     11.0 : 1.0\n",
      "                doorslam = 1              Judgin : Percei =      8.1 : 1.0\n",
      "                    jawz = 1              Judgin : Percei =      7.8 : 1.0\n",
      "                  copies = 1              Judgin : Percei =      7.7 : 1.0\n",
      "               promotion = 1              Judgin : Percei =      7.7 : 1.0\n",
      "                     sei = 1              Percei : Judgin =      7.7 : 1.0\n",
      "                  stoned = 1              Percei : Judgin =      7.7 : 1.0\n",
      "               assurance = 1              Judgin : Percei =      7.0 : 1.0\n",
      "                 delving = 1              Judgin : Percei =      7.0 : 1.0\n",
      "                 gauging = 1              Judgin : Percei =      7.0 : 1.0\n"
     ]
    }
   ],
   "source": [
    "JudgingPerceivingClassifier.show_most_informative_features()"
   ]
  },
  {
   "cell_type": "markdown",
   "metadata": {},
   "source": [
    "### Innovative vs Traditional"
   ]
  },
  {
   "cell_type": "code",
   "execution_count": 38,
   "metadata": {},
   "outputs": [
    {
     "name": "stderr",
     "output_type": "stream",
     "text": [
      "c:\\Users\\zheny\\AppData\\Local\\Programs\\Python\\Python38\\lib\\site-packages\\pandas\\io\\sql.py:761: UserWarning: pandas only support SQLAlchemy connectable(engine/connection) ordatabase string URI or sqlite3 DBAPI2 connectionother DBAPI2 objects are not tested, please consider using SQLAlchemy\n",
      "  warnings.warn(\n"
     ]
    },
    {
     "data": {
      "text/html": [
       "<div>\n",
       "<style scoped>\n",
       "    .dataframe tbody tr th:only-of-type {\n",
       "        vertical-align: middle;\n",
       "    }\n",
       "\n",
       "    .dataframe tbody tr th {\n",
       "        vertical-align: top;\n",
       "    }\n",
       "\n",
       "    .dataframe thead th {\n",
       "        text-align: right;\n",
       "    }\n",
       "</style>\n",
       "<table border=\"1\" class=\"dataframe\">\n",
       "  <thead>\n",
       "    <tr style=\"text-align: right;\">\n",
       "      <th></th>\n",
       "      <th>posts</th>\n",
       "      <th>company</th>\n",
       "      <th>type</th>\n",
       "    </tr>\n",
       "  </thead>\n",
       "  <tbody>\n",
       "    <tr>\n",
       "      <th>0</th>\n",
       "      <td>According to our annual Shop Small Research f...</td>\n",
       "      <td>American Express</td>\n",
       "      <td>innovative</td>\n",
       "    </tr>\n",
       "    <tr>\n",
       "      <th>1</th>\n",
       "      <td>Weitian Chan, second generation owner of Pres...</td>\n",
       "      <td>American Express</td>\n",
       "      <td>innovative</td>\n",
       "    </tr>\n",
       "    <tr>\n",
       "      <th>2</th>\n",
       "      <td>Local businesses play a huge role in the live...</td>\n",
       "      <td>American Express</td>\n",
       "      <td>innovative</td>\n",
       "    </tr>\n",
       "    <tr>\n",
       "      <th>3</th>\n",
       "      <td>Lawrence Chow, founder of bicycle shop B-Spok...</td>\n",
       "      <td>American Express</td>\n",
       "      <td>innovative</td>\n",
       "    </tr>\n",
       "    <tr>\n",
       "      <th>4</th>\n",
       "      <td>We want to give a shoutout to our customers, ...</td>\n",
       "      <td>American Express</td>\n",
       "      <td>innovative</td>\n",
       "    </tr>\n",
       "  </tbody>\n",
       "</table>\n",
       "</div>"
      ],
      "text/plain": [
       "                                               posts           company  \\\n",
       "0   According to our annual Shop Small Research f...  American Express   \n",
       "1   Weitian Chan, second generation owner of Pres...  American Express   \n",
       "2   Local businesses play a huge role in the live...  American Express   \n",
       "3   Lawrence Chow, founder of bicycle shop B-Spok...  American Express   \n",
       "4   We want to give a shoutout to our customers, ...  American Express   \n",
       "\n",
       "         type  \n",
       "0  innovative  \n",
       "1  innovative  \n",
       "2  innovative  \n",
       "3  innovative  \n",
       "4  innovative  "
      ]
     },
     "execution_count": 38,
     "metadata": {},
     "output_type": "execute_result"
    }
   ],
   "source": [
    "innovative_traditional_data = pd.read_sql_query('''select * from Innovative_Traditional_Companies''', connection)\n",
    "innovative_traditional_data['posts'] = innovative_traditional_data['posts'].astype(str)\n",
    "innovative_traditional_data.head()"
   ]
  },
  {
   "cell_type": "code",
   "execution_count": 39,
   "metadata": {},
   "outputs": [],
   "source": [
    "innovative_traditional_df = balance_dataset(innovative_traditional_data, 'type')\n",
    "bag_of_words_features = build_bag_of_words_features_filtered\n",
    "\n",
    "features = feature_creation(innovative_traditional_df, bag_of_words_features, 'type')\n",
    "train, test = train_test(features)"
   ]
  },
  {
   "cell_type": "code",
   "execution_count": 40,
   "metadata": {},
   "outputs": [
    {
     "name": "stdout",
     "output_type": "stream",
     "text": [
      "Training accuracy is: 99.38752783964365\n"
     ]
    }
   ],
   "source": [
    "InnovativeTraditionalClassifier = NaiveBayesClassifier.train(train)\n",
    "\n",
    "training_accuracy = nltk.classify.util.accuracy(InnovativeTraditionalClassifier, train)*100\n",
    "testing_accuracy = nltk.classify.util.accuracy(InnovativeTraditionalClassifier, test)*100\n",
    "print(f\"Training accuracy is: {training_accuracy}\")"
   ]
  },
  {
   "cell_type": "markdown",
   "metadata": {},
   "source": [
    "### Apply to dataset"
   ]
  },
  {
   "cell_type": "code",
   "execution_count": 41,
   "metadata": {},
   "outputs": [],
   "source": [
    "bytedance_glassdoor['raw_reviews'] = bytedance_glassdoor['pros'] + bytedance_glassdoor['cons']"
   ]
  },
  {
   "cell_type": "code",
   "execution_count": 42,
   "metadata": {},
   "outputs": [],
   "source": [
    "for row in bytedance_glassdoor.itertuples():\n",
    "    input = row.raw_reviews \n",
    "    tokenize = build_bag_of_words_features_filtered(input)\n",
    "    \n",
    "    # Classify text\n",
    "    ie = IntroExtroClassifier.classify(tokenize)\n",
    "    ns = IntuitionSensingClassifier.classify(tokenize)\n",
    "    tf = ThinkingFeelingClassifier.classify(tokenize)\n",
    "    jp = JudgingPerceivingClassifier.classify(tokenize)\n",
    "    it = InnovativeTraditionalClassifier.classify(tokenize)\n",
    "    \n",
    "    bytedance_glassdoor.loc[row.Index, 'Introvert_Extrovert'] = ie\n",
    "    bytedance_glassdoor.loc[row.Index, 'Intuition_Sensing'] = ns\n",
    "    bytedance_glassdoor.loc[row.Index, 'Thinking_Feeling'] = tf\n",
    "    bytedance_glassdoor.loc[row.Index, 'Judging_Perceiving'] = jp\n",
    "    bytedance_glassdoor.loc[row.Index, 'Innovative_Traditional'] = it\n",
    "    "
   ]
  },
  {
   "cell_type": "code",
   "execution_count": 43,
   "metadata": {},
   "outputs": [
    {
     "data": {
      "text/plain": [
       "Extrovert    742\n",
       "Introvert    228\n",
       "Name: Introvert_Extrovert, dtype: int64"
      ]
     },
     "metadata": {},
     "output_type": "display_data"
    },
    {
     "data": {
      "text/plain": [
       "Intuition    506\n",
       "Sensing      464\n",
       "Name: Intuition_Sensing, dtype: int64"
      ]
     },
     "metadata": {},
     "output_type": "display_data"
    },
    {
     "data": {
      "text/plain": [
       "Thinking    712\n",
       "Feeling     258\n",
       "Name: Thinking_Feeling, dtype: int64"
      ]
     },
     "metadata": {},
     "output_type": "display_data"
    },
    {
     "data": {
      "text/plain": [
       "Judging       799\n",
       "Perceiving    171\n",
       "Name: Judging_Perceiving, dtype: int64"
      ]
     },
     "metadata": {},
     "output_type": "display_data"
    },
    {
     "data": {
      "text/plain": [
       "innovative     555\n",
       "traditional    415\n",
       "Name: Innovative_Traditional, dtype: int64"
      ]
     },
     "metadata": {},
     "output_type": "display_data"
    }
   ],
   "source": [
    "display(bytedance_glassdoor['Introvert_Extrovert'].value_counts())\n",
    "display(bytedance_glassdoor['Intuition_Sensing'].value_counts())\n",
    "display(bytedance_glassdoor['Thinking_Feeling'].value_counts())\n",
    "display(bytedance_glassdoor['Judging_Perceiving'].value_counts())\n",
    "display(bytedance_glassdoor['Innovative_Traditional'].value_counts())"
   ]
  },
  {
   "cell_type": "code",
   "execution_count": 44,
   "metadata": {},
   "outputs": [],
   "source": [
    "company_data = bytedance_glassdoor.copy()"
   ]
  },
  {
   "cell_type": "code",
   "execution_count": 45,
   "metadata": {},
   "outputs": [
    {
     "data": {
      "text/html": [
       "<div>\n",
       "<style scoped>\n",
       "    .dataframe tbody tr th:only-of-type {\n",
       "        vertical-align: middle;\n",
       "    }\n",
       "\n",
       "    .dataframe tbody tr th {\n",
       "        vertical-align: top;\n",
       "    }\n",
       "\n",
       "    .dataframe thead th {\n",
       "        text-align: right;\n",
       "    }\n",
       "</style>\n",
       "<table border=\"1\" class=\"dataframe\">\n",
       "  <thead>\n",
       "    <tr style=\"text-align: right;\">\n",
       "      <th></th>\n",
       "      <th>date</th>\n",
       "      <th>year exp</th>\n",
       "      <th>score</th>\n",
       "      <th>pros</th>\n",
       "      <th>cons</th>\n",
       "      <th>position</th>\n",
       "      <th>reviews</th>\n",
       "      <th>compound</th>\n",
       "      <th>neg</th>\n",
       "      <th>neu</th>\n",
       "      <th>...</th>\n",
       "      <th>Trust</th>\n",
       "      <th>is_exclusive</th>\n",
       "      <th>is_open</th>\n",
       "      <th>exclusive_openness</th>\n",
       "      <th>raw_reviews</th>\n",
       "      <th>Introvert_Extrovert</th>\n",
       "      <th>Intuition_Sensing</th>\n",
       "      <th>Thinking_Feeling</th>\n",
       "      <th>Judging_Perceiving</th>\n",
       "      <th>Innovative_Traditional</th>\n",
       "    </tr>\n",
       "  </thead>\n",
       "  <tbody>\n",
       "    <tr>\n",
       "      <th>0</th>\n",
       "      <td>2022-08-20</td>\n",
       "      <td>Current Employee, less than 1 year</td>\n",
       "      <td>5.0</td>\n",
       "      <td>flexible working culture, good benefits</td>\n",
       "      <td>limited learning opportunities and unclear car...</td>\n",
       "      <td>Anonymous Employee</td>\n",
       "      <td>flexible, working, culture, good, benefitslimi...</td>\n",
       "      <td>0.6808</td>\n",
       "      <td>0.128</td>\n",
       "      <td>0.385</td>\n",
       "      <td>...</td>\n",
       "      <td>1</td>\n",
       "      <td>0</td>\n",
       "      <td>6</td>\n",
       "      <td>open</td>\n",
       "      <td>flexible working culture, good benefitslimited...</td>\n",
       "      <td>Extrovert</td>\n",
       "      <td>Intuition</td>\n",
       "      <td>Thinking</td>\n",
       "      <td>Judging</td>\n",
       "      <td>innovative</td>\n",
       "    </tr>\n",
       "    <tr>\n",
       "      <th>1</th>\n",
       "      <td>2022-08-17</td>\n",
       "      <td>Former Employee, less than 1 year</td>\n",
       "      <td>5.0</td>\n",
       "      <td>all people are sooo nice in our team, enjoy wo...</td>\n",
       "      <td>so many meetings in our team</td>\n",
       "      <td>Data Analyst</td>\n",
       "      <td>people, sooo, nice, team, enjoy, working, ther...</td>\n",
       "      <td>0.7184</td>\n",
       "      <td>0.000</td>\n",
       "      <td>0.571</td>\n",
       "      <td>...</td>\n",
       "      <td>3</td>\n",
       "      <td>0</td>\n",
       "      <td>5</td>\n",
       "      <td>open</td>\n",
       "      <td>all people are sooo nice in our team, enjoy wo...</td>\n",
       "      <td>Extrovert</td>\n",
       "      <td>Intuition</td>\n",
       "      <td>Feeling</td>\n",
       "      <td>Perceiving</td>\n",
       "      <td>innovative</td>\n",
       "    </tr>\n",
       "    <tr>\n",
       "      <th>2</th>\n",
       "      <td>2022-08-10</td>\n",
       "      <td>Former Employee, more than 1 year</td>\n",
       "      <td>5.0</td>\n",
       "      <td>Good culture, great team and good benefits!</td>\n",
       "      <td>No idea when the company will IPO thus, do not...</td>\n",
       "      <td>Manager</td>\n",
       "      <td>good, culture, great, team, good, benefitsno, ...</td>\n",
       "      <td>0.8720</td>\n",
       "      <td>0.000</td>\n",
       "      <td>0.548</td>\n",
       "      <td>...</td>\n",
       "      <td>4</td>\n",
       "      <td>2</td>\n",
       "      <td>10</td>\n",
       "      <td>open</td>\n",
       "      <td>Good culture, great team and good benefits!No ...</td>\n",
       "      <td>Extrovert</td>\n",
       "      <td>Intuition</td>\n",
       "      <td>Thinking</td>\n",
       "      <td>Judging</td>\n",
       "      <td>traditional</td>\n",
       "    </tr>\n",
       "    <tr>\n",
       "      <th>3</th>\n",
       "      <td>2022-08-22</td>\n",
       "      <td>Former Employee, less than 1 year</td>\n",
       "      <td>3.0</td>\n",
       "      <td>- very fast-paced fintech company, - generous ...</td>\n",
       "      <td>- zero work-life balance, too many unnecessary...</td>\n",
       "      <td>Global SOP Enablement</td>\n",
       "      <td>fastpaced, fintech, company, generous, benefit...</td>\n",
       "      <td>0.9383</td>\n",
       "      <td>0.000</td>\n",
       "      <td>0.786</td>\n",
       "      <td>...</td>\n",
       "      <td>3</td>\n",
       "      <td>0</td>\n",
       "      <td>11</td>\n",
       "      <td>open</td>\n",
       "      <td>- very fast-paced fintech company, - generous ...</td>\n",
       "      <td>Extrovert</td>\n",
       "      <td>Intuition</td>\n",
       "      <td>Thinking</td>\n",
       "      <td>Judging</td>\n",
       "      <td>traditional</td>\n",
       "    </tr>\n",
       "    <tr>\n",
       "      <th>4</th>\n",
       "      <td>2022-08-18</td>\n",
       "      <td>Current Employee, more than 1 year</td>\n",
       "      <td>4.0</td>\n",
       "      <td>Good boss, Modern tech tools, Free lunch</td>\n",
       "      <td>Irregular working hours, Excessive workload , ...</td>\n",
       "      <td>Data Engineer</td>\n",
       "      <td>good, bos, modern, tech, tool, free, lunchirre...</td>\n",
       "      <td>0.4767</td>\n",
       "      <td>0.153</td>\n",
       "      <td>0.542</td>\n",
       "      <td>...</td>\n",
       "      <td>1</td>\n",
       "      <td>0</td>\n",
       "      <td>3</td>\n",
       "      <td>open</td>\n",
       "      <td>Good boss, Modern tech tools, Free lunchIrregu...</td>\n",
       "      <td>Extrovert</td>\n",
       "      <td>Sensing</td>\n",
       "      <td>Thinking</td>\n",
       "      <td>Judging</td>\n",
       "      <td>innovative</td>\n",
       "    </tr>\n",
       "  </tbody>\n",
       "</table>\n",
       "<p>5 rows × 31 columns</p>\n",
       "</div>"
      ],
      "text/plain": [
       "         date                            year exp  score  \\\n",
       "0  2022-08-20  Current Employee, less than 1 year    5.0   \n",
       "1  2022-08-17   Former Employee, less than 1 year    5.0   \n",
       "2  2022-08-10   Former Employee, more than 1 year    5.0   \n",
       "3  2022-08-22   Former Employee, less than 1 year    3.0   \n",
       "4  2022-08-18  Current Employee, more than 1 year    4.0   \n",
       "\n",
       "                                                pros  \\\n",
       "0            flexible working culture, good benefits   \n",
       "1  all people are sooo nice in our team, enjoy wo...   \n",
       "2        Good culture, great team and good benefits!   \n",
       "3  - very fast-paced fintech company, - generous ...   \n",
       "4           Good boss, Modern tech tools, Free lunch   \n",
       "\n",
       "                                                cons               position  \\\n",
       "0  limited learning opportunities and unclear car...     Anonymous Employee   \n",
       "1                       so many meetings in our team           Data Analyst   \n",
       "2  No idea when the company will IPO thus, do not...                Manager   \n",
       "3  - zero work-life balance, too many unnecessary...  Global SOP Enablement   \n",
       "4  Irregular working hours, Excessive workload , ...          Data Engineer   \n",
       "\n",
       "                                             reviews  compound    neg    neu  \\\n",
       "0  flexible, working, culture, good, benefitslimi...    0.6808  0.128  0.385   \n",
       "1  people, sooo, nice, team, enjoy, working, ther...    0.7184  0.000  0.571   \n",
       "2  good, culture, great, team, good, benefitsno, ...    0.8720  0.000  0.548   \n",
       "3  fastpaced, fintech, company, generous, benefit...    0.9383  0.000  0.786   \n",
       "4  good, bos, modern, tech, tool, free, lunchirre...    0.4767  0.153  0.542   \n",
       "\n",
       "   ...  Trust  is_exclusive  is_open  exclusive_openness  \\\n",
       "0  ...      1             0        6                open   \n",
       "1  ...      3             0        5                open   \n",
       "2  ...      4             2       10                open   \n",
       "3  ...      3             0       11                open   \n",
       "4  ...      1             0        3                open   \n",
       "\n",
       "                                         raw_reviews  Introvert_Extrovert  \\\n",
       "0  flexible working culture, good benefitslimited...            Extrovert   \n",
       "1  all people are sooo nice in our team, enjoy wo...            Extrovert   \n",
       "2  Good culture, great team and good benefits!No ...            Extrovert   \n",
       "3  - very fast-paced fintech company, - generous ...            Extrovert   \n",
       "4  Good boss, Modern tech tools, Free lunchIrregu...            Extrovert   \n",
       "\n",
       "   Intuition_Sensing  Thinking_Feeling  Judging_Perceiving  \\\n",
       "0          Intuition          Thinking             Judging   \n",
       "1          Intuition           Feeling          Perceiving   \n",
       "2          Intuition          Thinking             Judging   \n",
       "3          Intuition          Thinking             Judging   \n",
       "4            Sensing          Thinking             Judging   \n",
       "\n",
       "   Innovative_Traditional  \n",
       "0              innovative  \n",
       "1              innovative  \n",
       "2             traditional  \n",
       "3             traditional  \n",
       "4              innovative  \n",
       "\n",
       "[5 rows x 31 columns]"
      ]
     },
     "execution_count": 45,
     "metadata": {},
     "output_type": "execute_result"
    }
   ],
   "source": [
    "company_data.head()"
   ]
  },
  {
   "cell_type": "code",
   "execution_count": 46,
   "metadata": {},
   "outputs": [],
   "source": [
    "company_data['Personality_IE'] = company_data['Introvert_Extrovert'].apply(lambda x: 'I' if x == 'Introvert' else 'E')\n",
    "company_data['Personality_NS'] = company_data['Intuition_Sensing'].apply(lambda x: 'N' if x == 'Intuition' else 'S')\n",
    "company_data['Personality_JP'] = company_data['Judging_Perceiving'].apply(lambda x: 'J' if x == 'Judging' else 'P')\n",
    "company_data['Personality_TF'] = company_data['Thinking_Feeling'].apply(lambda x: 'T' if x == 'Thinking' else 'F')\n",
    "company_data['Personality'] = company_data['Personality_IE'] + company_data['Personality_NS'] + company_data['Personality_JP'] + company_data['Personality_TF']\n",
    "company_data.drop(columns = ['Personality_IE', 'Personality_NS', 'Personality_JP', 'Personality_TF'], inplace = True)"
   ]
  },
  {
   "cell_type": "code",
   "execution_count": 47,
   "metadata": {},
   "outputs": [],
   "source": [
    "n = 5\n",
    "top5_list = company_data['position'].value_counts()[:n].index.tolist()\n",
    "filter_dataframe = company_data[company_data['position'].isin(top5_list)]"
   ]
  },
  {
   "cell_type": "code",
   "execution_count": 48,
   "metadata": {},
   "outputs": [
    {
     "data": {
      "text/html": [
       "<div>\n",
       "<style scoped>\n",
       "    .dataframe tbody tr th:only-of-type {\n",
       "        vertical-align: middle;\n",
       "    }\n",
       "\n",
       "    .dataframe tbody tr th {\n",
       "        vertical-align: top;\n",
       "    }\n",
       "\n",
       "    .dataframe thead th {\n",
       "        text-align: right;\n",
       "    }\n",
       "</style>\n",
       "<table border=\"1\" class=\"dataframe\">\n",
       "  <thead>\n",
       "    <tr style=\"text-align: right;\">\n",
       "      <th></th>\n",
       "      <th>position</th>\n",
       "      <th>score</th>\n",
       "    </tr>\n",
       "  </thead>\n",
       "  <tbody>\n",
       "    <tr>\n",
       "      <th>0</th>\n",
       "      <td>Anonymous Employee</td>\n",
       "      <td>4.10</td>\n",
       "    </tr>\n",
       "    <tr>\n",
       "      <th>1</th>\n",
       "      <td>Content Moderator</td>\n",
       "      <td>4.53</td>\n",
       "    </tr>\n",
       "    <tr>\n",
       "      <th>2</th>\n",
       "      <td>Data Analyst</td>\n",
       "      <td>4.36</td>\n",
       "    </tr>\n",
       "    <tr>\n",
       "      <th>3</th>\n",
       "      <td>Product Manager</td>\n",
       "      <td>3.70</td>\n",
       "    </tr>\n",
       "    <tr>\n",
       "      <th>4</th>\n",
       "      <td>Software Engineer</td>\n",
       "      <td>3.97</td>\n",
       "    </tr>\n",
       "  </tbody>\n",
       "</table>\n",
       "</div>"
      ],
      "text/plain": [
       "             position  score\n",
       "0  Anonymous Employee   4.10\n",
       "1   Content Moderator   4.53\n",
       "2        Data Analyst   4.36\n",
       "3     Product Manager   3.70\n",
       "4   Software Engineer   3.97"
      ]
     },
     "execution_count": 48,
     "metadata": {},
     "output_type": "execute_result"
    }
   ],
   "source": [
    "avg_score_df = filter_dataframe.groupby(['position'])['score'].mean().round(2).reset_index()\n",
    "avg_score_df"
   ]
  },
  {
   "cell_type": "code",
   "execution_count": 60,
   "metadata": {},
   "outputs": [],
   "source": [
    "count_df = filter_dataframe['position'].value_counts().round(2).reset_index()\n",
    "count_df.columns = ['position', 'count']"
   ]
  },
  {
   "cell_type": "code",
   "execution_count": 61,
   "metadata": {},
   "outputs": [
    {
     "name": "stdout",
     "output_type": "stream",
     "text": [
      "             position  score  count\n",
      "0  Anonymous Employee   4.10    136\n",
      "1   Content Moderator   4.53     58\n",
      "2        Data Analyst   4.36     22\n",
      "3     Product Manager   3.70     27\n",
      "4   Software Engineer   3.97     72\n"
     ]
    }
   ],
   "source": [
    "combined_df = pd.merge(avg_score_df, count_df, on = ['position'], how = 'left')\n",
    "print(combined_df)"
   ]
  },
  {
   "cell_type": "code",
   "execution_count": 63,
   "metadata": {},
   "outputs": [
    {
     "data": {
      "text/plain": [
       "[['Anonymous Employee', 4.1, 136],\n",
       " ['Content Moderator', 4.53, 58],\n",
       " ['Data Analyst', 4.36, 22],\n",
       " ['Product Manager', 3.7, 27],\n",
       " ['Software Engineer', 3.97, 72]]"
      ]
     },
     "execution_count": 63,
     "metadata": {},
     "output_type": "execute_result"
    }
   ],
   "source": [
    "combined_df.values.tolist()"
   ]
  },
  {
   "cell_type": "code",
   "execution_count": 72,
   "metadata": {},
   "outputs": [
    {
     "data": {
      "application/vnd.plotly.v1+json": {
       "config": {
        "plotlyServerURL": "https://plot.ly"
       },
       "data": [
        {
         "alignmentgroup": "True",
         "hovertemplate": "position=%{x}<br>count=%{y}<br>score=%{text}<extra></extra>",
         "legendgroup": "",
         "marker": {
          "color": "#636efa",
          "pattern": {
           "shape": ""
          }
         },
         "name": "",
         "offsetgroup": "",
         "orientation": "v",
         "showlegend": false,
         "text": [
          4.1,
          4.53,
          4.36,
          3.7,
          3.97
         ],
         "textposition": "auto",
         "type": "bar",
         "x": [
          "Anonymous Employee",
          "Content Moderator",
          "Data Analyst",
          "Product Manager",
          "Software Engineer"
         ],
         "xaxis": "x",
         "y": [
          136,
          58,
          22,
          27,
          72
         ],
         "yaxis": "y"
        }
       ],
       "layout": {
        "barmode": "relative",
        "legend": {
         "tracegroupgap": 0
        },
        "margin": {
         "t": 60
        },
        "template": {
         "data": {
          "bar": [
           {
            "error_x": {
             "color": "#2a3f5f"
            },
            "error_y": {
             "color": "#2a3f5f"
            },
            "marker": {
             "line": {
              "color": "#E5ECF6",
              "width": 0.5
             },
             "pattern": {
              "fillmode": "overlay",
              "size": 10,
              "solidity": 0.2
             }
            },
            "type": "bar"
           }
          ],
          "barpolar": [
           {
            "marker": {
             "line": {
              "color": "#E5ECF6",
              "width": 0.5
             },
             "pattern": {
              "fillmode": "overlay",
              "size": 10,
              "solidity": 0.2
             }
            },
            "type": "barpolar"
           }
          ],
          "carpet": [
           {
            "aaxis": {
             "endlinecolor": "#2a3f5f",
             "gridcolor": "white",
             "linecolor": "white",
             "minorgridcolor": "white",
             "startlinecolor": "#2a3f5f"
            },
            "baxis": {
             "endlinecolor": "#2a3f5f",
             "gridcolor": "white",
             "linecolor": "white",
             "minorgridcolor": "white",
             "startlinecolor": "#2a3f5f"
            },
            "type": "carpet"
           }
          ],
          "choropleth": [
           {
            "colorbar": {
             "outlinewidth": 0,
             "ticks": ""
            },
            "type": "choropleth"
           }
          ],
          "contour": [
           {
            "colorbar": {
             "outlinewidth": 0,
             "ticks": ""
            },
            "colorscale": [
             [
              0,
              "#0d0887"
             ],
             [
              0.1111111111111111,
              "#46039f"
             ],
             [
              0.2222222222222222,
              "#7201a8"
             ],
             [
              0.3333333333333333,
              "#9c179e"
             ],
             [
              0.4444444444444444,
              "#bd3786"
             ],
             [
              0.5555555555555556,
              "#d8576b"
             ],
             [
              0.6666666666666666,
              "#ed7953"
             ],
             [
              0.7777777777777778,
              "#fb9f3a"
             ],
             [
              0.8888888888888888,
              "#fdca26"
             ],
             [
              1,
              "#f0f921"
             ]
            ],
            "type": "contour"
           }
          ],
          "contourcarpet": [
           {
            "colorbar": {
             "outlinewidth": 0,
             "ticks": ""
            },
            "type": "contourcarpet"
           }
          ],
          "heatmap": [
           {
            "colorbar": {
             "outlinewidth": 0,
             "ticks": ""
            },
            "colorscale": [
             [
              0,
              "#0d0887"
             ],
             [
              0.1111111111111111,
              "#46039f"
             ],
             [
              0.2222222222222222,
              "#7201a8"
             ],
             [
              0.3333333333333333,
              "#9c179e"
             ],
             [
              0.4444444444444444,
              "#bd3786"
             ],
             [
              0.5555555555555556,
              "#d8576b"
             ],
             [
              0.6666666666666666,
              "#ed7953"
             ],
             [
              0.7777777777777778,
              "#fb9f3a"
             ],
             [
              0.8888888888888888,
              "#fdca26"
             ],
             [
              1,
              "#f0f921"
             ]
            ],
            "type": "heatmap"
           }
          ],
          "heatmapgl": [
           {
            "colorbar": {
             "outlinewidth": 0,
             "ticks": ""
            },
            "colorscale": [
             [
              0,
              "#0d0887"
             ],
             [
              0.1111111111111111,
              "#46039f"
             ],
             [
              0.2222222222222222,
              "#7201a8"
             ],
             [
              0.3333333333333333,
              "#9c179e"
             ],
             [
              0.4444444444444444,
              "#bd3786"
             ],
             [
              0.5555555555555556,
              "#d8576b"
             ],
             [
              0.6666666666666666,
              "#ed7953"
             ],
             [
              0.7777777777777778,
              "#fb9f3a"
             ],
             [
              0.8888888888888888,
              "#fdca26"
             ],
             [
              1,
              "#f0f921"
             ]
            ],
            "type": "heatmapgl"
           }
          ],
          "histogram": [
           {
            "marker": {
             "pattern": {
              "fillmode": "overlay",
              "size": 10,
              "solidity": 0.2
             }
            },
            "type": "histogram"
           }
          ],
          "histogram2d": [
           {
            "colorbar": {
             "outlinewidth": 0,
             "ticks": ""
            },
            "colorscale": [
             [
              0,
              "#0d0887"
             ],
             [
              0.1111111111111111,
              "#46039f"
             ],
             [
              0.2222222222222222,
              "#7201a8"
             ],
             [
              0.3333333333333333,
              "#9c179e"
             ],
             [
              0.4444444444444444,
              "#bd3786"
             ],
             [
              0.5555555555555556,
              "#d8576b"
             ],
             [
              0.6666666666666666,
              "#ed7953"
             ],
             [
              0.7777777777777778,
              "#fb9f3a"
             ],
             [
              0.8888888888888888,
              "#fdca26"
             ],
             [
              1,
              "#f0f921"
             ]
            ],
            "type": "histogram2d"
           }
          ],
          "histogram2dcontour": [
           {
            "colorbar": {
             "outlinewidth": 0,
             "ticks": ""
            },
            "colorscale": [
             [
              0,
              "#0d0887"
             ],
             [
              0.1111111111111111,
              "#46039f"
             ],
             [
              0.2222222222222222,
              "#7201a8"
             ],
             [
              0.3333333333333333,
              "#9c179e"
             ],
             [
              0.4444444444444444,
              "#bd3786"
             ],
             [
              0.5555555555555556,
              "#d8576b"
             ],
             [
              0.6666666666666666,
              "#ed7953"
             ],
             [
              0.7777777777777778,
              "#fb9f3a"
             ],
             [
              0.8888888888888888,
              "#fdca26"
             ],
             [
              1,
              "#f0f921"
             ]
            ],
            "type": "histogram2dcontour"
           }
          ],
          "mesh3d": [
           {
            "colorbar": {
             "outlinewidth": 0,
             "ticks": ""
            },
            "type": "mesh3d"
           }
          ],
          "parcoords": [
           {
            "line": {
             "colorbar": {
              "outlinewidth": 0,
              "ticks": ""
             }
            },
            "type": "parcoords"
           }
          ],
          "pie": [
           {
            "automargin": true,
            "type": "pie"
           }
          ],
          "scatter": [
           {
            "marker": {
             "colorbar": {
              "outlinewidth": 0,
              "ticks": ""
             }
            },
            "type": "scatter"
           }
          ],
          "scatter3d": [
           {
            "line": {
             "colorbar": {
              "outlinewidth": 0,
              "ticks": ""
             }
            },
            "marker": {
             "colorbar": {
              "outlinewidth": 0,
              "ticks": ""
             }
            },
            "type": "scatter3d"
           }
          ],
          "scattercarpet": [
           {
            "marker": {
             "colorbar": {
              "outlinewidth": 0,
              "ticks": ""
             }
            },
            "type": "scattercarpet"
           }
          ],
          "scattergeo": [
           {
            "marker": {
             "colorbar": {
              "outlinewidth": 0,
              "ticks": ""
             }
            },
            "type": "scattergeo"
           }
          ],
          "scattergl": [
           {
            "marker": {
             "colorbar": {
              "outlinewidth": 0,
              "ticks": ""
             }
            },
            "type": "scattergl"
           }
          ],
          "scattermapbox": [
           {
            "marker": {
             "colorbar": {
              "outlinewidth": 0,
              "ticks": ""
             }
            },
            "type": "scattermapbox"
           }
          ],
          "scatterpolar": [
           {
            "marker": {
             "colorbar": {
              "outlinewidth": 0,
              "ticks": ""
             }
            },
            "type": "scatterpolar"
           }
          ],
          "scatterpolargl": [
           {
            "marker": {
             "colorbar": {
              "outlinewidth": 0,
              "ticks": ""
             }
            },
            "type": "scatterpolargl"
           }
          ],
          "scatterternary": [
           {
            "marker": {
             "colorbar": {
              "outlinewidth": 0,
              "ticks": ""
             }
            },
            "type": "scatterternary"
           }
          ],
          "surface": [
           {
            "colorbar": {
             "outlinewidth": 0,
             "ticks": ""
            },
            "colorscale": [
             [
              0,
              "#0d0887"
             ],
             [
              0.1111111111111111,
              "#46039f"
             ],
             [
              0.2222222222222222,
              "#7201a8"
             ],
             [
              0.3333333333333333,
              "#9c179e"
             ],
             [
              0.4444444444444444,
              "#bd3786"
             ],
             [
              0.5555555555555556,
              "#d8576b"
             ],
             [
              0.6666666666666666,
              "#ed7953"
             ],
             [
              0.7777777777777778,
              "#fb9f3a"
             ],
             [
              0.8888888888888888,
              "#fdca26"
             ],
             [
              1,
              "#f0f921"
             ]
            ],
            "type": "surface"
           }
          ],
          "table": [
           {
            "cells": {
             "fill": {
              "color": "#EBF0F8"
             },
             "line": {
              "color": "white"
             }
            },
            "header": {
             "fill": {
              "color": "#C8D4E3"
             },
             "line": {
              "color": "white"
             }
            },
            "type": "table"
           }
          ]
         },
         "layout": {
          "annotationdefaults": {
           "arrowcolor": "#2a3f5f",
           "arrowhead": 0,
           "arrowwidth": 1
          },
          "autotypenumbers": "strict",
          "coloraxis": {
           "colorbar": {
            "outlinewidth": 0,
            "ticks": ""
           }
          },
          "colorscale": {
           "diverging": [
            [
             0,
             "#8e0152"
            ],
            [
             0.1,
             "#c51b7d"
            ],
            [
             0.2,
             "#de77ae"
            ],
            [
             0.3,
             "#f1b6da"
            ],
            [
             0.4,
             "#fde0ef"
            ],
            [
             0.5,
             "#f7f7f7"
            ],
            [
             0.6,
             "#e6f5d0"
            ],
            [
             0.7,
             "#b8e186"
            ],
            [
             0.8,
             "#7fbc41"
            ],
            [
             0.9,
             "#4d9221"
            ],
            [
             1,
             "#276419"
            ]
           ],
           "sequential": [
            [
             0,
             "#0d0887"
            ],
            [
             0.1111111111111111,
             "#46039f"
            ],
            [
             0.2222222222222222,
             "#7201a8"
            ],
            [
             0.3333333333333333,
             "#9c179e"
            ],
            [
             0.4444444444444444,
             "#bd3786"
            ],
            [
             0.5555555555555556,
             "#d8576b"
            ],
            [
             0.6666666666666666,
             "#ed7953"
            ],
            [
             0.7777777777777778,
             "#fb9f3a"
            ],
            [
             0.8888888888888888,
             "#fdca26"
            ],
            [
             1,
             "#f0f921"
            ]
           ],
           "sequentialminus": [
            [
             0,
             "#0d0887"
            ],
            [
             0.1111111111111111,
             "#46039f"
            ],
            [
             0.2222222222222222,
             "#7201a8"
            ],
            [
             0.3333333333333333,
             "#9c179e"
            ],
            [
             0.4444444444444444,
             "#bd3786"
            ],
            [
             0.5555555555555556,
             "#d8576b"
            ],
            [
             0.6666666666666666,
             "#ed7953"
            ],
            [
             0.7777777777777778,
             "#fb9f3a"
            ],
            [
             0.8888888888888888,
             "#fdca26"
            ],
            [
             1,
             "#f0f921"
            ]
           ]
          },
          "colorway": [
           "#636efa",
           "#EF553B",
           "#00cc96",
           "#ab63fa",
           "#FFA15A",
           "#19d3f3",
           "#FF6692",
           "#B6E880",
           "#FF97FF",
           "#FECB52"
          ],
          "font": {
           "color": "#2a3f5f"
          },
          "geo": {
           "bgcolor": "white",
           "lakecolor": "white",
           "landcolor": "#E5ECF6",
           "showlakes": true,
           "showland": true,
           "subunitcolor": "white"
          },
          "hoverlabel": {
           "align": "left"
          },
          "hovermode": "closest",
          "mapbox": {
           "style": "light"
          },
          "paper_bgcolor": "white",
          "plot_bgcolor": "#E5ECF6",
          "polar": {
           "angularaxis": {
            "gridcolor": "white",
            "linecolor": "white",
            "ticks": ""
           },
           "bgcolor": "#E5ECF6",
           "radialaxis": {
            "gridcolor": "white",
            "linecolor": "white",
            "ticks": ""
           }
          },
          "scene": {
           "xaxis": {
            "backgroundcolor": "#E5ECF6",
            "gridcolor": "white",
            "gridwidth": 2,
            "linecolor": "white",
            "showbackground": true,
            "ticks": "",
            "zerolinecolor": "white"
           },
           "yaxis": {
            "backgroundcolor": "#E5ECF6",
            "gridcolor": "white",
            "gridwidth": 2,
            "linecolor": "white",
            "showbackground": true,
            "ticks": "",
            "zerolinecolor": "white"
           },
           "zaxis": {
            "backgroundcolor": "#E5ECF6",
            "gridcolor": "white",
            "gridwidth": 2,
            "linecolor": "white",
            "showbackground": true,
            "ticks": "",
            "zerolinecolor": "white"
           }
          },
          "shapedefaults": {
           "line": {
            "color": "#2a3f5f"
           }
          },
          "ternary": {
           "aaxis": {
            "gridcolor": "white",
            "linecolor": "white",
            "ticks": ""
           },
           "baxis": {
            "gridcolor": "white",
            "linecolor": "white",
            "ticks": ""
           },
           "bgcolor": "#E5ECF6",
           "caxis": {
            "gridcolor": "white",
            "linecolor": "white",
            "ticks": ""
           }
          },
          "title": {
           "x": 0.05
          },
          "xaxis": {
           "automargin": true,
           "gridcolor": "white",
           "linecolor": "white",
           "ticks": "",
           "title": {
            "standoff": 15
           },
           "zerolinecolor": "white",
           "zerolinewidth": 2
          },
          "yaxis": {
           "automargin": true,
           "gridcolor": "white",
           "linecolor": "white",
           "ticks": "",
           "title": {
            "standoff": 15
           },
           "zerolinecolor": "white",
           "zerolinewidth": 2
          }
         }
        },
        "xaxis": {
         "anchor": "y",
         "categoryorder": "total descending",
         "domain": [
          0,
          1
         ],
         "title": {
          "text": "position"
         }
        },
        "yaxis": {
         "anchor": "x",
         "domain": [
          0,
          1
         ],
         "title": {
          "text": "count"
         }
        }
       }
      }
     },
     "metadata": {},
     "output_type": "display_data"
    }
   ],
   "source": [
    "import plotly.express as px\n",
    "\n",
    "fig = px.bar(combined_df, x=\"position\", y=\"count\", text=\"score\")\n",
    "fig.update_layout(xaxis={'categoryorder':'total descending'})\n",
    "fig.show()"
   ]
  },
  {
   "cell_type": "code",
   "execution_count": 73,
   "metadata": {},
   "outputs": [
    {
     "data": {
      "text/html": [
       "<div>\n",
       "<style scoped>\n",
       "    .dataframe tbody tr th:only-of-type {\n",
       "        vertical-align: middle;\n",
       "    }\n",
       "\n",
       "    .dataframe tbody tr th {\n",
       "        vertical-align: top;\n",
       "    }\n",
       "\n",
       "    .dataframe thead th {\n",
       "        text-align: right;\n",
       "    }\n",
       "</style>\n",
       "<table border=\"1\" class=\"dataframe\">\n",
       "  <thead>\n",
       "    <tr style=\"text-align: right;\">\n",
       "      <th></th>\n",
       "      <th>date</th>\n",
       "      <th>year exp</th>\n",
       "      <th>score</th>\n",
       "      <th>pros</th>\n",
       "      <th>cons</th>\n",
       "      <th>position</th>\n",
       "      <th>reviews</th>\n",
       "      <th>compound</th>\n",
       "      <th>neg</th>\n",
       "      <th>neu</th>\n",
       "      <th>...</th>\n",
       "      <th>is_exclusive</th>\n",
       "      <th>is_open</th>\n",
       "      <th>exclusive_openness</th>\n",
       "      <th>raw_reviews</th>\n",
       "      <th>Introvert_Extrovert</th>\n",
       "      <th>Intuition_Sensing</th>\n",
       "      <th>Thinking_Feeling</th>\n",
       "      <th>Judging_Perceiving</th>\n",
       "      <th>Innovative_Traditional</th>\n",
       "      <th>Personality</th>\n",
       "    </tr>\n",
       "  </thead>\n",
       "  <tbody>\n",
       "    <tr>\n",
       "      <th>0</th>\n",
       "      <td>2022-08-20</td>\n",
       "      <td>Current Employee, less than 1 year</td>\n",
       "      <td>5.0</td>\n",
       "      <td>flexible working culture, good benefits</td>\n",
       "      <td>limited learning opportunities and unclear car...</td>\n",
       "      <td>Anonymous Employee</td>\n",
       "      <td>flexible, working, culture, good, benefitslimi...</td>\n",
       "      <td>0.6808</td>\n",
       "      <td>0.128</td>\n",
       "      <td>0.385</td>\n",
       "      <td>...</td>\n",
       "      <td>0</td>\n",
       "      <td>6</td>\n",
       "      <td>open</td>\n",
       "      <td>flexible working culture, good benefitslimited...</td>\n",
       "      <td>Extrovert</td>\n",
       "      <td>Intuition</td>\n",
       "      <td>Thinking</td>\n",
       "      <td>Judging</td>\n",
       "      <td>innovative</td>\n",
       "      <td>ENJT</td>\n",
       "    </tr>\n",
       "    <tr>\n",
       "      <th>1</th>\n",
       "      <td>2022-08-17</td>\n",
       "      <td>Former Employee, less than 1 year</td>\n",
       "      <td>5.0</td>\n",
       "      <td>all people are sooo nice in our team, enjoy wo...</td>\n",
       "      <td>so many meetings in our team</td>\n",
       "      <td>Data Analyst</td>\n",
       "      <td>people, sooo, nice, team, enjoy, working, ther...</td>\n",
       "      <td>0.7184</td>\n",
       "      <td>0.000</td>\n",
       "      <td>0.571</td>\n",
       "      <td>...</td>\n",
       "      <td>0</td>\n",
       "      <td>5</td>\n",
       "      <td>open</td>\n",
       "      <td>all people are sooo nice in our team, enjoy wo...</td>\n",
       "      <td>Extrovert</td>\n",
       "      <td>Intuition</td>\n",
       "      <td>Feeling</td>\n",
       "      <td>Perceiving</td>\n",
       "      <td>innovative</td>\n",
       "      <td>ENPF</td>\n",
       "    </tr>\n",
       "    <tr>\n",
       "      <th>2</th>\n",
       "      <td>2022-08-10</td>\n",
       "      <td>Former Employee, more than 1 year</td>\n",
       "      <td>5.0</td>\n",
       "      <td>Good culture, great team and good benefits!</td>\n",
       "      <td>No idea when the company will IPO thus, do not...</td>\n",
       "      <td>Manager</td>\n",
       "      <td>good, culture, great, team, good, benefitsno, ...</td>\n",
       "      <td>0.8720</td>\n",
       "      <td>0.000</td>\n",
       "      <td>0.548</td>\n",
       "      <td>...</td>\n",
       "      <td>2</td>\n",
       "      <td>10</td>\n",
       "      <td>open</td>\n",
       "      <td>Good culture, great team and good benefits!No ...</td>\n",
       "      <td>Extrovert</td>\n",
       "      <td>Intuition</td>\n",
       "      <td>Thinking</td>\n",
       "      <td>Judging</td>\n",
       "      <td>traditional</td>\n",
       "      <td>ENJT</td>\n",
       "    </tr>\n",
       "    <tr>\n",
       "      <th>3</th>\n",
       "      <td>2022-08-22</td>\n",
       "      <td>Former Employee, less than 1 year</td>\n",
       "      <td>3.0</td>\n",
       "      <td>- very fast-paced fintech company, - generous ...</td>\n",
       "      <td>- zero work-life balance, too many unnecessary...</td>\n",
       "      <td>Global SOP Enablement</td>\n",
       "      <td>fastpaced, fintech, company, generous, benefit...</td>\n",
       "      <td>0.9383</td>\n",
       "      <td>0.000</td>\n",
       "      <td>0.786</td>\n",
       "      <td>...</td>\n",
       "      <td>0</td>\n",
       "      <td>11</td>\n",
       "      <td>open</td>\n",
       "      <td>- very fast-paced fintech company, - generous ...</td>\n",
       "      <td>Extrovert</td>\n",
       "      <td>Intuition</td>\n",
       "      <td>Thinking</td>\n",
       "      <td>Judging</td>\n",
       "      <td>traditional</td>\n",
       "      <td>ENJT</td>\n",
       "    </tr>\n",
       "    <tr>\n",
       "      <th>4</th>\n",
       "      <td>2022-08-18</td>\n",
       "      <td>Current Employee, more than 1 year</td>\n",
       "      <td>4.0</td>\n",
       "      <td>Good boss, Modern tech tools, Free lunch</td>\n",
       "      <td>Irregular working hours, Excessive workload , ...</td>\n",
       "      <td>Data Engineer</td>\n",
       "      <td>good, bos, modern, tech, tool, free, lunchirre...</td>\n",
       "      <td>0.4767</td>\n",
       "      <td>0.153</td>\n",
       "      <td>0.542</td>\n",
       "      <td>...</td>\n",
       "      <td>0</td>\n",
       "      <td>3</td>\n",
       "      <td>open</td>\n",
       "      <td>Good boss, Modern tech tools, Free lunchIrregu...</td>\n",
       "      <td>Extrovert</td>\n",
       "      <td>Sensing</td>\n",
       "      <td>Thinking</td>\n",
       "      <td>Judging</td>\n",
       "      <td>innovative</td>\n",
       "      <td>ESJT</td>\n",
       "    </tr>\n",
       "    <tr>\n",
       "      <th>...</th>\n",
       "      <td>...</td>\n",
       "      <td>...</td>\n",
       "      <td>...</td>\n",
       "      <td>...</td>\n",
       "      <td>...</td>\n",
       "      <td>...</td>\n",
       "      <td>...</td>\n",
       "      <td>...</td>\n",
       "      <td>...</td>\n",
       "      <td>...</td>\n",
       "      <td>...</td>\n",
       "      <td>...</td>\n",
       "      <td>...</td>\n",
       "      <td>...</td>\n",
       "      <td>...</td>\n",
       "      <td>...</td>\n",
       "      <td>...</td>\n",
       "      <td>...</td>\n",
       "      <td>...</td>\n",
       "      <td>...</td>\n",
       "      <td>...</td>\n",
       "    </tr>\n",
       "    <tr>\n",
       "      <th>965</th>\n",
       "      <td>2021-03-19</td>\n",
       "      <td>Current Employee</td>\n",
       "      <td>4.0</td>\n",
       "      <td>Everything is just more than awesome</td>\n",
       "      <td>Nothing is that needed change</td>\n",
       "      <td>Senior Manager</td>\n",
       "      <td>everything, awesomenothing, needed, change</td>\n",
       "      <td>0.0000</td>\n",
       "      <td>0.000</td>\n",
       "      <td>1.000</td>\n",
       "      <td>...</td>\n",
       "      <td>0</td>\n",
       "      <td>0</td>\n",
       "      <td>open</td>\n",
       "      <td>Everything is just more than awesomeNothing is...</td>\n",
       "      <td>Extrovert</td>\n",
       "      <td>Sensing</td>\n",
       "      <td>Feeling</td>\n",
       "      <td>Judging</td>\n",
       "      <td>traditional</td>\n",
       "      <td>ESJF</td>\n",
       "    </tr>\n",
       "    <tr>\n",
       "      <th>966</th>\n",
       "      <td>2021-03-04</td>\n",
       "      <td>Former Employee</td>\n",
       "      <td>5.0</td>\n",
       "      <td>really great working environment there in</td>\n",
       "      <td>but it is too busy with a great working load</td>\n",
       "      <td>Researcher</td>\n",
       "      <td>really, great, working, environment, inbut, bu...</td>\n",
       "      <td>0.8588</td>\n",
       "      <td>0.000</td>\n",
       "      <td>0.452</td>\n",
       "      <td>...</td>\n",
       "      <td>0</td>\n",
       "      <td>0</td>\n",
       "      <td>open</td>\n",
       "      <td>really great working environment there inbut i...</td>\n",
       "      <td>Extrovert</td>\n",
       "      <td>Sensing</td>\n",
       "      <td>Feeling</td>\n",
       "      <td>Judging</td>\n",
       "      <td>innovative</td>\n",
       "      <td>ESJF</td>\n",
       "    </tr>\n",
       "    <tr>\n",
       "      <th>967</th>\n",
       "      <td>2021-03-05</td>\n",
       "      <td>Former Employee</td>\n",
       "      <td>5.0</td>\n",
       "      <td>friendly atmosphere, take care of employee nee...</td>\n",
       "      <td>there is nothing to share for it</td>\n",
       "      <td>Anonymous Employee</td>\n",
       "      <td>friendly, atmosphere, take, care, employee, ne...</td>\n",
       "      <td>0.8486</td>\n",
       "      <td>0.099</td>\n",
       "      <td>0.369</td>\n",
       "      <td>...</td>\n",
       "      <td>0</td>\n",
       "      <td>5</td>\n",
       "      <td>open</td>\n",
       "      <td>friendly atmosphere, take care of employee nee...</td>\n",
       "      <td>Extrovert</td>\n",
       "      <td>Sensing</td>\n",
       "      <td>Feeling</td>\n",
       "      <td>Judging</td>\n",
       "      <td>traditional</td>\n",
       "      <td>ESJF</td>\n",
       "    </tr>\n",
       "    <tr>\n",
       "      <th>968</th>\n",
       "      <td>2021-03-18</td>\n",
       "      <td>Current Employee, less than 1 year</td>\n",
       "      <td>4.0</td>\n",
       "      <td>Good salary, career growth opportunities, frie...</td>\n",
       "      <td>Fast-paced and competitive environment with fr...</td>\n",
       "      <td>Community Content Management Specialist</td>\n",
       "      <td>good, salary, career, growth, opportunity, fri...</td>\n",
       "      <td>0.9337</td>\n",
       "      <td>0.000</td>\n",
       "      <td>0.303</td>\n",
       "      <td>...</td>\n",
       "      <td>0</td>\n",
       "      <td>6</td>\n",
       "      <td>open</td>\n",
       "      <td>Good salary, career growth opportunities, frie...</td>\n",
       "      <td>Extrovert</td>\n",
       "      <td>Intuition</td>\n",
       "      <td>Thinking</td>\n",
       "      <td>Judging</td>\n",
       "      <td>traditional</td>\n",
       "      <td>ENJT</td>\n",
       "    </tr>\n",
       "    <tr>\n",
       "      <th>969</th>\n",
       "      <td>2021-03-04</td>\n",
       "      <td>Current Employee, less than 1 year</td>\n",
       "      <td>5.0</td>\n",
       "      <td>Culture, People, Leadership, Products, Work Li...</td>\n",
       "      <td>Dint find anything. Superbly amazing company t...</td>\n",
       "      <td>Client Solutions Manager</td>\n",
       "      <td>culture, people, leadership, product, work, li...</td>\n",
       "      <td>0.5859</td>\n",
       "      <td>0.000</td>\n",
       "      <td>0.759</td>\n",
       "      <td>...</td>\n",
       "      <td>0</td>\n",
       "      <td>0</td>\n",
       "      <td>open</td>\n",
       "      <td>Culture, People, Leadership, Products, Work Li...</td>\n",
       "      <td>Extrovert</td>\n",
       "      <td>Sensing</td>\n",
       "      <td>Feeling</td>\n",
       "      <td>Judging</td>\n",
       "      <td>innovative</td>\n",
       "      <td>ESJF</td>\n",
       "    </tr>\n",
       "  </tbody>\n",
       "</table>\n",
       "<p>970 rows × 32 columns</p>\n",
       "</div>"
      ],
      "text/plain": [
       "           date                            year exp  score  \\\n",
       "0    2022-08-20  Current Employee, less than 1 year    5.0   \n",
       "1    2022-08-17   Former Employee, less than 1 year    5.0   \n",
       "2    2022-08-10   Former Employee, more than 1 year    5.0   \n",
       "3    2022-08-22   Former Employee, less than 1 year    3.0   \n",
       "4    2022-08-18  Current Employee, more than 1 year    4.0   \n",
       "..          ...                                 ...    ...   \n",
       "965  2021-03-19                    Current Employee    4.0   \n",
       "966  2021-03-04                     Former Employee    5.0   \n",
       "967  2021-03-05                     Former Employee    5.0   \n",
       "968  2021-03-18  Current Employee, less than 1 year    4.0   \n",
       "969  2021-03-04  Current Employee, less than 1 year    5.0   \n",
       "\n",
       "                                                  pros  \\\n",
       "0              flexible working culture, good benefits   \n",
       "1    all people are sooo nice in our team, enjoy wo...   \n",
       "2          Good culture, great team and good benefits!   \n",
       "3    - very fast-paced fintech company, - generous ...   \n",
       "4             Good boss, Modern tech tools, Free lunch   \n",
       "..                                                 ...   \n",
       "965               Everything is just more than awesome   \n",
       "966          really great working environment there in   \n",
       "967  friendly atmosphere, take care of employee nee...   \n",
       "968  Good salary, career growth opportunities, frie...   \n",
       "969  Culture, People, Leadership, Products, Work Li...   \n",
       "\n",
       "                                                  cons  \\\n",
       "0    limited learning opportunities and unclear car...   \n",
       "1                         so many meetings in our team   \n",
       "2    No idea when the company will IPO thus, do not...   \n",
       "3    - zero work-life balance, too many unnecessary...   \n",
       "4    Irregular working hours, Excessive workload , ...   \n",
       "..                                                 ...   \n",
       "965                      Nothing is that needed change   \n",
       "966       but it is too busy with a great working load   \n",
       "967                   there is nothing to share for it   \n",
       "968  Fast-paced and competitive environment with fr...   \n",
       "969  Dint find anything. Superbly amazing company t...   \n",
       "\n",
       "                                    position  \\\n",
       "0                         Anonymous Employee   \n",
       "1                               Data Analyst   \n",
       "2                                    Manager   \n",
       "3                      Global SOP Enablement   \n",
       "4                              Data Engineer   \n",
       "..                                       ...   \n",
       "965                           Senior Manager   \n",
       "966                               Researcher   \n",
       "967                       Anonymous Employee   \n",
       "968  Community Content Management Specialist   \n",
       "969                 Client Solutions Manager   \n",
       "\n",
       "                                               reviews  compound    neg  \\\n",
       "0    flexible, working, culture, good, benefitslimi...    0.6808  0.128   \n",
       "1    people, sooo, nice, team, enjoy, working, ther...    0.7184  0.000   \n",
       "2    good, culture, great, team, good, benefitsno, ...    0.8720  0.000   \n",
       "3    fastpaced, fintech, company, generous, benefit...    0.9383  0.000   \n",
       "4    good, bos, modern, tech, tool, free, lunchirre...    0.4767  0.153   \n",
       "..                                                 ...       ...    ...   \n",
       "965         everything, awesomenothing, needed, change    0.0000  0.000   \n",
       "966  really, great, working, environment, inbut, bu...    0.8588  0.000   \n",
       "967  friendly, atmosphere, take, care, employee, ne...    0.8486  0.099   \n",
       "968  good, salary, career, growth, opportunity, fri...    0.9337  0.000   \n",
       "969  culture, people, leadership, product, work, li...    0.5859  0.000   \n",
       "\n",
       "       neu  ...  is_exclusive  is_open  exclusive_openness  \\\n",
       "0    0.385  ...             0        6                open   \n",
       "1    0.571  ...             0        5                open   \n",
       "2    0.548  ...             2       10                open   \n",
       "3    0.786  ...             0       11                open   \n",
       "4    0.542  ...             0        3                open   \n",
       "..     ...  ...           ...      ...                 ...   \n",
       "965  1.000  ...             0        0                open   \n",
       "966  0.452  ...             0        0                open   \n",
       "967  0.369  ...             0        5                open   \n",
       "968  0.303  ...             0        6                open   \n",
       "969  0.759  ...             0        0                open   \n",
       "\n",
       "                                           raw_reviews  Introvert_Extrovert  \\\n",
       "0    flexible working culture, good benefitslimited...            Extrovert   \n",
       "1    all people are sooo nice in our team, enjoy wo...            Extrovert   \n",
       "2    Good culture, great team and good benefits!No ...            Extrovert   \n",
       "3    - very fast-paced fintech company, - generous ...            Extrovert   \n",
       "4    Good boss, Modern tech tools, Free lunchIrregu...            Extrovert   \n",
       "..                                                 ...                  ...   \n",
       "965  Everything is just more than awesomeNothing is...            Extrovert   \n",
       "966  really great working environment there inbut i...            Extrovert   \n",
       "967  friendly atmosphere, take care of employee nee...            Extrovert   \n",
       "968  Good salary, career growth opportunities, frie...            Extrovert   \n",
       "969  Culture, People, Leadership, Products, Work Li...            Extrovert   \n",
       "\n",
       "     Intuition_Sensing  Thinking_Feeling  Judging_Perceiving  \\\n",
       "0            Intuition          Thinking             Judging   \n",
       "1            Intuition           Feeling          Perceiving   \n",
       "2            Intuition          Thinking             Judging   \n",
       "3            Intuition          Thinking             Judging   \n",
       "4              Sensing          Thinking             Judging   \n",
       "..                 ...               ...                 ...   \n",
       "965            Sensing           Feeling             Judging   \n",
       "966            Sensing           Feeling             Judging   \n",
       "967            Sensing           Feeling             Judging   \n",
       "968          Intuition          Thinking             Judging   \n",
       "969            Sensing           Feeling             Judging   \n",
       "\n",
       "     Innovative_Traditional  Personality  \n",
       "0                innovative         ENJT  \n",
       "1                innovative         ENPF  \n",
       "2               traditional         ENJT  \n",
       "3               traditional         ENJT  \n",
       "4                innovative         ESJT  \n",
       "..                      ...          ...  \n",
       "965             traditional         ESJF  \n",
       "966              innovative         ESJF  \n",
       "967             traditional         ESJF  \n",
       "968             traditional         ENJT  \n",
       "969              innovative         ESJF  \n",
       "\n",
       "[970 rows x 32 columns]"
      ]
     },
     "execution_count": 73,
     "metadata": {},
     "output_type": "execute_result"
    }
   ],
   "source": [
    "company_data"
   ]
  },
  {
   "cell_type": "code",
   "execution_count": null,
   "metadata": {},
   "outputs": [],
   "source": []
  }
 ],
 "metadata": {
  "kernelspec": {
   "display_name": "Python 3.8.10 64-bit",
   "language": "python",
   "name": "python3"
  },
  "language_info": {
   "codemirror_mode": {
    "name": "ipython",
    "version": 3
   },
   "file_extension": ".py",
   "mimetype": "text/x-python",
   "name": "python",
   "nbconvert_exporter": "python",
   "pygments_lexer": "ipython3",
   "version": "3.8.10"
  },
  "orig_nbformat": 4,
  "vscode": {
   "interpreter": {
    "hash": "374c3afa243f80509a83f958808c0601a5aff37a996a9d3a1feb5fb786c64e8a"
   }
  }
 },
 "nbformat": 4,
 "nbformat_minor": 2
}
